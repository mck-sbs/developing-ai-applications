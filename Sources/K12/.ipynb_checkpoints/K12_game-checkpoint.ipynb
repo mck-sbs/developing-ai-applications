{
 "cells": [
  {
   "cell_type": "code",
   "execution_count": null,
   "id": "34cc0c20-5d4f-4eb0-9c8b-0b183cd237e3",
   "metadata": {},
   "outputs": [],
   "source": [
    "import random\n",
    "\n",
    "gamma = 0.9\n",
    "learning_rate = 0.1\n",
    "\n",
    "ACTION_LEFT = 0\n",
    "ACTION_RIGHT = 1\n",
    "TRAINING_ROUNDS = 1000"
   ]
  },
  {
   "cell_type": "code",
   "execution_count": null,
   "id": "af5812ed-5ee0-4321-8eb1-0ab761e126ff",
   "metadata": {},
   "outputs": [],
   "source": [
    "reward = [[0, 0],[100, 0],[0, -100],[0, 0],[-100, 0],[0, 0],[0, 0],[0, 0],[0, 100],[0, 0]]\n",
    "\n",
    "q_table = [[0, 0],[0, 0],[0, 0],[0, 0],[0, 0],[0, 0],[0, 0],[0, 0],[0, 0],[0, 0]]\n",
    "\n",
    "gameOver_states = [0,3,9]"
   ]
  },
  {
   "cell_type": "code",
   "execution_count": null,
   "id": "85abbf84-0c2e-4b35-9ab0-524a3432e24e",
   "metadata": {},
   "outputs": [],
   "source": [
    "def getNextAction(state):\n",
    "    if state == 0:\n",
    "        action = ACTION_RIGHT \n",
    "    elif state == len(q_table)-1:\n",
    "        action = ACTION_LEFT\n",
    "    else:\n",
    "        action = random.choice([ACTION_LEFT,ACTION_RIGHT])\n",
    "    return action\n",
    "\n",
    "def getNextState(state, action):\n",
    "    if action == ACTION_LEFT:\n",
    "        return state - 1\n",
    "    else:\n",
    "        return state + 1\n",
    "    \n",
    "def isGameOver(state):\n",
    "    return state in gameOver_states"
   ]
  },
  {
   "cell_type": "markdown",
   "id": "84e4fcd5-cabd-40de-ae7f-26ee8c667d0b",
   "metadata": {},
   "source": [
    "Training"
   ]
  },
  {
   "cell_type": "code",
   "execution_count": null,
   "id": "7c82ab6e-065f-4af7-bb9b-01a278b0e81b",
   "metadata": {},
   "outputs": [],
   "source": [
    "for i in range(TRAINING_ROUNDS):\n",
    "    # Startposition einnehmen\n",
    "    state = random.choice(range(len(q_table)))\n",
    "\n",
    "    while not isGameOver(state):\n",
    "       \n",
    "        action = getNextAction(state)\n",
    "        next_state = getNextState(state, action)\n",
    "        \n",
    "        q_table[state][action] = q_table[state][action] + learning_rate * (reward[state][action] + \n",
    "            gamma * max(q_table[next_state]) - q_table[state][action])\n",
    "      \n",
    "        state = next_state\n",
    "\n",
    "print(q_table)"
   ]
  },
  {
   "cell_type": "code",
   "execution_count": null,
   "id": "a7a2938a-6789-4b71-af97-d7a8133a0814",
   "metadata": {},
   "outputs": [],
   "source": [
    "def getNextActionPlay(state):\n",
    "    if state == 0:\n",
    "        action = ACTION_RIGHT \n",
    "    elif state == len(q_table)-1:\n",
    "        action = ACTION_LEFT\n",
    "    else:\n",
    "        action = max(q_table[state])\n",
    "    return action"
   ]
  },
  {
   "cell_type": "raw",
   "id": "8abeeab1-cd96-4abc-ae26-4c286413c07a",
   "metadata": {},
   "source": [
    "Test"
   ]
  },
  {
   "cell_type": "code",
   "execution_count": null,
   "id": "30fad915-9989-4a6b-b504-a56e57909acb",
   "metadata": {},
   "outputs": [],
   "source": [
    "state = random.choice(range(len(q_table)))\n",
    "print(\"Starting position:\", state)\n",
    "\n",
    "while not isGameOver(state):\n",
    "    action = getNextActionPlay(state)\n",
    "    next_state = getNextState(state, action)\n",
    "    state = next_state\n",
    "    \n",
    "    print(\"Position:\", state)"
   ]
  },
  {
   "cell_type": "code",
   "execution_count": null,
   "id": "1f6403a9-1e8e-4e00-97f1-723efab60559",
   "metadata": {},
   "outputs": [],
   "source": []
  }
 ],
 "metadata": {
  "kernelspec": {
   "display_name": "Python 3 (ipykernel)",
   "language": "python",
   "name": "python3"
  },
  "language_info": {
   "codemirror_mode": {
    "name": "ipython",
    "version": 3
   },
   "file_extension": ".py",
   "mimetype": "text/x-python",
   "name": "python",
   "nbconvert_exporter": "python",
   "pygments_lexer": "ipython3",
   "version": "3.10.9"
  }
 },
 "nbformat": 4,
 "nbformat_minor": 5
}
