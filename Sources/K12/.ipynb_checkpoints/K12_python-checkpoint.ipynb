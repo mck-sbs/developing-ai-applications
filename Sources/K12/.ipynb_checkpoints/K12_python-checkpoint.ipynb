{
 "cells": [
  {
   "cell_type": "markdown",
   "id": "5f3206c2-42cc-4ca9-911f-3cc867897711",
   "metadata": {},
   "source": [
    "lists"
   ]
  },
  {
   "cell_type": "code",
   "execution_count": null,
   "id": "2fb59190-f18d-400b-ba70-71feb59b0a30",
   "metadata": {},
   "outputs": [],
   "source": [
    "list_1 = [0,1,2,3]\n",
    "list_2 = [\"hello\", 1, 2.3]\n",
    "\n",
    "print(list_1)\n",
    "print(len(list_2))\n",
    "\n",
    "print(list_2[0])\n",
    "\n",
    "list_3 = [list_1, list_2]\n",
    "print(list_3)\n",
    "\n",
    "print(list_3[1])\n",
    "\n",
    "print(list_3[1][0])"
   ]
  },
  {
   "cell_type": "markdown",
   "id": "799dd439-2f9f-426d-a16b-e528bfd783b5",
   "metadata": {},
   "source": [
    "branches"
   ]
  },
  {
   "cell_type": "code",
   "execution_count": null,
   "id": "a0fb0a0d-0408-49ef-9215-917eb72e1fa4",
   "metadata": {},
   "outputs": [],
   "source": [
    "grade = 3\n",
    "\n",
    "if grade < 5:\n",
    "    print(\"passed\")\n",
    "print(\"end\")\n",
    "\n",
    "if grade <= 4:\n",
    "    print(\"passed\")\n",
    "print(\"end\")\n",
    "\n",
    "if grade < 5:\n",
    "    print(\"passed\")\n",
    "else:\n",
    "    print(\"failed\")\n",
    "print(\"end\")\n",
    "\n",
    "if grade < 5:\n",
    "    print(\"passed\")\n",
    "elif grade == 5:\n",
    "    print(\"failed, grade 5\")\n",
    "elif grade == 6:\n",
    "    print(\"failed, grade 6\")\n",
    "else:\n",
    "    print(\"invalid grading\")\n",
    "print(\"end\")\n",
    "\n",
    "if 1 in list_2:\n",
    "    print(\"element included\")\n",
    "else:\n",
    "    print(\"element not included\")"
   ]
  },
  {
   "cell_type": "markdown",
   "id": "5198946a-71c7-4b3d-ba06-1fed2ff5d32f",
   "metadata": {},
   "source": [
    "loops"
   ]
  },
  {
   "cell_type": "code",
   "execution_count": null,
   "id": "aced0992-47e5-4828-81aa-b809e5688cc7",
   "metadata": {},
   "outputs": [],
   "source": [
    "i = 0\n",
    "\n",
    "while i < 5:\n",
    "    print(i)\n",
    "    i = i + 1\n",
    "    \n",
    "for i in range(5):\n",
    "    print(i)"
   ]
  },
  {
   "cell_type": "raw",
   "id": "40dd2d40-7864-4925-90c0-0ec29e82bb5e",
   "metadata": {},
   "source": [
    "random"
   ]
  },
  {
   "cell_type": "code",
   "execution_count": null,
   "id": "c69e856e-126d-4154-b3ff-3561a7b6f788",
   "metadata": {},
   "outputs": [],
   "source": [
    "import random\n",
    "\n",
    "for i in range(6):\n",
    "    number = random.choice([0,1])\n",
    "    print(number)    \n",
    "\n",
    "for i in range(6):\n",
    "    element = random.choice(list_1)\n",
    "    print(element)\n",
    "    \n",
    "for i in range(6):\n",
    "    number = random.choice(range(3))\n",
    "    print(number)\n",
    "    \n",
    "for i in range(6):\n",
    "    index = random.choice(range(len(list_1)))\n",
    "    print(index)\n",
    "    \n",
    "print(range(len(list_1)))"
   ]
  },
  {
   "cell_type": "markdown",
   "id": "5f514369-4c58-405f-8538-cef05e8aceab",
   "metadata": {},
   "source": [
    "functions"
   ]
  },
  {
   "cell_type": "code",
   "execution_count": null,
   "id": "e6597637-bac1-4e8f-a501-3b4e965c45ad",
   "metadata": {},
   "outputs": [],
   "source": [
    "def sayHello():\n",
    "    print(\"Hello\")\n",
    "    \n",
    "sayHello()\n",
    "\n",
    "def plus_one(number):\n",
    "    return number + 1\n",
    "\n",
    "n1 = plus_one(5)\n",
    "print(n1)"
   ]
  },
  {
   "cell_type": "code",
   "execution_count": null,
   "id": "7520f4fc-5c23-4b86-a6e1-88d4ab16ddda",
   "metadata": {},
   "outputs": [],
   "source": []
  }
 ],
 "metadata": {
  "kernelspec": {
   "display_name": "Python 3 (ipykernel)",
   "language": "python",
   "name": "python3"
  },
  "language_info": {
   "codemirror_mode": {
    "name": "ipython",
    "version": 3
   },
   "file_extension": ".py",
   "mimetype": "text/x-python",
   "name": "python",
   "nbconvert_exporter": "python",
   "pygments_lexer": "ipython3",
   "version": "3.10.9"
  }
 },
 "nbformat": 4,
 "nbformat_minor": 5
}
