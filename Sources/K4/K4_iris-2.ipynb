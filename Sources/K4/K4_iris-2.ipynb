{
 "cells": [
  {
   "cell_type": "markdown",
   "id": "11e1deb9-f203-4938-a7e0-9e3cf708f955",
   "metadata": {},
   "source": [
    "Loading Required Modules and the CSV File."
   ]
  },
  {
   "cell_type": "code",
   "execution_count": null,
   "id": "6df77660-8df4-48bb-9c8a-3fce12e5c541",
   "metadata": {},
   "outputs": [],
   "source": [
    "import pandas as pd\n",
    "from sklearn.model_selection import train_test_split\n",
    "from sklearn import metrics\n",
    "from sklearn import tree\n",
    "from sklearn.preprocessing import LabelEncoder\n",
    "\n",
    "path = \"../Data/iris.csv\"\n",
    "data = pd.read_csv(path, delimiter=',')\n",
    "print(data.head())"
   ]
  },
  {
   "cell_type": "markdown",
   "id": "6572a434-7dfc-4fcf-9a1e-ce041a29277f",
   "metadata": {},
   "source": [
    "Daten vorbereiten."
   ]
  },
  {
   "cell_type": "code",
   "execution_count": null,
   "id": "f59f7f64-b877-406b-9821-5b997360fcb6",
   "metadata": {},
   "outputs": [],
   "source": [
    "# What should be predicted? Save column name in variable.\n",
    "col_name = 'sepal.length'\n",
    "\n",
    "# Here the division into two tables takes place (Input=data and Output=col). \n",
    "col = data[col_name]\n",
    "data = data.drop([col_name], axis = 1)\n",
    "\n",
    "le = LabelEncoder()\n",
    "data['species'] = le.fit_transform(data['species'])"
   ]
  },
  {
   "cell_type": "markdown",
   "id": "d224bc75-6906-4849-bd17-45893e5a289a",
   "metadata": {},
   "source": [
    "create tree"
   ]
  },
  {
   "cell_type": "code",
   "execution_count": null,
   "id": "4bbff244-7ba0-439f-9c07-921afb0788ed",
   "metadata": {},
   "outputs": [],
   "source": [
    "# Create four tables from the two tables\n",
    "train_data, test_data, train_col, test_col = train_test_split(data,col, test_size=0.2)\n",
    "\n",
    "tr = tree.DecisionTreeRegressor()\n",
    "tr.fit(train_data, train_col)\n",
    "\n",
    "predicted_col = tr.predict(test_data)\n",
    "\n",
    "score = metrics.mean_absolute_error(test_col, predicted_col)\n",
    "print(score)"
   ]
  },
  {
   "cell_type": "code",
   "execution_count": null,
   "id": "70d9ecb7-3585-47b2-b4cb-11801cfa5d59",
   "metadata": {},
   "outputs": [],
   "source": [
    "tree.plot_tree(tr)"
   ]
  },
  {
   "cell_type": "code",
   "execution_count": null,
   "id": "ef11b618-4f89-448b-be08-8f30f95b45df",
   "metadata": {},
   "outputs": [],
   "source": [
    "# install graphiz!\n",
    "#import graphviz \n",
    "#dot_data = tree.export_graphviz(tr, feature_names=[\"sepal.width\", \"petal.length\", \"petal.width\", \"species\"],rounded=True) \n",
    "#graph = graphviz.Source(dot_data) \n",
    "#graph.render(\"iris-2\") "
   ]
  },
  {
   "cell_type": "code",
   "execution_count": null,
   "id": "2ee5ed30-a3d8-4915-a542-f5b25c8869cf",
   "metadata": {},
   "outputs": [],
   "source": []
  }
 ],
 "metadata": {
  "kernelspec": {
   "display_name": "Python 3 (ipykernel)",
   "language": "python",
   "name": "python3"
  },
  "language_info": {
   "codemirror_mode": {
    "name": "ipython",
    "version": 3
   },
   "file_extension": ".py",
   "mimetype": "text/x-python",
   "name": "python",
   "nbconvert_exporter": "python",
   "pygments_lexer": "ipython3",
   "version": "3.10.9"
  }
 },
 "nbformat": 4,
 "nbformat_minor": 5
}
