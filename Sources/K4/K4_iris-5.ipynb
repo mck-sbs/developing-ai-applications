{
 "cells": [
  {
   "cell_type": "markdown",
   "id": "11e1deb9-f203-4938-a7e0-9e3cf708f955",
   "metadata": {},
   "source": [
    "Loading Required Modules and the CSV File."
   ]
  },
  {
   "cell_type": "code",
   "execution_count": null,
   "id": "6df77660-8df4-48bb-9c8a-3fce12e5c541",
   "metadata": {},
   "outputs": [],
   "source": [
    "import pandas as pd\n",
    "from sklearn.model_selection import train_test_split\n",
    "from sklearn import metrics,tree\n",
    "from sklearn.preprocessing import LabelEncoder\n",
    "\n",
    "path = \"../Data/iris.csv\"\n",
    "data = pd.read_csv(path, delimiter=',')\n",
    "print(data.head())"
   ]
  },
  {
   "cell_type": "markdown",
   "id": "6572a434-7dfc-4fcf-9a1e-ce041a29277f",
   "metadata": {},
   "source": [
    "prepare data"
   ]
  },
  {
   "cell_type": "code",
   "execution_count": null,
   "id": "f59f7f64-b877-406b-9821-5b997360fcb6",
   "metadata": {},
   "outputs": [],
   "source": [
    "# What should be predicted? Save column name in variable.\n",
    "col_name = 'sepal.length'\n",
    "\n",
    "# Here the division into two tables takes place (Input=data and Output=col). \n",
    "col = data[col_name]\n",
    "data = data.drop([col_name], axis = 1)\n",
    "\n",
    "le = LabelEncoder()\n",
    "data['species'] = le.fit_transform(data['species'])"
   ]
  },
  {
   "cell_type": "markdown",
   "id": "d224bc75-6906-4849-bd17-45893e5a289a",
   "metadata": {},
   "source": [
    "build model"
   ]
  },
  {
   "cell_type": "code",
   "execution_count": null,
   "id": "4bbff244-7ba0-439f-9c07-921afb0788ed",
   "metadata": {},
   "outputs": [],
   "source": [
    "# Create four tables from the two tables\n",
    "train_data, test_data, train_col, test_col = train_test_split(data,col, test_size=0.2)\n",
    "\n",
    "# first tree with training data, as usual\n",
    "tr_1 = tree.DecisionTreeRegressor(max_depth=3, random_state=42)\n",
    "tr_1.fit(train_data, train_col)\n",
    "predicted_col_1 = tr_1.predict(train_data)\n",
    "\n",
    "# form difference between target value and prediction\n",
    "train_col_2 = train_col - predicted_col_1\n",
    "\n",
    "# second tree\n",
    "tr_2 = tree.DecisionTreeRegressor(max_depth=3, random_state=42)\n",
    "tr_2.fit(train_data, train_col_2)\n",
    "predicted_col_2 = tr_2.predict(train_data)\n",
    "\n",
    "# form difference to last prediction\n",
    "train_col_3 = train_col_2 - predicted_col_2\n",
    "\n",
    "# third tree\n",
    "tr_3 = tree.DecisionTreeRegressor(max_depth=3, random_state=42)\n",
    "tr_3.fit(train_data, train_col_3)\n",
    "\n",
    "# 3 predictions with the test data\n",
    "predicted_final_1 = tr_1.predict(test_data)\n",
    "predicted_final_2 = tr_2.predict(test_data)\n",
    "predicted_final_3 = tr_3.predict(test_data)\n",
    "\n",
    "# add up the individual predictions\n",
    "predicted_final = predicted_final_1 + predicted_final_2 + predicted_final_3\n",
    "\n",
    "score = metrics.mean_absolute_error(test_col, predicted_final)\n",
    "print(score)"
   ]
  },
  {
   "cell_type": "code",
   "execution_count": null,
   "id": "73793074-8982-4ed4-b400-463d5baf0c55",
   "metadata": {
    "tags": []
   },
   "outputs": [],
   "source": [
    "# print first tree\n",
    "tree.plot_tree(tr_1)"
   ]
  }
 ],
 "metadata": {
  "kernelspec": {
   "display_name": "Python 3 (ipykernel)",
   "language": "python",
   "name": "python3"
  },
  "language_info": {
   "codemirror_mode": {
    "name": "ipython",
    "version": 3
   },
   "file_extension": ".py",
   "mimetype": "text/x-python",
   "name": "python",
   "nbconvert_exporter": "python",
   "pygments_lexer": "ipython3",
   "version": "3.10.9"
  }
 },
 "nbformat": 4,
 "nbformat_minor": 5
}
