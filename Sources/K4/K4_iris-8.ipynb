{
 "cells": [
  {
   "cell_type": "markdown",
   "id": "11e1deb9-f203-4938-a7e0-9e3cf708f955",
   "metadata": {},
   "source": [
    "Loading Required Modules and the CSV File."
   ]
  },
  {
   "cell_type": "code",
   "execution_count": null,
   "id": "6df77660-8df4-48bb-9c8a-3fce12e5c541",
   "metadata": {},
   "outputs": [],
   "source": [
    "import pandas as pd\n",
    "from sklearn.model_selection import train_test_split\n",
    "from sklearn import metrics\n",
    "from xgboost import XGBRegressor\n",
    "\n",
    "path = \"../Data/iris.csv\"\n",
    "data = pd.read_csv(path, delimiter=',')\n",
    "print(data.head())"
   ]
  },
  {
   "cell_type": "markdown",
   "id": "6572a434-7dfc-4fcf-9a1e-ce041a29277f",
   "metadata": {},
   "source": [
    "prepare data"
   ]
  },
  {
   "cell_type": "code",
   "execution_count": null,
   "id": "f59f7f64-b877-406b-9821-5b997360fcb6",
   "metadata": {},
   "outputs": [],
   "source": [
    "# What should be predicted? Save column name in variable.\n",
    "col_name = 'sepal.length'\n",
    "\n",
    "# convert these columns into numerical values 0...n\n",
    "conv_num = ['species']\n",
    "data[conv_num] = data[conv_num].astype('category')\n",
    "data[conv_num] = data[conv_num].apply(lambda x: x.cat.codes)\n",
    "\n",
    "\n",
    "# Here the division into two tables takes place (Input=data and Output=col).\n",
    "col = data['sepal.length']\n",
    "data = data.drop(['sepal.length'], axis = 1)"
   ]
  },
  {
   "cell_type": "markdown",
   "id": "d224bc75-6906-4849-bd17-45893e5a289a",
   "metadata": {},
   "source": [
    "build model"
   ]
  },
  {
   "cell_type": "code",
   "execution_count": null,
   "id": "4bbff244-7ba0-439f-9c07-921afb0788ed",
   "metadata": {
    "tags": []
   },
   "outputs": [],
   "source": [
    "# Create four tables from the two tables\n",
    "train_data, test_data, train_col, test_col = train_test_split(data,col, test_size=0.2)\n",
    "\n",
    "xgb = XGBRegressor()\n",
    "\n",
    "xgb.fit(train_data, train_col)\n",
    "\n",
    "predicted_col = xgb.predict(test_data)\n",
    "\n",
    "score = metrics.mean_absolute_error(test_col, predicted_col)\n",
    "print(score)"
   ]
  }
 ],
 "metadata": {
  "kernelspec": {
   "display_name": "Python 3 (ipykernel)",
   "language": "python",
   "name": "python3"
  },
  "language_info": {
   "codemirror_mode": {
    "name": "ipython",
    "version": 3
   },
   "file_extension": ".py",
   "mimetype": "text/x-python",
   "name": "python",
   "nbconvert_exporter": "python",
   "pygments_lexer": "ipython3",
   "version": "3.10.9"
  }
 },
 "nbformat": 4,
 "nbformat_minor": 5
}
