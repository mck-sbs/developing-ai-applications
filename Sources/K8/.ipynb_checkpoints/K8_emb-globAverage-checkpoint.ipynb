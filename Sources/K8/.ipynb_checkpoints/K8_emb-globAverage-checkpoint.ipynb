{
 "cells": [
  {
   "cell_type": "code",
   "execution_count": null,
   "id": "1d61f12a-701f-4acd-9215-bb1977406378",
   "metadata": {},
   "outputs": [],
   "source": [
    "import pandas as pd\n",
    "import tensorflow as tf\n",
    "from keras.models import Model\n",
    "import numpy as np"
   ]
  },
  {
   "cell_type": "code",
   "execution_count": null,
   "id": "d7f4eb2c-fdf1-4325-9965-58ee27e81ee7",
   "metadata": {},
   "outputs": [],
   "source": [
    "# generate random numbers 0-99\n",
    "input_array = np.random.randint(100, size=(2, 4))\n",
    "print(input_array)"
   ]
  },
  {
   "cell_type": "code",
   "execution_count": null,
   "id": "bc1e6139-5e42-4ee9-8310-57a5516075b4",
   "metadata": {},
   "outputs": [],
   "source": [
    "emb = tf.keras.layers.Embedding(100, 3, input_length=4)\n",
    "\n",
    "model = tf.keras.Sequential()\n",
    "model.add(emb)\n",
    "\n",
    "output_array = model.predict(input_array)\n",
    "print(output_array)\n",
    "\n",
    "model.summary()"
   ]
  },
  {
   "cell_type": "code",
   "execution_count": null,
   "id": "1e156d2f-a7a5-45f7-8de2-5d93395660e8",
   "metadata": {},
   "outputs": [],
   "source": [
    "emb = tf.keras.layers.Embedding(100, 3, input_length=4)\n",
    "\n",
    "model = tf.keras.Sequential()\n",
    "model.add(emb)\n",
    "\n",
    "output_array = model.predict(input_array)\n",
    "print(output_array)\n",
    "\n",
    "\n",
    "model2 = tf.keras.Sequential()\n",
    "model2.add(tf.keras.layers.GlobalAveragePooling1D())\n",
    "\n",
    "output_array2 = model2.predict(output_array)\n",
    "print(output_array2)"
   ]
  },
  {
   "cell_type": "code",
   "execution_count": null,
   "id": "8a7c440f-eafe-4bb7-970a-0e35f64fa4bc",
   "metadata": {},
   "outputs": [],
   "source": []
  }
 ],
 "metadata": {
  "kernelspec": {
   "display_name": "Python 3 (ipykernel)",
   "language": "python",
   "name": "python3"
  },
  "language_info": {
   "codemirror_mode": {
    "name": "ipython",
    "version": 3
   },
   "file_extension": ".py",
   "mimetype": "text/x-python",
   "name": "python",
   "nbconvert_exporter": "python",
   "pygments_lexer": "ipython3",
   "version": "3.10.9"
  }
 },
 "nbformat": 4,
 "nbformat_minor": 5
}
