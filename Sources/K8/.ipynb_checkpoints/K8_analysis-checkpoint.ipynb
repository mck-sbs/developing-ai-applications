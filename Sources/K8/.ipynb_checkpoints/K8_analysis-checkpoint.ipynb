{
 "cells": [
  {
   "cell_type": "code",
   "execution_count": null,
   "id": "1d61f12a-701f-4acd-9215-bb1977406378",
   "metadata": {},
   "outputs": [],
   "source": [
    "import pandas as pd\n",
    "import tensorflow as tf\n",
    "from keras.models import Model\n",
    "import numpy as np"
   ]
  },
  {
   "cell_type": "code",
   "execution_count": null,
   "id": "955d8541-bd9a-4a73-9bfd-f3a523797706",
   "metadata": {},
   "outputs": [],
   "source": [
    "# texts for tests\n",
    "train_data =[\n",
    "          'eating a hamburger',\n",
    "          'eating a steak',\n",
    "          'eating a banana',\n",
    "          'reading interesting books',\n",
    "          'reading interesting magazines',\n",
    "          'reading interesting texts'\n",
    "]\n",
    "# 1 for eating, 0 for reading\n",
    "train_col = np.array([1,1,1,0,0,0])"
   ]
  },
  {
   "cell_type": "code",
   "execution_count": null,
   "id": "7b42d3bb-f965-4b5d-8853-0605d454d52d",
   "metadata": {},
   "outputs": [],
   "source": [
    "transform = tf.keras.layers.TextVectorization(max_tokens=20, output_sequence_length=3)\n",
    "\n",
    "transform.adapt(train_data)\n",
    "\n",
    "tain_data_transformed = transform(train_data)\n",
    "\n",
    "print(tain_data_transformed)"
   ]
  },
  {
   "cell_type": "code",
   "execution_count": null,
   "id": "d1f38f56-9535-449b-9f06-03f8d476caa4",
   "metadata": {},
   "outputs": [],
   "source": [
    "print(transform.get_vocabulary()[4])"
   ]
  },
  {
   "cell_type": "code",
   "execution_count": null,
   "id": "b67b0447-60f6-41d7-b41b-e04ff5763be7",
   "metadata": {},
   "outputs": [],
   "source": [
    "emb = tf.keras.layers.Embedding(20, 4, input_length=3)\n",
    "glob = tf.keras.layers.GlobalAveragePooling1D()\n",
    "dense = tf.keras.layers.Dense(2, activation=tf.nn.softmax)\n",
    "\n",
    "model = tf.keras.Sequential()\n",
    "model.add(emb)\n",
    "\n",
    "output_array = model.predict(tain_data_transformed)\n",
    "print(output_array)\n",
    "\n",
    "model2 = tf.keras.Sequential()\n",
    "model2.add(glob)\n",
    "\n",
    "output_array2 = model2.predict(output_array)\n",
    "print(output_array2)"
   ]
  },
  {
   "cell_type": "code",
   "execution_count": null,
   "id": "0f55affa-09d3-4bc3-9def-6b33aa860d77",
   "metadata": {},
   "outputs": [],
   "source": [
    "model3 = tf.keras.Sequential()\n",
    "model3.add(emb)\n",
    "model3.add(glob)\n",
    "model3.add(dense)"
   ]
  },
  {
   "cell_type": "code",
   "execution_count": null,
   "id": "207d0449-e38b-4cee-b433-dfd0dff6dbb4",
   "metadata": {},
   "outputs": [],
   "source": [
    "model3.compile(optimizer='adam', loss='sparse_categorical_crossentropy', metrics=['accuracy'])\n",
    "\n",
    "model3.fit(tain_data_transformed, train_col, epochs=100)"
   ]
  },
  {
   "cell_type": "code",
   "execution_count": null,
   "id": "e9afc07d-afe8-4a16-84a4-b84c094b9adb",
   "metadata": {
    "tags": []
   },
   "outputs": [],
   "source": [
    "model4 = tf.keras.Sequential()\n",
    "model4.add(emb)\n",
    "\n",
    "output_array4 = model4.predict(tain_data_transformed)\n",
    "print(output_array4)\n",
    "\n",
    "model5 = tf.keras.Sequential()\n",
    "model5.add(glob)\n",
    "\n",
    "output_array5 = model5.predict(output_array4)\n",
    "print(output_array5)"
   ]
  }
 ],
 "metadata": {
  "kernelspec": {
   "display_name": "Python 3 (ipykernel)",
   "language": "python",
   "name": "python3"
  },
  "language_info": {
   "codemirror_mode": {
    "name": "ipython",
    "version": 3
   },
   "file_extension": ".py",
   "mimetype": "text/x-python",
   "name": "python",
   "nbconvert_exporter": "python",
   "pygments_lexer": "ipython3",
   "version": "3.10.9"
  }
 },
 "nbformat": 4,
 "nbformat_minor": 5
}
