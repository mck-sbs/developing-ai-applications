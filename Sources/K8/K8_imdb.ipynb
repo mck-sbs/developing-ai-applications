{
 "cells": [
  {
   "cell_type": "markdown",
   "id": "11e1deb9-f203-4938-a7e0-9e3cf708f955",
   "metadata": {},
   "source": [
    "load modules and data"
   ]
  },
  {
   "cell_type": "code",
   "execution_count": null,
   "id": "6df77660-8df4-48bb-9c8a-3fce12e5c541",
   "metadata": {},
   "outputs": [],
   "source": [
    "import tensorflow as tf\n",
    "import pandas as pd\n",
    "from sklearn.model_selection import train_test_split\n",
    "\n",
    "path = \"../Data/IMDB-Dataset.csv\"\n",
    "data = pd.read_csv(path, delimiter=',')\n",
    "\n",
    "MAX_FEATURES = 10000\n",
    "SEQUENCE_LENGTH = 250\n",
    "\n",
    "print(data.head())\n",
    "print(data.shape)"
   ]
  },
  {
   "cell_type": "code",
   "execution_count": null,
   "id": "62db8b53-e61a-438c-88e2-37cdc2be1caf",
   "metadata": {},
   "outputs": [],
   "source": [
    "data['review'] = data['review'].str.replace(\"<br />\",\" \")\n",
    "\n",
    "# transform string to integer\n",
    "# new column, set all values to 0\n",
    "\n",
    "data['rating'] = 0\n",
    "\n",
    "# if the content of the 'sentiment' column is equal to 'positive', set\n",
    "# the entry in the 'rate' column to 1\n",
    "\n",
    "data.loc[data['sentiment'] == 'positive', 'rating'] = 1\n",
    "\n",
    "col = data['rating']\n",
    "\n",
    "# remove the 'sentiment' and 'rate' columns\n",
    "data.drop(['sentiment', 'rating'], axis = 1, inplace=True)\n",
    "\n",
    "print(data)\n",
    "print(col)"
   ]
  },
  {
   "cell_type": "code",
   "execution_count": null,
   "id": "3371cff8-4ef9-4497-88bd-50f9538c6983",
   "metadata": {},
   "outputs": [],
   "source": [
    "# create four tables from the two tables\n",
    "train_data, test_data, train_col, test_col = train_test_split(data,col, test_size=0.2)"
   ]
  },
  {
   "cell_type": "code",
   "execution_count": null,
   "id": "70ba495c-ae71-425e-8489-738482358b12",
   "metadata": {},
   "outputs": [],
   "source": [
    "transform = tf.keras.layers.TextVectorization(max_tokens=MAX_FEATURES,output_sequence_length=SEQUENCE_LENGTH)\n",
    "\n",
    "transform.adapt(train_data)\n",
    "\n",
    "tain_data_transformed = transform(train_data)\n",
    "test_data_transformed = transform(test_data)\n",
    "\n",
    "print(tain_data_transformed)\n",
    "#print(transform.get_vocabulary()[30])"
   ]
  },
  {
   "cell_type": "code",
   "execution_count": null,
   "id": "f59f7f64-b877-406b-9821-5b997360fcb6",
   "metadata": {},
   "outputs": [],
   "source": [
    "model = tf.keras.Sequential([\n",
    "  tf.keras.layers.Embedding(MAX_FEATURES, 16),\n",
    "  tf.keras.layers.GlobalAveragePooling1D(),\n",
    "  tf.keras.layers.Dropout(0.2),\n",
    "  tf.keras.layers.Dense(2, activation=tf.nn.softmax)\n",
    "])"
   ]
  },
  {
   "cell_type": "code",
   "execution_count": null,
   "id": "0d41bd87-3aa9-4c3b-a3da-dfd4d4a4e566",
   "metadata": {},
   "outputs": [],
   "source": [
    "model.compile(optimizer='adam', loss='sparse_categorical_crossentropy', metrics=['accuracy'])\n",
    "\n",
    "cb_early = tf.keras.callbacks.EarlyStopping(monitor='val_loss', patience=3)\n",
    "\n",
    "model.fit(tain_data_transformed, train_col, validation_data=(test_data_transformed, test_col), epochs=100, callbacks=[cb_early])"
   ]
  },
  {
   "cell_type": "code",
   "execution_count": null,
   "id": "965ec6ce-f2e0-4e54-b01a-17d3be7a6867",
   "metadata": {
    "tags": []
   },
   "outputs": [],
   "source": [
    "examples = [\n",
    "    \"The movie was great\",\n",
    "    \"It was boring\",\n",
    "    \"Don't waste your time\",\n",
    "]\n",
    "\n",
    "txt = transform(examples)\n",
    "pred = model.predict([txt])\n",
    "print(pred)"
   ]
  }
 ],
 "metadata": {
  "kernelspec": {
   "display_name": "Python 3 (ipykernel)",
   "language": "python",
   "name": "python3"
  },
  "language_info": {
   "codemirror_mode": {
    "name": "ipython",
    "version": 3
   },
   "file_extension": ".py",
   "mimetype": "text/x-python",
   "name": "python",
   "nbconvert_exporter": "python",
   "pygments_lexer": "ipython3",
   "version": "3.10.9"
  }
 },
 "nbformat": 4,
 "nbformat_minor": 5
}
