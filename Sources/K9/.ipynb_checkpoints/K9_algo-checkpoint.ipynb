{
 "cells": [
  {
   "cell_type": "markdown",
   "id": "11e1deb9-f203-4938-a7e0-9e3cf708f955",
   "metadata": {},
   "source": [
    "load modules and data"
   ]
  },
  {
   "cell_type": "code",
   "execution_count": null,
   "id": "6df77660-8df4-48bb-9c8a-3fce12e5c541",
   "metadata": {},
   "outputs": [],
   "source": [
    "import pandas as pd\n",
    "import matplotlib.pyplot as plt\n",
    "from sklearn.cluster import KMeans\n",
    "\n",
    "path = \"../Data/iris.csv\"\n",
    "data = pd.read_csv(path, delimiter=',')\n",
    "print(data.head())"
   ]
  },
  {
   "cell_type": "code",
   "execution_count": null,
   "id": "3aef5389-0603-4997-a12b-b92420a4e401",
   "metadata": {},
   "outputs": [],
   "source": [
    "# plot random samples (rows)\n",
    "data_petal = data.drop(['species', 'sepal.length', 'sepal.width'], axis = 1)\n",
    "p=data_petal.sample(3)\n",
    "print(p)"
   ]
  },
  {
   "cell_type": "code",
   "execution_count": null,
   "id": "255991c8-ff57-4ad4-a230-acc1760a69ed",
   "metadata": {},
   "outputs": [],
   "source": [
    "plt.scatter(data_petal['petal.length'], data_petal['petal.width'], color = 'blue')\n",
    "\n",
    "plt.scatter(p['petal.length'].iloc[0], p['petal.width'].iloc[0], color = 'black', marker='s', s=400)\n",
    "plt.scatter(p['petal.length'].iloc[1], p['petal.width'].iloc[1], color = 'black', marker='s', s=400)\n",
    "plt.scatter(p['petal.length'].iloc[2], p['petal.width'].iloc[2], color = 'black', marker='s', s=400)\n",
    "\n",
    "\n",
    "plt.xlabel('petal.length')\n",
    "plt.ylabel('petal.width')\n",
    "plt.show()"
   ]
  },
  {
   "cell_type": "code",
   "execution_count": null,
   "id": "b7bd93d5-3a84-4558-9dd0-5f28f34fe1e0",
   "metadata": {},
   "outputs": [],
   "source": [
    "kmean = KMeans(n_clusters=3)\n",
    "kmean.fit(data_petal)\n",
    "petal_points = kmean.cluster_centers_\n",
    "k = kmean.predict(data_petal)\n",
    "print(petal_points)\n",
    "\n",
    "pp = pd.concat([data_petal, pd.DataFrame(k, columns=[\"label\"])], axis=1)\n",
    "print(pp)"
   ]
  },
  {
   "cell_type": "code",
   "execution_count": null,
   "id": "3bdbf42d-ccb4-48b1-89bf-4ab0de480380",
   "metadata": {},
   "outputs": [],
   "source": [
    "# mit Schwerpunkten \n",
    "\n",
    "setosa = pp[pp['label']==0]\n",
    "versicolor = pp[pp['label']==1]\n",
    "virginica = pp[pp['label']==2]\n",
    "\n",
    "plt.scatter(setosa['petal.length'], setosa['petal.width'], color = 'red', marker='s')\n",
    "plt.scatter(versicolor['petal.length'], versicolor['petal.width'], color = 'blue', marker='o')\n",
    "plt.scatter(virginica['petal.length'], virginica['petal.width'], color = 'green', marker='^')\n",
    "\n",
    "plt.scatter(petal_points[0][0], petal_points[0][1], color = 'black', marker='s', s=400)\n",
    "plt.scatter(petal_points[1][0], petal_points[1][1], color = 'black', marker='s', s=400)\n",
    "plt.scatter(petal_points[2][0], petal_points[2][1], color = 'black', marker='s', s=400)\n",
    "\n",
    "plt.xlabel('petal.length')\n",
    "plt.ylabel('petal.width')\n",
    "plt.show()"
   ]
  },
  {
   "cell_type": "code",
   "execution_count": null,
   "id": "e9262b9a-abe8-4252-a91c-5ba59a02137c",
   "metadata": {},
   "outputs": [],
   "source": [
    "data_petal = data.drop(['species', 'sepal.length', 'sepal.width'], axis = 1)\n",
    "\n",
    "kmean = KMeans(n_clusters=4)\n",
    "kmean.fit(data_petal)\n",
    "\n",
    "petal_points = kmean.cluster_centers_\n",
    "print(petal_points)\n",
    "print(kmean.inertia_)"
   ]
  },
  {
   "cell_type": "code",
   "execution_count": null,
   "id": "076a3e76-e1ce-4223-8a6e-f443bc64cc9a",
   "metadata": {},
   "outputs": [],
   "source": [
    "from yellowbrick.cluster import KElbowVisualizer\n",
    "model = KMeans()\n",
    "visualizer = KElbowVisualizer(model, k=(2,9), timings=False)\n",
    "visualizer.fit(data_petal)\n",
    "visualizer.show()"
   ]
  },
  {
   "cell_type": "code",
   "execution_count": null,
   "id": "6a16d529-add2-4b72-a2a8-ef0ea48c06a7",
   "metadata": {},
   "outputs": [],
   "source": []
  }
 ],
 "metadata": {
  "kernelspec": {
   "display_name": "Python 3 (ipykernel)",
   "language": "python",
   "name": "python3"
  },
  "language_info": {
   "codemirror_mode": {
    "name": "ipython",
    "version": 3
   },
   "file_extension": ".py",
   "mimetype": "text/x-python",
   "name": "python",
   "nbconvert_exporter": "python",
   "pygments_lexer": "ipython3",
   "version": "3.10.9"
  }
 },
 "nbformat": 4,
 "nbformat_minor": 5
}
