{
 "cells": [
  {
   "cell_type": "markdown",
   "id": "11e1deb9-f203-4938-a7e0-9e3cf708f955",
   "metadata": {},
   "source": [
    "load modules and data"
   ]
  },
  {
   "cell_type": "code",
   "execution_count": null,
   "id": "6df77660-8df4-48bb-9c8a-3fce12e5c541",
   "metadata": {},
   "outputs": [],
   "source": [
    "import pandas as pd\n",
    "from sklearn.cluster import KMeans\n",
    "from yellowbrick.cluster import KElbowVisualizer\n",
    "from sklearn.preprocessing import StandardScaler\n",
    "\n",
    "path = \"../Data/iris.csv\"\n",
    "\n",
    "data = pd.read_csv(path, delimiter=',')\n",
    "\n",
    "# drop species\n",
    "data_unknown = data.drop(['species'], axis = 1)\n",
    "\n",
    "print(data_unknown.head())"
   ]
  },
  {
   "cell_type": "code",
   "execution_count": null,
   "id": "03752d83-92ec-46ca-aed0-5b1f1d6631b8",
   "metadata": {},
   "outputs": [],
   "source": [
    "s_scaler = StandardScaler()\n",
    "\n",
    "data_unknown = pd.DataFrame(s_scaler.fit_transform(data_unknown), columns = data_unknown.columns)"
   ]
  },
  {
   "cell_type": "code",
   "execution_count": null,
   "id": "7da0236c-0d03-4856-93d5-0f082e9d5c59",
   "metadata": {},
   "outputs": [],
   "source": [
    "model = KMeans()\n",
    "\n",
    "visualizer = KElbowVisualizer(model, k=(2,9), timings=False)\n",
    "visualizer.fit(data_unknown)\n",
    "visualizer.show()"
   ]
  },
  {
   "cell_type": "code",
   "execution_count": null,
   "id": "9d3e9b7b-0d3d-4dfd-a6aa-c05f349a3763",
   "metadata": {},
   "outputs": [],
   "source": [
    "kmeans = KMeans(n_clusters=3)\n",
    "\n",
    "pred = kmeans.fit_predict(data_unknown)\n",
    "\n",
    "print(pred)"
   ]
  },
  {
   "cell_type": "code",
   "execution_count": null,
   "id": "541d551d-9b16-4f16-b333-20c6be04eb6b",
   "metadata": {},
   "outputs": [],
   "source": [
    "data_new = pd.concat([data, pd.DataFrame(pred, columns=['label'])], axis=1)\n",
    "print(data_new)"
   ]
  },
  {
   "cell_type": "code",
   "execution_count": null,
   "id": "0a3eed0c-7269-4882-9c0c-4889a334057e",
   "metadata": {
    "tags": []
   },
   "outputs": [],
   "source": [
    "data_new.to_csv(\"./data_new.csv\")"
   ]
  }
 ],
 "metadata": {
  "kernelspec": {
   "display_name": "Python 3 (ipykernel)",
   "language": "python",
   "name": "python3"
  },
  "language_info": {
   "codemirror_mode": {
    "name": "ipython",
    "version": 3
   },
   "file_extension": ".py",
   "mimetype": "text/x-python",
   "name": "python",
   "nbconvert_exporter": "python",
   "pygments_lexer": "ipython3",
   "version": "3.10.9"
  }
 },
 "nbformat": 4,
 "nbformat_minor": 5
}
