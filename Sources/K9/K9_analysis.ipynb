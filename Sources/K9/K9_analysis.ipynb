{
 "cells": [
  {
   "cell_type": "markdown",
   "id": "11e1deb9-f203-4938-a7e0-9e3cf708f955",
   "metadata": {},
   "source": [
    "load modules and data"
   ]
  },
  {
   "cell_type": "code",
   "execution_count": null,
   "id": "6df77660-8df4-48bb-9c8a-3fce12e5c541",
   "metadata": {},
   "outputs": [],
   "source": [
    "import pandas as pd\n",
    "import matplotlib.pyplot as plt\n",
    "from sklearn.cluster import KMeans\n",
    "\n",
    "path = \"../Data/iris.csv\"\n",
    "data = pd.read_csv(path, delimiter=',')\n",
    "print(data.head())"
   ]
  },
  {
   "cell_type": "code",
   "execution_count": null,
   "id": "7da0236c-0d03-4856-93d5-0f082e9d5c59",
   "metadata": {},
   "outputs": [],
   "source": [
    "plt.scatter(data['sepal.length'], data['sepal.width'])\n",
    "plt.xlabel('sepal.length')\n",
    "plt.ylabel('sepal.width')\n",
    "plt.show()"
   ]
  },
  {
   "cell_type": "code",
   "execution_count": null,
   "id": "9d3e9b7b-0d3d-4dfd-a6aa-c05f349a3763",
   "metadata": {},
   "outputs": [],
   "source": [
    "plt.scatter(data['petal.length'], data['petal.width'])\n",
    "plt.xlabel('petal.length')\n",
    "plt.ylabel('petal.width')\n",
    "plt.show()"
   ]
  },
  {
   "cell_type": "code",
   "execution_count": null,
   "id": "3bd84420-b455-4e15-a8c4-5113bddaee4a",
   "metadata": {},
   "outputs": [],
   "source": [
    "setosa = data[data['species']=='Setosa']\n",
    "versicolor = data[data['species']=='Versicolor']\n",
    "virginica = data[data['species']=='Virginica']\n",
    "\n",
    "plt.scatter(setosa['sepal.length'], setosa['sepal.width'], color = 'red', marker='s')\n",
    "plt.scatter(versicolor['sepal.length'], versicolor['sepal.width'], color = 'blue', marker='o')\n",
    "plt.scatter(virginica['sepal.length'], virginica['sepal.width'], color = 'green', marker='^')\n",
    "\n",
    "plt.xlabel('sepal.length')\n",
    "plt.ylabel('sepal.width')\n",
    "plt.show()"
   ]
  },
  {
   "cell_type": "code",
   "execution_count": null,
   "id": "255991c8-ff57-4ad4-a230-acc1760a69ed",
   "metadata": {
    "tags": []
   },
   "outputs": [],
   "source": [
    "setosa = data[data['species']=='Setosa']\n",
    "versicolor = data[data['species']=='Versicolor']\n",
    "virginica = data[data['species']=='Virginica']\n",
    "\n",
    "plt.scatter(setosa['petal.length'], setosa['petal.width'], color = 'red', marker='s')\n",
    "plt.scatter(versicolor['petal.length'], versicolor['petal.width'], color = 'blue', marker='o')\n",
    "plt.scatter(virginica['petal.length'], virginica['petal.width'], color = 'green', marker='^')\n",
    "\n",
    "plt.xlabel('petal.length')\n",
    "plt.ylabel('petal.width')\n",
    "plt.show()"
   ]
  }
 ],
 "metadata": {
  "kernelspec": {
   "display_name": "Python 3 (ipykernel)",
   "language": "python",
   "name": "python3"
  },
  "language_info": {
   "codemirror_mode": {
    "name": "ipython",
    "version": 3
   },
   "file_extension": ".py",
   "mimetype": "text/x-python",
   "name": "python",
   "nbconvert_exporter": "python",
   "pygments_lexer": "ipython3",
   "version": "3.10.9"
  }
 },
 "nbformat": 4,
 "nbformat_minor": 5
}
