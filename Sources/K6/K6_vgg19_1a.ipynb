{
 "cells": [
  {
   "cell_type": "markdown",
   "id": "11e1deb9-f203-4938-a7e0-9e3cf708f955",
   "metadata": {
    "id": "11e1deb9-f203-4938-a7e0-9e3cf708f955"
   },
   "source": [
    "Loading Required Modules and data."
   ]
  },
  {
   "cell_type": "code",
   "execution_count": null,
   "id": "6df77660-8df4-48bb-9c8a-3fce12e5c541",
   "metadata": {
    "id": "6df77660-8df4-48bb-9c8a-3fce12e5c541"
   },
   "outputs": [],
   "source": [
    "import pandas as pd\n",
    "import tensorflow as tf\n",
    "from keras.models import Model\n",
    "import matplotlib.pyplot as plt\n",
    "import numpy as np\n",
    "from keras.applications import vgg19\n",
    "import tensorflow_datasets as tfds"
   ]
  },
  {
   "cell_type": "markdown",
   "id": "6572a434-7dfc-4fcf-9a1e-ce041a29277f",
   "metadata": {
    "id": "6572a434-7dfc-4fcf-9a1e-ce041a29277f"
   },
   "source": [
    "prepare model"
   ]
  },
  {
   "cell_type": "code",
   "execution_count": null,
   "id": "0096578f-5799-4873-aacc-cbf137ca4293",
   "metadata": {
    "colab": {
     "base_uri": "https://localhost:8080/"
    },
    "id": "0096578f-5799-4873-aacc-cbf137ca4293",
    "outputId": "041e2d02-879c-445d-87c4-af3f685d9705"
   },
   "outputs": [],
   "source": [
    "base_model = vgg19.VGG19(include_top=False,input_shape=[300,300,3])\n",
    "base_model.trainable = False\n",
    "base_model.summary()"
   ]
  },
  {
   "cell_type": "markdown",
   "id": "ax9oyJVFygCG",
   "metadata": {
    "id": "ax9oyJVFygCG"
   },
   "source": [
    "expand model"
   ]
  },
  {
   "cell_type": "code",
   "execution_count": null,
   "id": "0afbb916-3fdb-4cb5-b11a-159633fbf4e6",
   "metadata": {
    "colab": {
     "base_uri": "https://localhost:8080/"
    },
    "id": "0afbb916-3fdb-4cb5-b11a-159633fbf4e6",
    "outputId": "1752363a-d0d1-49ca-96a7-efc112c31fa3"
   },
   "outputs": [],
   "source": [
    "x = tf.keras.layers.Dropout(0.3)(base_model.output)\n",
    "x = tf.keras.layers.Flatten()(x)\n",
    "x = tf.keras.layers.Dense(256,activation='relu')(x)\n",
    "x = tf.keras.layers.Dropout(0.3)(x)\n",
    "x = tf.keras.layers.Dense(3,activation='softmax')(x)\n",
    "\n",
    "model = Model(inputs=base_model.input, outputs=x)\n",
    "model.summary()"
   ]
  },
  {
   "cell_type": "markdown",
   "id": "XTy8QZ55ymb1",
   "metadata": {
    "id": "XTy8QZ55ymb1"
   },
   "source": [
    "load data"
   ]
  },
  {
   "cell_type": "code",
   "execution_count": null,
   "id": "ed2527e7-3546-4132-a50f-2db659b1c77b",
   "metadata": {
    "id": "ed2527e7-3546-4132-a50f-2db659b1c77b"
   },
   "outputs": [],
   "source": [
    "(train_data, train_col), (test_data, test_col) = tfds.as_numpy(tfds.load(\n",
    "    'rock_paper_scissors',\n",
    "    split=['train', 'test'],\n",
    "    batch_size=-1,\n",
    "    as_supervised=True\n",
    "))"
   ]
  },
  {
   "cell_type": "markdown",
   "id": "DYguy33vytWU",
   "metadata": {
    "id": "DYguy33vytWU"
   },
   "source": [
    "print pic"
   ]
  },
  {
   "cell_type": "code",
   "execution_count": null,
   "id": "25c12a22-5ca2-4d68-9c3c-a7df26c89d33",
   "metadata": {
    "colab": {
     "base_uri": "https://localhost:8080/",
     "height": 472
    },
    "id": "25c12a22-5ca2-4d68-9c3c-a7df26c89d33",
    "outputId": "0bcb3170-2ca6-4570-af1f-e1816f5dec22"
   },
   "outputs": [],
   "source": [
    "class_names = ['rock', 'paper', 'scissor']\n",
    "index = 111\n",
    "plt.imshow(train_data[index])\n",
    "plt.xlabel(class_names[train_col[index]])\n",
    "plt.show()\n",
    "\n",
    "print(train_data.shape)"
   ]
  },
  {
   "cell_type": "markdown",
   "id": "jaeUFQYeywYD",
   "metadata": {
    "id": "jaeUFQYeywYD"
   },
   "source": [
    "train and test"
   ]
  },
  {
   "cell_type": "code",
   "execution_count": null,
   "id": "07c96990-390f-4dad-aa44-197f49627e42",
   "metadata": {
    "colab": {
     "base_uri": "https://localhost:8080/"
    },
    "id": "07c96990-390f-4dad-aa44-197f49627e42",
    "outputId": "312c40e5-c82d-4dc8-df1f-5b11a9e636fa"
   },
   "outputs": [],
   "source": [
    "cb_early = tf.keras.callbacks.EarlyStopping(monitor='val_loss', patience=3)\n",
    "\n",
    "train_data = tf.keras.applications.vgg19.preprocess_input(train_data)\n",
    "test_data = tf.keras.applications.vgg19.preprocess_input(test_data)\n",
    "\n",
    "model.compile(loss='sparse_categorical_crossentropy', optimizer=tf.keras.optimizers.Adam(learning_rate=0.0001), metrics=['accuracy']) \n",
    "model.fit(train_data, train_col, epochs=100, validation_data=(test_data, test_col), batch_size=32, shuffle=True, callbacks=[cb_early])"
   ]
  },
  {
   "cell_type": "markdown",
   "id": "wriM99Ety3NM",
   "metadata": {
    "id": "wriM99Ety3NM"
   },
   "source": [
    "store model"
   ]
  },
  {
   "cell_type": "code",
   "execution_count": null,
   "id": "CQIixMnVpZbR",
   "metadata": {
    "id": "CQIixMnVpZbR"
   },
   "outputs": [],
   "source": [
    "model.save('transfer.h5')"
   ]
  }
 ],
 "metadata": {
  "accelerator": "GPU",
  "colab": {
   "gpuType": "T4",
   "provenance": []
  },
  "gpuClass": "standard",
  "kernelspec": {
   "display_name": "Python 3 (ipykernel)",
   "language": "python",
   "name": "python3"
  },
  "language_info": {
   "codemirror_mode": {
    "name": "ipython",
    "version": 3
   },
   "file_extension": ".py",
   "mimetype": "text/x-python",
   "name": "python",
   "nbconvert_exporter": "python",
   "pygments_lexer": "ipython3",
   "version": "3.10.9"
  }
 },
 "nbformat": 4,
 "nbformat_minor": 5
}
