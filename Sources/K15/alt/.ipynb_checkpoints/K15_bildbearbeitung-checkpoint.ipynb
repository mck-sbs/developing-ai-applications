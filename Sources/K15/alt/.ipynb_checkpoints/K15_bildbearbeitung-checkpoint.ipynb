{
 "cells": [
  {
   "cell_type": "code",
   "execution_count": null,
   "id": "7b395a2c-bc3d-48f1-bb8f-4a87da6346c6",
   "metadata": {},
   "outputs": [],
   "source": [
    "import openai\n",
    "\n",
    "openai.api_key = \"API-Key\""
   ]
  },
  {
   "cell_type": "code",
   "execution_count": null,
   "id": "f45c1117-9c0b-4ea4-b1c9-4da059430b60",
   "metadata": {},
   "outputs": [],
   "source": [
    "n = 1\n",
    "user = \"test-1\"\n",
    "size = \"512x512\"\n",
    "img_raw = open(\"../Data/dog_raw.png\", \"rb\")\n",
    "img_mask = open(\"../Data/dog_mask.png\", \"rb\")\n",
    "prompt = \"Fliegender Hund im Superheldenkostüm, gothic. Zerstörte Häuser im Hintergrund, apokalyptisch, Batman-Stil\"\n",
    "\n",
    "\n",
    "response = openai.Image.create_edit(image=img_raw, mask=img_mask, prompt=prompt, n=n, size=size, user=user)\n",
    "print(response)"
   ]
  },
  {
   "cell_type": "code",
   "execution_count": null,
   "id": "fe4180ca-9972-4fda-826f-dffe64294c8b",
   "metadata": {},
   "outputs": [],
   "source": [
    "import matplotlib.pyplot as plt\n",
    "import imageio.v3 as iio\n",
    "\n",
    "img = iio.imread(response.data[0].url)\n",
    "plt.imshow(img)"
   ]
  },
  {
   "cell_type": "code",
   "execution_count": null,
   "id": "9e55faa3-54e7-47bd-9726-e36c42a98c5f",
   "metadata": {},
   "outputs": [],
   "source": []
  }
 ],
 "metadata": {
  "kernelspec": {
   "display_name": "Python 3 (ipykernel)",
   "language": "python",
   "name": "python3"
  },
  "language_info": {
   "codemirror_mode": {
    "name": "ipython",
    "version": 3
   },
   "file_extension": ".py",
   "mimetype": "text/x-python",
   "name": "python",
   "nbconvert_exporter": "python",
   "pygments_lexer": "ipython3",
   "version": "3.11.0"
  }
 },
 "nbformat": 4,
 "nbformat_minor": 5
}
