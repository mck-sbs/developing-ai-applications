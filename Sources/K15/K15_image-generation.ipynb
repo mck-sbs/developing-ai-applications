{
 "cells": [
  {
   "cell_type": "code",
   "execution_count": null,
   "id": "7b395a2c-bc3d-48f1-bb8f-4a87da6346c6",
   "metadata": {},
   "outputs": [],
   "source": [
    "from openai import OpenAI\n",
    "\n",
    "API_KEY = \"sk-8..\""
   ]
  },
  {
   "cell_type": "code",
   "execution_count": null,
   "id": "00df4090-03b5-4d69-a00f-b93330b6cb2f",
   "metadata": {},
   "outputs": [],
   "source": [
    "n = 1\n",
    "user = \"test-1\"\n",
    "size = \"1024x1024\"\n",
    "prompt = \"Dinosaurs in space\"\n",
    "model = \"dall-e-2\"\n",
    "\n",
    "client = OpenAI(api_key=API_KEY)\n",
    "response = client.images.generate(model=model , prompt=prompt, user=user, size=size)\n",
    "\n",
    "print(response)"
   ]
  },
  {
   "cell_type": "code",
   "execution_count": null,
   "id": "ab145ba6-8576-44b6-958c-3af2233a2d22",
   "metadata": {},
   "outputs": [],
   "source": [
    "print(response.data[0].url)"
   ]
  },
  {
   "cell_type": "code",
   "execution_count": null,
   "id": "ab5ae5f0-62d9-4701-a95f-df7645187a2e",
   "metadata": {},
   "outputs": [],
   "source": [
    "import matplotlib.pyplot as plt\n",
    "import imageio.v3 as iio\n",
    "\n",
    "img = iio.imread(response.data[0].url)\n",
    "plt.imshow(img)"
   ]
  },
  {
   "cell_type": "code",
   "execution_count": null,
   "id": "fe4180ca-9972-4fda-826f-dffe64294c8b",
   "metadata": {},
   "outputs": [],
   "source": [
    "iio.imwrite(\"dino.png\", img)"
   ]
  },
  {
   "cell_type": "code",
   "execution_count": null,
   "id": "f45c1117-9c0b-4ea4-b1c9-4da059430b60",
   "metadata": {},
   "outputs": [],
   "source": []
  }
 ],
 "metadata": {
  "kernelspec": {
   "display_name": "Python 3 (ipykernel)",
   "language": "python",
   "name": "python3"
  },
  "language_info": {
   "codemirror_mode": {
    "name": "ipython",
    "version": 3
   },
   "file_extension": ".py",
   "mimetype": "text/x-python",
   "name": "python",
   "nbconvert_exporter": "python",
   "pygments_lexer": "ipython3",
   "version": "3.11.5"
  }
 },
 "nbformat": 4,
 "nbformat_minor": 5
}
