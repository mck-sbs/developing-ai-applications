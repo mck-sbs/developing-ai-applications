{
 "cells": [
  {
   "cell_type": "markdown",
   "id": "11e1deb9-f203-4938-a7e0-9e3cf708f955",
   "metadata": {},
   "source": [
    "Import required modules and load the file. The first lines are displayed."
   ]
  },
  {
   "cell_type": "code",
   "execution_count": null,
   "id": "6df77660-8df4-48bb-9c8a-3fce12e5c541",
   "metadata": {},
   "outputs": [],
   "source": [
    "import tensorflow as tf\n",
    "import pandas as pd\n",
    "from sklearn.model_selection import train_test_split\n",
    "\n",
    "path = \"../Data/iris_empty.csv\"\n",
    "data = pd.read_csv(path, delimiter=',')\n",
    "\n",
    "print(data.head())\n",
    "print(\"Empty columns: \", data.columns[data.isnull().any()])"
   ]
  },
  {
   "cell_type": "markdown",
   "id": "6572a434-7dfc-4fcf-9a1e-ce041a29277f",
   "metadata": {},
   "source": [
    "prepare data"
   ]
  },
  {
   "cell_type": "code",
   "execution_count": null,
   "id": "f59f7f64-b877-406b-9821-5b997360fcb6",
   "metadata": {},
   "outputs": [],
   "source": [
    "# Delete empty columns.\n",
    "data.dropna(inplace=True)\n",
    "print(\"Empty columns: \", data.columns[data.isnull().any()])\n",
    "\n",
    "# species must be predicted.\n",
    "col_name = 'species'\n",
    "\n",
    "# Perform OHE for this data.\n",
    "col = pd.get_dummies(data[col_name], dtype=float)\n",
    "\n",
    "# Delete prediction column from data.\n",
    "data = data.drop([col_name], axis = 1)\n"
   ]
  },
  {
   "cell_type": "markdown",
   "id": "d224bc75-6906-4849-bd17-45893e5a289a",
   "metadata": {},
   "source": [
    "KNN aufbauen"
   ]
  },
  {
   "cell_type": "code",
   "execution_count": null,
   "id": "4bbff244-7ba0-439f-9c07-921afb0788ed",
   "metadata": {},
   "outputs": [],
   "source": [
    "# Create four tables from the two tables.\n",
    "train_data, test_data, train_col, test_col = train_test_split(data,col, test_size=0.2, random_state=42)\n",
    "\n",
    "# Build ANN.\n",
    "model = tf.keras.Sequential([\n",
    "    tf.keras.layers.Dense(32, activation=tf.nn.sigmoid, input_dim=4),\n",
    "    tf.keras.layers.Dense(64, activation=tf.nn.sigmoid),\n",
    "    tf.keras.layers.Dense(3, activation=tf.nn.softmax)\n",
    "])\n",
    "# Konfiguration des Lernprozesses\n",
    "model.compile(optimizer='adam', loss='categorical_crossentropy', metrics=['accuracy'])"
   ]
  },
  {
   "cell_type": "markdown",
   "id": "beda700c-73d4-4506-8225-1ab33cc6c448",
   "metadata": {},
   "source": [
    "train"
   ]
  },
  {
   "cell_type": "code",
   "execution_count": null,
   "id": "4a50fdb9-255c-4438-819e-a8c8d0614aa2",
   "metadata": {},
   "outputs": [],
   "source": [
    "# 50 runs\n",
    "model.fit(train_data, train_col, epochs=50)"
   ]
  },
  {
   "cell_type": "markdown",
   "id": "ea0a81e9-2436-43a7-ab5d-8f1c5dd92677",
   "metadata": {},
   "source": [
    "test"
   ]
  },
  {
   "cell_type": "code",
   "execution_count": null,
   "id": "8688ed41-9918-4357-b390-f7fb248d7de4",
   "metadata": {},
   "outputs": [],
   "source": [
    "test_loss, test_acc = model.evaluate(test_data, test_col)\n",
    "print('Test accuracy:', test_acc)"
   ]
  },
  {
   "cell_type": "code",
   "execution_count": null,
   "id": "e2f8db76-91ec-4a9c-857f-de58489adaab",
   "metadata": {},
   "outputs": [],
   "source": []
  }
 ],
 "metadata": {
  "kernelspec": {
   "display_name": "Python 3 (ipykernel)",
   "language": "python",
   "name": "python3"
  },
  "language_info": {
   "codemirror_mode": {
    "name": "ipython",
    "version": 3
   },
   "file_extension": ".py",
   "mimetype": "text/x-python",
   "name": "python",
   "nbconvert_exporter": "python",
   "pygments_lexer": "ipython3",
   "version": "3.10.9"
  }
 },
 "nbformat": 4,
 "nbformat_minor": 5
}
