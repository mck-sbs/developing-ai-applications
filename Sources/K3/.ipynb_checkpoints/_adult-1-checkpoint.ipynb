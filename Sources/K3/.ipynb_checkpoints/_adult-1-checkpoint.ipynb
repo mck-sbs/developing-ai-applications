{
 "cells": [
  {
   "cell_type": "markdown",
   "id": "11e1deb9-f203-4938-a7e0-9e3cf708f955",
   "metadata": {},
   "source": [
    "Benötigte Module importieren und Datei laden. Die ersten Zeilen werden ausgegeben."
   ]
  },
  {
   "cell_type": "code",
   "execution_count": 1,
   "id": "6df77660-8df4-48bb-9c8a-3fce12e5c541",
   "metadata": {},
   "outputs": [
    {
     "name": "stderr",
     "output_type": "stream",
     "text": [
      "2023-04-26 06:07:45.149788: I tensorflow/core/platform/cpu_feature_guard.cc:193] This TensorFlow binary is optimized with oneAPI Deep Neural Network Library (oneDNN) to use the following CPU instructions in performance-critical operations:  SSE4.1 SSE4.2 AVX AVX2 FMA\n",
      "To enable them in other operations, rebuild TensorFlow with the appropriate compiler flags.\n"
     ]
    },
    {
     "name": "stdout",
     "output_type": "stream",
     "text": [
      "   age          workclass  fnlwgt   education  education.num  \\\n",
      "0   50   Self-emp-not-inc   83311   Bachelors             13   \n",
      "1   38            Private  215646     HS-grad              9   \n",
      "2   53            Private  234721        11th              7   \n",
      "3   28            Private  338409   Bachelors             13   \n",
      "4   37            Private  284582     Masters             14   \n",
      "\n",
      "        marital.status          occuaption    relationship    race      sex  \\\n",
      "0   Married-civ-spouse     Exec-managerial         Husband   White     Male   \n",
      "1             Divorced   Handlers-cleaners   Not-in-family   White     Male   \n",
      "2   Married-civ-spouse   Handlers-cleaners         Husband   Black     Male   \n",
      "3   Married-civ-spouse      Prof-specialty            Wife   Black   Female   \n",
      "4   Married-civ-spouse     Exec-managerial            Wife   White   Female   \n",
      "\n",
      "   capital.gain  capital.loss  hours.per.week  native.country income  \n",
      "0             0             0              13   United-States  <=50K  \n",
      "1             0             0              40   United-States  <=50K  \n",
      "2             0             0              40   United-States  <=50K  \n",
      "3             0             0              40            Cuba  <=50K  \n",
      "4             0             0              40   United-States  <=50K  \n",
      "Empty columns:  Index([], dtype='object')\n"
     ]
    }
   ],
   "source": [
    "import tensorflow as tf\n",
    "import pandas as pd\n",
    "from sklearn.model_selection import train_test_split\n",
    "\n",
    "path = \"../Data/adult-2.csv\"\n",
    "data = pd.read_csv(path, delimiter=';')\n",
    "print(data.head())\n",
    "print(\"Empty columns: \", data.columns[data.isnull().any()])"
   ]
  },
  {
   "cell_type": "code",
   "execution_count": 2,
   "id": "8bd39eae-5cf1-4063-841e-6b10567de509",
   "metadata": {},
   "outputs": [
    {
     "name": "stdout",
     "output_type": "stream",
     "text": [
      "                     age    fnlwgt  education.num  capital.gain  capital.loss  \\\n",
      "age             1.000000 -0.076646       0.036527      0.077674      0.057775   \n",
      "fnlwgt         -0.076646  1.000000      -0.043159      0.000437     -0.010259   \n",
      "education.num   0.036527 -0.043159       1.000000      0.122627      0.079932   \n",
      "capital.gain    0.077674  0.000437       0.122627      1.000000     -0.031614   \n",
      "capital.loss    0.057775 -0.010259       0.079932     -0.031614      1.000000   \n",
      "hours.per.week  0.068756 -0.018770       0.148127      0.078409      0.054256   \n",
      "\n",
      "                hours.per.week  \n",
      "age                   0.068756  \n",
      "fnlwgt               -0.018770  \n",
      "education.num         0.148127  \n",
      "capital.gain          0.078409  \n",
      "capital.loss          0.054256  \n",
      "hours.per.week        1.000000  \n"
     ]
    }
   ],
   "source": [
    "correlations = data[data.columns].corr(numeric_only=True)\n",
    "print(correlations)"
   ]
  },
  {
   "cell_type": "code",
   "execution_count": 3,
   "id": "507f41d6-76a2-496f-a3b4-486d00ee47ae",
   "metadata": {},
   "outputs": [
    {
     "name": "stdout",
     "output_type": "stream",
     "text": [
      "All correlations\n",
      "------------------------------\n",
      "age               1.317378\n",
      "fnlwgt            1.149271\n",
      "education.num     1.430372\n",
      "capital.gain      1.310761\n",
      "capital.loss      1.233836\n",
      "hours.per.week    1.368318\n",
      "dtype: float64\n",
      "Weakest correlations\n",
      "------------------------------\n",
      "fnlwgt            1.149271\n",
      "capital.loss      1.233836\n",
      "capital.gain      1.310761\n",
      "age               1.317378\n",
      "hours.per.week    1.368318\n",
      "dtype: float64\n"
     ]
    }
   ],
   "source": [
    "# Ausgabe der Korrelationen\n",
    "correlations = data[data.columns].corr(numeric_only=True)\n",
    "print('All correlations')\n",
    "print('-' * 30)\n",
    "correlations_abs_sum = correlations[correlations.columns].abs().sum()\n",
    "print(correlations_abs_sum)\n",
    "print('Weakest correlations')\n",
    "print('-' * 30)\n",
    "print(correlations_abs_sum.nsmallest(5))"
   ]
  },
  {
   "cell_type": "markdown",
   "id": "6572a434-7dfc-4fcf-9a1e-ce041a29277f",
   "metadata": {},
   "source": [
    "Daten vorbereiten."
   ]
  },
  {
   "cell_type": "code",
   "execution_count": 4,
   "id": "f59f7f64-b877-406b-9821-5b997360fcb6",
   "metadata": {},
   "outputs": [
    {
     "name": "stdout",
     "output_type": "stream",
     "text": [
      "(32560, 16)\n",
      "(32560, 2)\n",
      "16\n"
     ]
    }
   ],
   "source": [
    "# Lösche drei Spalten mit kleinen Korrelationswerten\n",
    "# Hier nicht notwendig, da wir neue Tabellen erstellen\n",
    "#data.drop(['fnlwgt','capital.loss','capital.gain'], axis = 1, inplace=True)\n",
    "\n",
    "values = data['age']\n",
    "\n",
    "temp = data['workclass'].astype('category')\n",
    "temp = temp.cat.codes\n",
    "values = pd.concat([values,temp], axis = 1)\n",
    "values = values.rename(columns={0: 'workclass'})\n",
    "\n",
    "temp = data['education'].astype('category')\n",
    "temp = temp.cat.codes\n",
    "values = pd.concat([values,temp], axis = 1)\n",
    "values = values.rename(columns={0: 'education'})\n",
    "\n",
    "values = pd.concat([values,data['education.num']], axis = 1)\n",
    "\n",
    "temp = data['marital.status'].astype('category')\n",
    "temp = temp.cat.codes\n",
    "values = pd.concat([values,temp], axis = 1)\n",
    "values = values.rename(columns={0: 'marital.status'})\n",
    "\n",
    "temp = data['occuaption'].astype('category')\n",
    "temp.index.rename('occuaption')\n",
    "temp = temp.cat.codes\n",
    "values = pd.concat([values,temp], axis = 1)\n",
    "values = values.rename(columns={0: 'occuaption'})\n",
    "\n",
    "temp = data['relationship'].astype('category')\n",
    "temp = temp.cat.codes\n",
    "values = pd.concat([values,temp], axis = 1)\n",
    "values = values.rename(columns={0: 'relationship'})\n",
    "\n",
    "temp = pd.get_dummies(data['race'])\n",
    "values = pd.concat([values,temp], axis = 1)\n",
    "                           \n",
    "temp = pd.get_dummies(data['sex'])\n",
    "values = pd.concat([values,temp], axis = 1)\n",
    "\n",
    "temp = data['hours.per.week']\n",
    "values = pd.concat([values,temp], axis = 1)\n",
    "\n",
    "\n",
    "temp = data['native.country'].astype('category')\n",
    "temp = temp.cat.codes\n",
    "values = pd.concat([values,temp], axis = 1)\n",
    "values = values.rename(columns={0: 'native.country'})\n",
    "\n",
    "col = pd.get_dummies(data['income'])\n",
    "\n",
    "print(values.shape)\n",
    "print(col.shape)\n",
    "\n",
    "print(values.shape[1])\n",
    "\n",
    "\n",
    "# Aus den zwei Tabellen vier Tabellen erzeugen\n",
    "train_values, test_values, train_col, test_col = train_test_split(values,col, test_size=0.2, random_state=42)"
   ]
  },
  {
   "cell_type": "markdown",
   "id": "d224bc75-6906-4849-bd17-45893e5a289a",
   "metadata": {},
   "source": [
    "KNN aufbauen"
   ]
  },
  {
   "cell_type": "code",
   "execution_count": 5,
   "id": "4bbff244-7ba0-439f-9c07-921afb0788ed",
   "metadata": {},
   "outputs": [
    {
     "name": "stderr",
     "output_type": "stream",
     "text": [
      "2023-04-26 06:07:48.001388: I tensorflow/core/platform/cpu_feature_guard.cc:193] This TensorFlow binary is optimized with oneAPI Deep Neural Network Library (oneDNN) to use the following CPU instructions in performance-critical operations:  SSE4.1 SSE4.2 AVX AVX2 FMA\n",
      "To enable them in other operations, rebuild TensorFlow with the appropriate compiler flags.\n"
     ]
    }
   ],
   "source": [
    "# Aufbau KNN\n",
    "tf.model = tf.keras.Sequential([\n",
    "    tf.keras.layers.Dense(128, activation=tf.nn.relu, input_dim=values.shape[1]),\n",
    "    tf.keras.layers.Dense(256, activation=tf.nn.relu),\n",
    "    tf.keras.layers.Dense(64, activation=tf.nn.relu),\n",
    "    tf.keras.layers.Dense(2, activation=tf.nn.softmax)\n",
    "])\n",
    "\n",
    "# Konfiguration des Lernprozesses\n",
    "tf.model.compile(optimizer='adam', loss='categorical_crossentropy', metrics=['accuracy'])"
   ]
  },
  {
   "cell_type": "markdown",
   "id": "beda700c-73d4-4506-8225-1ab33cc6c448",
   "metadata": {},
   "source": [
    "Trainieren"
   ]
  },
  {
   "cell_type": "code",
   "execution_count": 6,
   "id": "4a50fdb9-255c-4438-819e-a8c8d0614aa2",
   "metadata": {},
   "outputs": [
    {
     "name": "stdout",
     "output_type": "stream",
     "text": [
      "Epoch 1/10\n",
      "814/814 [==============================] - 1s 1ms/step - loss: 0.4740 - accuracy: 0.7868\n",
      "Epoch 2/10\n",
      "814/814 [==============================] - 1s 1ms/step - loss: 0.4007 - accuracy: 0.8072\n",
      "Epoch 3/10\n",
      "814/814 [==============================] - 1s 1ms/step - loss: 0.3762 - accuracy: 0.8178\n",
      "Epoch 4/10\n",
      "814/814 [==============================] - 1s 1ms/step - loss: 0.3709 - accuracy: 0.8219\n",
      "Epoch 5/10\n",
      "814/814 [==============================] - 1s 1ms/step - loss: 0.3666 - accuracy: 0.8239\n",
      "Epoch 6/10\n",
      "814/814 [==============================] - 1s 1ms/step - loss: 0.3653 - accuracy: 0.8231\n",
      "Epoch 7/10\n",
      "814/814 [==============================] - 1s 1ms/step - loss: 0.3640 - accuracy: 0.8255\n",
      "Epoch 8/10\n",
      "814/814 [==============================] - 1s 1ms/step - loss: 0.3622 - accuracy: 0.8246\n",
      "Epoch 9/10\n",
      "814/814 [==============================] - 1s 1ms/step - loss: 0.3623 - accuracy: 0.8249\n",
      "Epoch 10/10\n",
      "814/814 [==============================] - 1s 1ms/step - loss: 0.3608 - accuracy: 0.8271\n"
     ]
    },
    {
     "data": {
      "text/plain": [
       "<keras.callbacks.History at 0x7fccda166b30>"
      ]
     },
     "execution_count": 6,
     "metadata": {},
     "output_type": "execute_result"
    }
   ],
   "source": [
    "# 10 Durchläufe\n",
    "tf.model.fit(train_values, train_col, epochs=10)"
   ]
  },
  {
   "cell_type": "markdown",
   "id": "ea0a81e9-2436-43a7-ab5d-8f1c5dd92677",
   "metadata": {},
   "source": [
    "Testen"
   ]
  },
  {
   "cell_type": "code",
   "execution_count": 7,
   "id": "8688ed41-9918-4357-b390-f7fb248d7de4",
   "metadata": {},
   "outputs": [
    {
     "name": "stdout",
     "output_type": "stream",
     "text": [
      "204/204 [==============================] - 0s 903us/step - loss: 0.3741 - accuracy: 0.8206\n",
      "Test accuracy: 0.8206388354301453\n"
     ]
    }
   ],
   "source": [
    "test_loss, test_acc = tf.model.evaluate(test_values, test_col)\n",
    "print('Test accuracy:', test_acc)"
   ]
  }
 ],
 "metadata": {
  "kernelspec": {
   "display_name": "Python 3 (ipykernel)",
   "language": "python",
   "name": "python3"
  },
  "language_info": {
   "codemirror_mode": {
    "name": "ipython",
    "version": 3
   },
   "file_extension": ".py",
   "mimetype": "text/x-python",
   "name": "python",
   "nbconvert_exporter": "python",
   "pygments_lexer": "ipython3",
   "version": "3.10.9"
  }
 },
 "nbformat": 4,
 "nbformat_minor": 5
}
