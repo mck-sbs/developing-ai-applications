{
 "cells": [
  {
   "cell_type": "markdown",
   "id": "11e1deb9-f203-4938-a7e0-9e3cf708f955",
   "metadata": {},
   "source": [
    "Benötigte Module importieren und Datei laden. Die ersten Zeilen werden ausgegeben."
   ]
  },
  {
   "cell_type": "code",
   "execution_count": 1,
   "id": "6df77660-8df4-48bb-9c8a-3fce12e5c541",
   "metadata": {},
   "outputs": [
    {
     "name": "stderr",
     "output_type": "stream",
     "text": [
      "2023-04-26 22:39:31.638609: I tensorflow/core/platform/cpu_feature_guard.cc:193] This TensorFlow binary is optimized with oneAPI Deep Neural Network Library (oneDNN) to use the following CPU instructions in performance-critical operations:  SSE4.1 SSE4.2 AVX AVX2 FMA\n",
      "To enable them in other operations, rebuild TensorFlow with the appropriate compiler flags.\n"
     ]
    },
    {
     "name": "stdout",
     "output_type": "stream",
     "text": [
      "   sepal.length  sepal.width  petal.length  petal.width species\n",
      "0           5.1          3.5           1.4          0.2  Setosa\n",
      "1           4.9          3.0           1.4          0.2  Setosa\n",
      "2           4.7          3.2           1.3          0.2  Setosa\n",
      "3           4.6          3.1           1.5          0.2  Setosa\n",
      "4           5.0          3.6           1.4          0.2  Setosa\n",
      "Empty columns:  Index([], dtype='object')\n"
     ]
    }
   ],
   "source": [
    "import tensorflow as tf\n",
    "import pandas as pd\n",
    "from sklearn.model_selection import train_test_split\n",
    "from sklearn.preprocessing import StandardScaler\n",
    "\n",
    "path = \"../Data/iris.csv\"\n",
    "data = pd.read_csv(path, delimiter=',')\n",
    "print(data.head())\n",
    "print(\"Empty columns: \", data.columns[data.isnull().any()])"
   ]
  },
  {
   "cell_type": "code",
   "execution_count": 2,
   "id": "db2cf306-95aa-4396-8b57-db3f69aa73ac",
   "metadata": {},
   "outputs": [
    {
     "name": "stdout",
     "output_type": "stream",
     "text": [
      "All correlations\n",
      "------------------------------\n",
      "sepal.length    2.807265\n",
      "sepal.width     1.912136\n",
      "petal.length    3.263059\n",
      "petal.width     3.146932\n",
      "dtype: float64\n",
      "Weakest correlations\n",
      "------------------------------\n",
      "sepal.width     1.912136\n",
      "sepal.length    2.807265\n",
      "petal.width     3.146932\n",
      "petal.length    3.263059\n",
      "dtype: float64\n"
     ]
    }
   ],
   "source": [
    "# Ausgabe der Korrelationen\n",
    "correlations = data[data.columns].corr(numeric_only=True)\n",
    "print('All correlations')\n",
    "print('-' * 30)\n",
    "correlations_abs_sum = correlations[correlations.columns].abs().sum()\n",
    "print(correlations_abs_sum)\n",
    "print('Weakest correlations')\n",
    "print('-' * 30)\n",
    "print(correlations_abs_sum.nsmallest(5))"
   ]
  },
  {
   "cell_type": "markdown",
   "id": "6572a434-7dfc-4fcf-9a1e-ce041a29277f",
   "metadata": {},
   "source": [
    "Daten vorbereiten."
   ]
  },
  {
   "cell_type": "code",
   "execution_count": 3,
   "id": "f59f7f64-b877-406b-9821-5b997360fcb6",
   "metadata": {},
   "outputs": [],
   "source": [
    "# data['sepal.width'] könnte evtl weglassen, hat geringe Korrelation -> testen\n",
    "# sepal.length soll vorhergesgt werden\n",
    "\n",
    "# Zeichenkette in Zahlen umwandeln\n",
    "values = pd.get_dummies(data['species'])\n",
    "\n",
    "# neue Tabelle um restliche Spalten erweitern\n",
    "values = pd.concat([data['petal.length'], data['petal.width'], data['sepal.width'],values], axis = 1)\n",
    "\n",
    "# Erzeuge Objekt\n",
    "s_scaler = StandardScaler()\n",
    "# Spalten für StandardScaler\n",
    "cols_to_s_scale = ['petal.length', 'petal.width', 'sepal.width']\n",
    "values[cols_to_s_scale] = s_scaler.fit_transform(values[cols_to_s_scale])\n",
    "\n",
    "# Diese Spalte soll vorhergesagt werden \n",
    "col = data['sepal.length']\n",
    "\n",
    "# Aus den zwei Tabellen vier Tabellen erzeugen\n",
    "train_values, test_values, train_col, test_col = train_test_split(values,col, test_size=0.2, random_state=42)"
   ]
  },
  {
   "cell_type": "markdown",
   "id": "d224bc75-6906-4849-bd17-45893e5a289a",
   "metadata": {},
   "source": [
    "KNN aufbauen"
   ]
  },
  {
   "cell_type": "code",
   "execution_count": 4,
   "id": "4bbff244-7ba0-439f-9c07-921afb0788ed",
   "metadata": {},
   "outputs": [
    {
     "name": "stderr",
     "output_type": "stream",
     "text": [
      "2023-04-26 22:39:34.347003: I tensorflow/core/platform/cpu_feature_guard.cc:193] This TensorFlow binary is optimized with oneAPI Deep Neural Network Library (oneDNN) to use the following CPU instructions in performance-critical operations:  SSE4.1 SSE4.2 AVX AVX2 FMA\n",
      "To enable them in other operations, rebuild TensorFlow with the appropriate compiler flags.\n"
     ]
    }
   ],
   "source": [
    "# Aufbau KNN\n",
    "model = tf.keras.Sequential([\n",
    "    tf.keras.layers.Dense(32, activation=tf.nn.sigmoid, input_dim=values.shape[1]),\n",
    "    tf.keras.layers.Dense(64, activation=tf.nn.sigmoid),\n",
    "    tf.keras.layers.Dense(1)\n",
    "])\n",
    "# Konfiguration des Lernprozesses\n",
    "model.compile(optimizer='adam', loss='mae', metrics=['mae'])"
   ]
  },
  {
   "cell_type": "markdown",
   "id": "beda700c-73d4-4506-8225-1ab33cc6c448",
   "metadata": {},
   "source": [
    "Trainieren"
   ]
  },
  {
   "cell_type": "code",
   "execution_count": 5,
   "id": "4a50fdb9-255c-4438-819e-a8c8d0614aa2",
   "metadata": {},
   "outputs": [
    {
     "name": "stdout",
     "output_type": "stream",
     "text": [
      "Epoch 1/70\n",
      "4/4 [==============================] - 0s 1ms/step - loss: 5.2599 - mae: 5.2599\n",
      "Epoch 2/70\n",
      "4/4 [==============================] - 0s 1ms/step - loss: 4.9568 - mae: 4.9568\n",
      "Epoch 3/70\n",
      "4/4 [==============================] - 0s 2ms/step - loss: 4.6531 - mae: 4.6531\n",
      "Epoch 4/70\n",
      "4/4 [==============================] - 0s 1ms/step - loss: 4.3479 - mae: 4.3479\n",
      "Epoch 5/70\n",
      "4/4 [==============================] - 0s 2ms/step - loss: 4.0419 - mae: 4.0419\n",
      "Epoch 6/70\n",
      "4/4 [==============================] - 0s 1ms/step - loss: 3.7347 - mae: 3.7347\n",
      "Epoch 7/70\n",
      "4/4 [==============================] - 0s 2ms/step - loss: 3.4261 - mae: 3.4261\n",
      "Epoch 8/70\n",
      "4/4 [==============================] - 0s 1ms/step - loss: 3.1168 - mae: 3.1168\n",
      "Epoch 9/70\n",
      "4/4 [==============================] - 0s 1ms/step - loss: 2.8063 - mae: 2.8063\n",
      "Epoch 10/70\n",
      "4/4 [==============================] - 0s 2ms/step - loss: 2.4951 - mae: 2.4951\n",
      "Epoch 11/70\n",
      "4/4 [==============================] - 0s 1ms/step - loss: 2.1829 - mae: 2.1829\n",
      "Epoch 12/70\n",
      "4/4 [==============================] - 0s 1ms/step - loss: 1.8702 - mae: 1.8702\n",
      "Epoch 13/70\n",
      "4/4 [==============================] - 0s 1ms/step - loss: 1.5571 - mae: 1.5571\n",
      "Epoch 14/70\n",
      "4/4 [==============================] - 0s 1ms/step - loss: 1.2608 - mae: 1.2608\n",
      "Epoch 15/70\n",
      "4/4 [==============================] - 0s 1ms/step - loss: 1.0247 - mae: 1.0247\n",
      "Epoch 16/70\n",
      "4/4 [==============================] - 0s 1ms/step - loss: 0.8445 - mae: 0.8445\n",
      "Epoch 17/70\n",
      "4/4 [==============================] - 0s 1ms/step - loss: 0.7436 - mae: 0.7436\n",
      "Epoch 18/70\n",
      "4/4 [==============================] - 0s 1ms/step - loss: 0.6849 - mae: 0.6849\n",
      "Epoch 19/70\n",
      "4/4 [==============================] - 0s 1ms/step - loss: 0.6672 - mae: 0.6672\n",
      "Epoch 20/70\n",
      "4/4 [==============================] - 0s 1ms/step - loss: 0.6598 - mae: 0.6598\n",
      "Epoch 21/70\n",
      "4/4 [==============================] - 0s 1ms/step - loss: 0.6526 - mae: 0.6526\n",
      "Epoch 22/70\n",
      "4/4 [==============================] - 0s 1ms/step - loss: 0.6440 - mae: 0.6440\n",
      "Epoch 23/70\n",
      "4/4 [==============================] - 0s 1ms/step - loss: 0.6317 - mae: 0.6317\n",
      "Epoch 24/70\n",
      "4/4 [==============================] - 0s 1ms/step - loss: 0.6158 - mae: 0.6158\n",
      "Epoch 25/70\n",
      "4/4 [==============================] - 0s 1ms/step - loss: 0.6012 - mae: 0.6012\n",
      "Epoch 26/70\n",
      "4/4 [==============================] - 0s 1ms/step - loss: 0.5871 - mae: 0.5871\n",
      "Epoch 27/70\n",
      "4/4 [==============================] - 0s 1ms/step - loss: 0.5752 - mae: 0.5752\n",
      "Epoch 28/70\n",
      "4/4 [==============================] - 0s 1ms/step - loss: 0.5626 - mae: 0.5626\n",
      "Epoch 29/70\n",
      "4/4 [==============================] - 0s 1ms/step - loss: 0.5537 - mae: 0.5537\n",
      "Epoch 30/70\n",
      "4/4 [==============================] - 0s 2ms/step - loss: 0.5451 - mae: 0.5451\n",
      "Epoch 31/70\n",
      "4/4 [==============================] - 0s 1ms/step - loss: 0.5364 - mae: 0.5364\n",
      "Epoch 32/70\n",
      "4/4 [==============================] - 0s 1ms/step - loss: 0.5279 - mae: 0.5279\n",
      "Epoch 33/70\n",
      "4/4 [==============================] - 0s 1ms/step - loss: 0.5195 - mae: 0.5195\n",
      "Epoch 34/70\n",
      "4/4 [==============================] - 0s 1ms/step - loss: 0.5122 - mae: 0.5122\n",
      "Epoch 35/70\n",
      "4/4 [==============================] - 0s 2ms/step - loss: 0.5052 - mae: 0.5052\n",
      "Epoch 36/70\n",
      "4/4 [==============================] - 0s 1ms/step - loss: 0.4966 - mae: 0.4966\n",
      "Epoch 37/70\n",
      "4/4 [==============================] - 0s 1ms/step - loss: 0.4896 - mae: 0.4896\n",
      "Epoch 38/70\n",
      "4/4 [==============================] - 0s 1ms/step - loss: 0.4823 - mae: 0.4823\n",
      "Epoch 39/70\n",
      "4/4 [==============================] - 0s 2ms/step - loss: 0.4754 - mae: 0.4754\n",
      "Epoch 40/70\n",
      "4/4 [==============================] - 0s 1ms/step - loss: 0.4688 - mae: 0.4688\n",
      "Epoch 41/70\n",
      "4/4 [==============================] - 0s 2ms/step - loss: 0.4623 - mae: 0.4623\n",
      "Epoch 42/70\n",
      "4/4 [==============================] - 0s 1ms/step - loss: 0.4569 - mae: 0.4569\n",
      "Epoch 43/70\n",
      "4/4 [==============================] - 0s 2ms/step - loss: 0.4498 - mae: 0.4498\n",
      "Epoch 44/70\n",
      "4/4 [==============================] - 0s 1ms/step - loss: 0.4430 - mae: 0.4430\n",
      "Epoch 45/70\n",
      "4/4 [==============================] - 0s 2ms/step - loss: 0.4372 - mae: 0.4372\n",
      "Epoch 46/70\n",
      "4/4 [==============================] - 0s 1ms/step - loss: 0.4312 - mae: 0.4312\n",
      "Epoch 47/70\n",
      "4/4 [==============================] - 0s 1ms/step - loss: 0.4252 - mae: 0.4252\n",
      "Epoch 48/70\n",
      "4/4 [==============================] - 0s 2ms/step - loss: 0.4197 - mae: 0.4197\n",
      "Epoch 49/70\n",
      "4/4 [==============================] - 0s 2ms/step - loss: 0.4139 - mae: 0.4139\n",
      "Epoch 50/70\n",
      "4/4 [==============================] - 0s 1ms/step - loss: 0.4085 - mae: 0.4085\n",
      "Epoch 51/70\n",
      "4/4 [==============================] - 0s 2ms/step - loss: 0.4035 - mae: 0.4035\n",
      "Epoch 52/70\n",
      "4/4 [==============================] - 0s 1ms/step - loss: 0.3991 - mae: 0.3991\n",
      "Epoch 53/70\n",
      "4/4 [==============================] - 0s 1ms/step - loss: 0.3946 - mae: 0.3946\n",
      "Epoch 54/70\n",
      "4/4 [==============================] - 0s 2ms/step - loss: 0.3908 - mae: 0.3908\n",
      "Epoch 55/70\n",
      "4/4 [==============================] - 0s 2ms/step - loss: 0.3867 - mae: 0.3867\n",
      "Epoch 56/70\n",
      "4/4 [==============================] - 0s 2ms/step - loss: 0.3833 - mae: 0.3833\n",
      "Epoch 57/70\n",
      "4/4 [==============================] - 0s 2ms/step - loss: 0.3796 - mae: 0.3796\n",
      "Epoch 58/70\n",
      "4/4 [==============================] - 0s 1ms/step - loss: 0.3772 - mae: 0.3772\n",
      "Epoch 59/70\n",
      "4/4 [==============================] - 0s 1ms/step - loss: 0.3733 - mae: 0.3733\n",
      "Epoch 60/70\n",
      "4/4 [==============================] - 0s 2ms/step - loss: 0.3697 - mae: 0.3697\n",
      "Epoch 61/70\n",
      "4/4 [==============================] - 0s 1ms/step - loss: 0.3668 - mae: 0.3668\n",
      "Epoch 62/70\n",
      "4/4 [==============================] - 0s 1ms/step - loss: 0.3637 - mae: 0.3637\n",
      "Epoch 63/70\n",
      "4/4 [==============================] - 0s 1ms/step - loss: 0.3621 - mae: 0.3621\n",
      "Epoch 64/70\n",
      "4/4 [==============================] - 0s 1ms/step - loss: 0.3585 - mae: 0.3585\n",
      "Epoch 65/70\n",
      "4/4 [==============================] - 0s 1ms/step - loss: 0.3566 - mae: 0.3566\n",
      "Epoch 66/70\n",
      "4/4 [==============================] - 0s 1ms/step - loss: 0.3557 - mae: 0.3557\n",
      "Epoch 67/70\n",
      "4/4 [==============================] - 0s 1ms/step - loss: 0.3526 - mae: 0.3526\n",
      "Epoch 68/70\n",
      "4/4 [==============================] - 0s 2ms/step - loss: 0.3503 - mae: 0.3503\n",
      "Epoch 69/70\n",
      "4/4 [==============================] - 0s 1ms/step - loss: 0.3484 - mae: 0.3484\n",
      "Epoch 70/70\n",
      "4/4 [==============================] - 0s 1ms/step - loss: 0.3464 - mae: 0.3464\n"
     ]
    },
    {
     "data": {
      "text/plain": [
       "<keras.callbacks.History at 0x7fe04a0a9c30>"
      ]
     },
     "execution_count": 5,
     "metadata": {},
     "output_type": "execute_result"
    }
   ],
   "source": [
    "# 70 Durchläufe\n",
    "model.fit(train_values, train_col, epochs=70)"
   ]
  },
  {
   "cell_type": "markdown",
   "id": "ea0a81e9-2436-43a7-ab5d-8f1c5dd92677",
   "metadata": {},
   "source": [
    "Testen"
   ]
  },
  {
   "cell_type": "code",
   "execution_count": 6,
   "id": "8688ed41-9918-4357-b390-f7fb248d7de4",
   "metadata": {},
   "outputs": [
    {
     "name": "stdout",
     "output_type": "stream",
     "text": [
      "1/1 [==============================] - 0s 110ms/step - loss: 0.2837 - mae: 0.2837\n",
      "Test accuracy: 0.2837475538253784\n"
     ]
    }
   ],
   "source": [
    "test_loss, test_acc = model.evaluate(test_values, test_col)\n",
    "print('Test accuracy:', test_acc)"
   ]
  },
  {
   "cell_type": "code",
   "execution_count": null,
   "id": "86840fd5-464c-458c-84bd-4932994e12d9",
   "metadata": {},
   "outputs": [],
   "source": []
  }
 ],
 "metadata": {
  "kernelspec": {
   "display_name": "Python 3 (ipykernel)",
   "language": "python",
   "name": "python3"
  },
  "language_info": {
   "codemirror_mode": {
    "name": "ipython",
    "version": 3
   },
   "file_extension": ".py",
   "mimetype": "text/x-python",
   "name": "python",
   "nbconvert_exporter": "python",
   "pygments_lexer": "ipython3",
   "version": "3.10.9"
  }
 },
 "nbformat": 4,
 "nbformat_minor": 5
}
