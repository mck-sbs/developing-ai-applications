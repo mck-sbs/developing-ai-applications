{
 "cells": [
  {
   "cell_type": "markdown",
   "id": "11e1deb9-f203-4938-a7e0-9e3cf708f955",
   "metadata": {},
   "source": [
    "Import required modules and load the file. The first lines are displayed."
   ]
  },
  {
   "cell_type": "code",
   "execution_count": null,
   "id": "6df77660-8df4-48bb-9c8a-3fce12e5c541",
   "metadata": {},
   "outputs": [],
   "source": [
    "import tensorflow as tf\n",
    "import pandas as pd\n",
    "from sklearn.model_selection import train_test_split\n",
    "from sklearn.preprocessing import OneHotEncoder, StandardScaler\n",
    "import numpy as np\n",
    "import joblib\n",
    "\n",
    "path = \"../Data/iris_test.csv\"\n",
    "data = pd.read_csv(path, delimiter=',')\n",
    "print(data.head())"
   ]
  },
  {
   "cell_type": "markdown",
   "id": "6572a434-7dfc-4fcf-9a1e-ce041a29277f",
   "metadata": {},
   "source": [
    "prepare data"
   ]
  },
  {
   "cell_type": "code",
   "execution_count": null,
   "id": "055117df-0b7c-484a-a570-ae557116a64c",
   "metadata": {},
   "outputs": [],
   "source": [
    "# Create Object.\n",
    "s_scaler = joblib.load('scaler2.joblib')\n",
    "# Scale data.\n",
    "data = s_scaler.transform(data)\n",
    "# OHEncoder \n",
    "oe = joblib.load('oe2.joblib')"
   ]
  },
  {
   "cell_type": "markdown",
   "id": "d224bc75-6906-4849-bd17-45893e5a289a",
   "metadata": {},
   "source": [
    "build ANN"
   ]
  },
  {
   "cell_type": "code",
   "execution_count": null,
   "id": "9498cc31-d3bf-424b-901a-cb9e3680002b",
   "metadata": {},
   "outputs": [],
   "source": [
    "model = tf.keras.models.load_model('model2.h5')"
   ]
  },
  {
   "cell_type": "markdown",
   "id": "beda700c-73d4-4506-8225-1ab33cc6c448",
   "metadata": {},
   "source": [
    "prediction"
   ]
  },
  {
   "cell_type": "code",
   "execution_count": null,
   "id": "4a50fdb9-255c-4438-819e-a8c8d0614aa2",
   "metadata": {},
   "outputs": [],
   "source": [
    "pred = model.predict(data)\n",
    "print(\"prediction:\",pred)\n",
    "\n",
    "num = np.argmax(pred)\n",
    "print(\"number:\",num)\n",
    "\n",
    "spec = oe.inverse_transform(pred)\n",
    "print(\"species:\",spec)"
   ]
  }
 ],
 "metadata": {
  "kernelspec": {
   "display_name": "Python 3 (ipykernel)",
   "language": "python",
   "name": "python3"
  },
  "language_info": {
   "codemirror_mode": {
    "name": "ipython",
    "version": 3
   },
   "file_extension": ".py",
   "mimetype": "text/x-python",
   "name": "python",
   "nbconvert_exporter": "python",
   "pygments_lexer": "ipython3",
   "version": "3.10.9"
  }
 },
 "nbformat": 4,
 "nbformat_minor": 5
}
