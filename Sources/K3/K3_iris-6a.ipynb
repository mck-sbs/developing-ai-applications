{
 "cells": [
  {
   "cell_type": "markdown",
   "id": "11e1deb9-f203-4938-a7e0-9e3cf708f955",
   "metadata": {},
   "source": [
    "Import required modules and load the file. The first lines are displayed."
   ]
  },
  {
   "cell_type": "code",
   "execution_count": null,
   "id": "6df77660-8df4-48bb-9c8a-3fce12e5c541",
   "metadata": {},
   "outputs": [],
   "source": [
    "import tensorflow as tf\n",
    "import pandas as pd\n",
    "from sklearn.model_selection import train_test_split\n",
    "from sklearn.preprocessing import LabelEncoder, StandardScaler\n",
    "import joblib\n",
    "\n",
    "path = \"../Data/iris.csv\"\n",
    "data = pd.read_csv(path, delimiter=',')"
   ]
  },
  {
   "cell_type": "code",
   "execution_count": null,
   "id": "1d0f1f56-94cc-4757-827f-d29e8f1b7de5",
   "metadata": {},
   "outputs": [],
   "source": [
    "# Output of the correlations.\n",
    "correlations = data[data.columns].corr(numeric_only=True)\n",
    "print('All correlations')\n",
    "print('-' * 30)\n",
    "correlations_abs_sum = correlations[correlations.columns].abs().sum()\n",
    "print(correlations_abs_sum)\n",
    "print('Weakest correlations')\n",
    "print('-' * 30)\n",
    "print(correlations_abs_sum.nsmallest(5))"
   ]
  },
  {
   "cell_type": "markdown",
   "id": "6572a434-7dfc-4fcf-9a1e-ce041a29277f",
   "metadata": {},
   "source": [
    "prepare data"
   ]
  },
  {
   "cell_type": "code",
   "execution_count": null,
   "id": "9e9639b7-1bc7-4bcd-b469-1a29d887fd63",
   "metadata": {},
   "outputs": [],
   "source": [
    "# species must be predicted.\n",
    "le = LabelEncoder()\n",
    "col = le.fit_transform(data['species'])\n",
    "data = data.drop(['species'], axis = 1)\n",
    "\n",
    "# Create Object\n",
    "s_scaler = StandardScaler()\n",
    "\n",
    "data = s_scaler.fit_transform(data)"
   ]
  },
  {
   "cell_type": "markdown",
   "id": "d224bc75-6906-4849-bd17-45893e5a289a",
   "metadata": {},
   "source": [
    "build ANN"
   ]
  },
  {
   "cell_type": "code",
   "execution_count": null,
   "id": "4bbff244-7ba0-439f-9c07-921afb0788ed",
   "metadata": {},
   "outputs": [],
   "source": [
    "# Create four tables from the two tables\n",
    "train_data, test_data, train_col, test_col = train_test_split(data,col, test_size=0.2, random_state=42)\n",
    "\n",
    "# Build ANN.\n",
    "model = tf.keras.Sequential([\n",
    "    tf.keras.layers.Dense(32, activation=tf.nn.sigmoid, input_dim=data.shape[1]),\n",
    "    tf.keras.layers.Dense(64, activation=tf.nn.sigmoid),\n",
    "    tf.keras.layers.Dense(3, activation=tf.nn.softmax)\n",
    "])\n",
    "# Configure ANN.\n",
    "model.compile(optimizer='adam', loss='sparse_categorical_crossentropy', metrics=['accuracy'])"
   ]
  },
  {
   "cell_type": "markdown",
   "id": "beda700c-73d4-4506-8225-1ab33cc6c448",
   "metadata": {},
   "source": [
    "train"
   ]
  },
  {
   "cell_type": "code",
   "execution_count": null,
   "id": "4a50fdb9-255c-4438-819e-a8c8d0614aa2",
   "metadata": {},
   "outputs": [],
   "source": [
    "# 70 runs\n",
    "model.fit(train_data, train_col, epochs=70)"
   ]
  },
  {
   "cell_type": "markdown",
   "id": "ea0a81e9-2436-43a7-ab5d-8f1c5dd92677",
   "metadata": {},
   "source": [
    "test"
   ]
  },
  {
   "cell_type": "code",
   "execution_count": null,
   "id": "8688ed41-9918-4357-b390-f7fb248d7de4",
   "metadata": {},
   "outputs": [],
   "source": [
    "test_loss, test_acc = model.evaluate(test_data, test_col)\n",
    "print('Test accuracy:', test_acc)"
   ]
  },
  {
   "cell_type": "code",
   "execution_count": null,
   "id": "8ca0c5a4-811d-4285-a90e-35248c9b3c4e",
   "metadata": {},
   "outputs": [],
   "source": [
    "# Save ANN, scaler and LabelEncoder\n",
    "model.save('model1.h5')\n",
    "joblib.dump(s_scaler,'scaler1.joblib')\n",
    "joblib.dump(le,'le1.joblib')"
   ]
  }
 ],
 "metadata": {
  "kernelspec": {
   "display_name": "Python 3 (ipykernel)",
   "language": "python",
   "name": "python3"
  },
  "language_info": {
   "codemirror_mode": {
    "name": "ipython",
    "version": 3
   },
   "file_extension": ".py",
   "mimetype": "text/x-python",
   "name": "python",
   "nbconvert_exporter": "python",
   "pygments_lexer": "ipython3",
   "version": "3.10.9"
  }
 },
 "nbformat": 4,
 "nbformat_minor": 5
}
