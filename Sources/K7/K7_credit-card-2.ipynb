{
 "cells": [
  {
   "cell_type": "markdown",
   "id": "11e1deb9-f203-4938-a7e0-9e3cf708f955",
   "metadata": {},
   "source": [
    "load modules an data"
   ]
  },
  {
   "cell_type": "code",
   "execution_count": null,
   "id": "6df77660-8df4-48bb-9c8a-3fce12e5c541",
   "metadata": {},
   "outputs": [],
   "source": [
    "import pandas as pd\n",
    "from sklearn.model_selection import train_test_split\n",
    "from sklearn import metrics\n",
    "from xgboost import XGBClassifier\n",
    "from sklearn.utils import resample\n",
    "\n",
    "path = \"../Data/creditcard.csv\"\n",
    "data = pd.read_csv(path, delimiter=',')\n",
    "print(data.head())"
   ]
  },
  {
   "cell_type": "markdown",
   "id": "40958aa7-02b3-4962-bd8f-e0ccf4af1844",
   "metadata": {},
   "source": [
    "Time indicates the seconds between each transaction and the first. Amount is the amount, Class=1 means fraud. V1 to V8 are processed attributes without description. There are 284,807 transactions stored, of which 492 are fraud cases (0.173%)."
   ]
  },
  {
   "cell_type": "markdown",
   "id": "6572a434-7dfc-4fcf-9a1e-ce041a29277f",
   "metadata": {},
   "source": [
    "prepare data"
   ]
  },
  {
   "cell_type": "code",
   "execution_count": null,
   "id": "39d24e0e-0035-445b-b1e2-537f3215b4b5",
   "metadata": {},
   "outputs": [],
   "source": [
    "data_nfraud = data[data['Class']==0]\n",
    "data_fraud = data[data['Class']==1]\n",
    "\n",
    "print(\"data_fraud vor Upsampling\", data_fraud.shape)\n",
    "print(\"datan_fraud vor Upsampling\", data_nfraud.shape)\n",
    "\n",
    "data_fraud = resample(data_fraud, n_samples=data_nfraud.shape[0], random_state=42)\n",
    "\n",
    "print(\"data_fraud nach Upsampling\", data_fraud.shape)\n",
    "print(\"datan_fraud nach Upsampling\", data_nfraud.shape)\n",
    "      \n",
    "data = pd.concat([data_fraud, data_nfraud])\n",
    "print(\"data nach Upsampling\", data.shape)"
   ]
  },
  {
   "cell_type": "code",
   "execution_count": null,
   "id": "f59f7f64-b877-406b-9821-5b997360fcb6",
   "metadata": {},
   "outputs": [],
   "source": [
    "col = data['Class']\n",
    "\n",
    "#data.drop(['Class'], axis = 1, inplace=True)\n",
    "data.drop(['Class', 'Time'], axis = 1, inplace=True)\n",
    "\n",
    "# print distribution\n",
    "print(col.value_counts())"
   ]
  },
  {
   "cell_type": "markdown",
   "id": "d224bc75-6906-4849-bd17-45893e5a289a",
   "metadata": {},
   "source": [
    "build, train and test model"
   ]
  },
  {
   "cell_type": "code",
   "execution_count": null,
   "id": "4bbff244-7ba0-439f-9c07-921afb0788ed",
   "metadata": {},
   "outputs": [],
   "source": [
    "# create four tables from the two tables\n",
    "train_data, test_data, train_col, test_col = train_test_split(data,col, test_size=0.2, random_state=42)\n",
    "\n",
    "xgb = XGBClassifier()\n",
    "\n",
    "xgb.fit(train_data, train_col)\n",
    "predicted_col = xgb.predict(test_data)\n",
    "\n",
    "score = metrics.accuracy_score(test_col, predicted_col)\n",
    "print(score)"
   ]
  },
  {
   "cell_type": "code",
   "execution_count": null,
   "id": "22ceda72-c5f3-42bb-8d44-b880da801c32",
   "metadata": {
    "tags": []
   },
   "outputs": [],
   "source": [
    "from sklearn.metrics import confusion_matrix, ConfusionMatrixDisplay\n",
    "\n",
    "cm = confusion_matrix(test_col, predicted_col)\n",
    "\n",
    "disp = ConfusionMatrixDisplay(cm)\n",
    "\n",
    "#print(test_col.shape)\n",
    "\n",
    "disp.plot()"
   ]
  }
 ],
 "metadata": {
  "kernelspec": {
   "display_name": "Python 3 (ipykernel)",
   "language": "python",
   "name": "python3"
  },
  "language_info": {
   "codemirror_mode": {
    "name": "ipython",
    "version": 3
   },
   "file_extension": ".py",
   "mimetype": "text/x-python",
   "name": "python",
   "nbconvert_exporter": "python",
   "pygments_lexer": "ipython3",
   "version": "3.10.9"
  }
 },
 "nbformat": 4,
 "nbformat_minor": 5
}
