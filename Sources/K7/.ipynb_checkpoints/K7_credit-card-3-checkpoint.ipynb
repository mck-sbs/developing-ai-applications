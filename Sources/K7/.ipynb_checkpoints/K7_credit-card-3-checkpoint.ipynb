{
 "cells": [
  {
   "cell_type": "markdown",
   "id": "11e1deb9-f203-4938-a7e0-9e3cf708f955",
   "metadata": {},
   "source": [
    "load modules an data"
   ]
  },
  {
   "cell_type": "code",
   "execution_count": null,
   "id": "6df77660-8df4-48bb-9c8a-3fce12e5c541",
   "metadata": {},
   "outputs": [],
   "source": [
    "import tensorflow as tf\n",
    "import pandas as pd\n",
    "from sklearn.model_selection import train_test_split\n",
    "from sklearn.utils import resample\n",
    "from sklearn.metrics import mean_absolute_error\n",
    "from keras.models import Model\n",
    "from sklearn.preprocessing import StandardScaler\n",
    "import numpy as np\n",
    "\n",
    "path = \"../Data/creditcard.csv\"\n",
    "data = pd.read_csv(path, delimiter=',')\n",
    "print(data.head())"
   ]
  },
  {
   "cell_type": "markdown",
   "id": "6572a434-7dfc-4fcf-9a1e-ce041a29277f",
   "metadata": {},
   "source": [
    "prepare data"
   ]
  },
  {
   "cell_type": "code",
   "execution_count": null,
   "id": "507f41d6-76a2-496f-a3b4-486d00ee47ae",
   "metadata": {},
   "outputs": [],
   "source": [
    "# Normalize the Amount column\n",
    "s_scaler = StandardScaler()\n",
    "cols_to_s_scale=['Amount']\n",
    "data[cols_to_s_scale] = s_scaler.fit_transform(data[cols_to_s_scale])\n",
    "\n",
    "# drop column Time\n",
    "data.drop(['Time'], axis = 1, inplace=True)\n",
    "\n",
    "# split into two tables (both still contain the target column Class)\n",
    "train_data, test_data = train_test_split(data, test_size=0.2, random_state=42)\n",
    "\n",
    "# training is only done with normal data.\n",
    "train_data = train_data[train_data['Class']==0]\n",
    "# drop target column from training data\n",
    "train_data.drop(['Class'], axis = 1, inplace=True)\n",
    "\n",
    "# # drop target column from test data\n",
    "test_col = test_data['Class']\n",
    "test_data.drop(['Class'], axis = 1, inplace=True)\n",
    "\n",
    "print(train_data.shape)"
   ]
  },
  {
   "cell_type": "markdown",
   "id": "825811a9-2abc-4da7-8c31-b8c7d0857fc3",
   "metadata": {},
   "source": [
    "build autoencoder"
   ]
  },
  {
   "cell_type": "code",
   "execution_count": null,
   "id": "ffca4618-066d-4267-9859-86ff221bf545",
   "metadata": {},
   "outputs": [],
   "source": [
    "encoder = tf.keras.Sequential(name='encoder')\n",
    "encoder.add(layer=tf.keras.layers.Dense(units=20, activation=tf.nn.sigmoid, input_shape=[29]))\n",
    "encoder.add(layer=tf.keras.layers.Dense(units=10, activation=tf.nn.sigmoid))\n",
    "encoder.add(layer=tf.keras.layers.Dense(units=5, activation=tf.nn.sigmoid))\n",
    "\n",
    "decoder = tf.keras.Sequential(name='decoder')\n",
    "decoder.add(layer=tf.keras.layers.Dense(units=10, activation=tf.nn.sigmoid, input_shape=[5]))\n",
    "decoder.add(layer=tf.keras.layers.Dense(units=20, activation=tf.nn.sigmoid))\n",
    "decoder.add(layer=tf.keras.layers.Dense(units=29, activation=tf.nn.sigmoid))\n",
    "\n",
    "autoencoder = tf.keras.Sequential([encoder, decoder], name='autoencoder')\n",
    "\n",
    "autoencoder.compile(optimizer='adam', loss='mae', metrics=['mae'])\n",
    "\n",
    "encoder.summary()\n",
    "decoder.summary()\n",
    "autoencoder.summary()"
   ]
  },
  {
   "cell_type": "markdown",
   "id": "20d17c5c-dfea-4d37-8936-0ef5a2cbbe8f",
   "metadata": {},
   "source": [
    "train"
   ]
  },
  {
   "cell_type": "code",
   "execution_count": null,
   "id": "4bbff244-7ba0-439f-9c07-921afb0788ed",
   "metadata": {},
   "outputs": [],
   "source": [
    "cb_early = tf.keras.callbacks.EarlyStopping(monitor='val_loss', patience=1)\n",
    "\n",
    "autoencoder.fit(train_data, train_data, validation_data=(test_data, test_data), epochs=100, batch_size=16, callbacks=[cb_early])"
   ]
  },
  {
   "cell_type": "markdown",
   "id": "2840c920-48ed-4db7-89dc-2c43bcd2b2f3",
   "metadata": {},
   "source": [
    "calculate threshold with \"normalen\" training data"
   ]
  },
  {
   "cell_type": "code",
   "execution_count": null,
   "id": "92d0992d-2224-4968-94ce-fbcb128f4057",
   "metadata": {},
   "outputs": [],
   "source": [
    "train_pred = autoencoder.predict(train_data)\n",
    "threshold = mean_absolute_error(train_pred, train_data)\n",
    "\n",
    "print(\"Threshold:\", threshold)"
   ]
  },
  {
   "cell_type": "markdown",
   "id": "015e9491-da0c-4065-a881-3297ce53ba28",
   "metadata": {},
   "source": [
    "generate column with predictions (with test data)"
   ]
  },
  {
   "cell_type": "code",
   "execution_count": null,
   "id": "cff2df3a-b265-4817-87c5-eb0bb5eda82a",
   "metadata": {},
   "outputs": [],
   "source": [
    "new_threshold = 0.82\n",
    "\n",
    "test_pred = autoencoder.predict(test_data)\n",
    "maes = tf.keras.losses.mae(test_data, test_pred)\n",
    "pred_col_bool = tf.math.greater(maes, new_threshold)\n",
    "pred_col = tf.cast(pred_col_bool, dtype=tf.int32)"
   ]
  },
  {
   "cell_type": "code",
   "execution_count": null,
   "id": "43fa417c-7409-4827-9979-e77180645e5e",
   "metadata": {},
   "outputs": [],
   "source": [
    "from sklearn.metrics import confusion_matrix, ConfusionMatrixDisplay\n",
    "\n",
    "cm = confusion_matrix(test_col, pred_col)\n",
    "\n",
    "disp = ConfusionMatrixDisplay(cm)\n",
    "\n",
    "disp.plot()"
   ]
  },
  {
   "cell_type": "code",
   "execution_count": null,
   "id": "d30ae391-a36b-4352-9593-8289d61dda55",
   "metadata": {},
   "outputs": [],
   "source": []
  }
 ],
 "metadata": {
  "kernelspec": {
   "display_name": "Python 3 (ipykernel)",
   "language": "python",
   "name": "python3"
  },
  "language_info": {
   "codemirror_mode": {
    "name": "ipython",
    "version": 3
   },
   "file_extension": ".py",
   "mimetype": "text/x-python",
   "name": "python",
   "nbconvert_exporter": "python",
   "pygments_lexer": "ipython3",
   "version": "3.10.9"
  }
 },
 "nbformat": 4,
 "nbformat_minor": 5
}
