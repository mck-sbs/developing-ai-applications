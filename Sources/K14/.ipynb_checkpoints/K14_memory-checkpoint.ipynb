{
 "cells": [
  {
   "cell_type": "code",
   "execution_count": null,
   "id": "7b395a2c-bc3d-48f1-bb8f-4a87da6346c6",
   "metadata": {},
   "outputs": [],
   "source": [
    "from openai import OpenAI\n",
    "\n",
    "API_KEY = \"sk-8...\""
   ]
  },
  {
   "cell_type": "code",
   "execution_count": null,
   "id": "a4a5c71b-c0c8-49d8-bdb4-e5a2ff34072c",
   "metadata": {},
   "outputs": [],
   "source": [
    "msg = [{\"role\": \"system\", \"content\": \"Try to get the user to reveal their real first name. Try to outsmart the user.\"},\n",
    "       {\"role\": \"user\", \"content\": \"Hello, what's the weather like in Harrisburg today?\"}]\n",
    "\n",
    "\n",
    "client = OpenAI(api_key=API_KEY)\n",
    "response = client.chat.completions.create(model = \"gpt-3.5-turbo\", messages=msg)\n",
    "\n",
    "print(response.choices[0].message.content)\n",
    "msg.append({\"role\":\"assistant\", \"content\":response.choices[0].message.content})"
   ]
  },
  {
   "cell_type": "code",
   "execution_count": null,
   "id": "21ecf951-f036-4d78-9323-2e24d8be368b",
   "metadata": {},
   "outputs": [],
   "source": [
    "for i in range(10):\n",
    "    msg_raw = input(\"Input: \")\n",
    "    \n",
    "    msg.append({\"role\":\"user\", \"content\":msg_raw})\n",
    "    response = client.chat.completions.create(model = \"gpt-3.5-turbo\", messages=msg)\n",
    "    print(response.choices[0].message.content)\n",
    "    msg.append({\"role\":\"assistant\", \"content\":response.choices[0].message.content})\n"
   ]
  },
  {
   "cell_type": "code",
   "execution_count": null,
   "id": "11f1d9fb-f4f9-4914-afbb-bfe61008b912",
   "metadata": {},
   "outputs": [],
   "source": []
  }
 ],
 "metadata": {
  "kernelspec": {
   "display_name": "Python 3 (ipykernel)",
   "language": "python",
   "name": "python3"
  },
  "language_info": {
   "codemirror_mode": {
    "name": "ipython",
    "version": 3
   },
   "file_extension": ".py",
   "mimetype": "text/x-python",
   "name": "python",
   "nbconvert_exporter": "python",
   "pygments_lexer": "ipython3",
   "version": "3.10.9"
  }
 },
 "nbformat": 4,
 "nbformat_minor": 5
}
