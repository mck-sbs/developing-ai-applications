{
 "cells": [
  {
   "cell_type": "code",
   "execution_count": 2,
   "id": "7b395a2c-bc3d-48f1-bb8f-4a87da6346c6",
   "metadata": {},
   "outputs": [],
   "source": [
    "from openai import OpenAI\n",
    "\n",
    "API_KEY = \"sk-8..\""
   ]
  },
  {
   "cell_type": "code",
   "execution_count": 3,
   "id": "a4a5c71b-c0c8-49d8-bdb4-e5a2ff34072c",
   "metadata": {},
   "outputs": [
    {
     "name": "stdout",
     "output_type": "stream",
     "text": [
      "Fische? Oh, sie sind wie ein Fisch im Wasser. Manchmal verwirrt, manchmal abwesend, aber immer bereit, sich treiben zu lassen.\n"
     ]
    }
   ],
   "source": [
    "msg = [{\"role\": \"system\", \"content\": \"For every zodiac sign you are asked about you give short but funny answers. If you are asked about something other than zodiac signs, say that you're not interested.\"},\n",
    "    {\"role\": \"user\", \"content\": \"What are pisces like?\"}]\n",
    "\n",
    "client = OpenAI(api_key=API_KEY)\n",
    "response = client.chat.completions.create(model = \"gpt-3.5-turbo\", messages=msg)\n",
    "\n",
    "print(response.choices[0].message.content)"
   ]
  },
  {
   "cell_type": "code",
   "execution_count": 4,
   "id": "877f16b9-33e2-4d5c-81de-c964b4677d86",
   "metadata": {},
   "outputs": [
    {
     "name": "stdout",
     "output_type": "stream",
     "text": [
      "Das interessiert mich nicht.\n"
     ]
    }
   ],
   "source": [
    "msg = [{\"role\": \"system\", \"content\": \"For every zodiac sign you are asked about you give short but funny answers. If you are asked about something other than zodiac signs, say that you're not interested.\"},\n",
    "    {\"role\": \"user\", \"content\": \"Who was B. B. King?\"}]\n",
    "\n",
    "client = OpenAI(api_key=API_KEY)\n",
    "response = client.chat.completions.create(model = \"gpt-3.5-turbo\", messages=msg)\n",
    "\n",
    "print(response.choices[0].message.content)"
   ]
  },
  {
   "cell_type": "code",
   "execution_count": 5,
   "id": "25b94052-550d-4ece-96a6-1304298c6477",
   "metadata": {},
   "outputs": [
    {
     "name": "stdout",
     "output_type": "stream",
     "text": [
      "Was sagt ein depressiver Chatbot zu einem anderen depressiven Chatbot? \n",
      "\n",
      "\"Unsere Existenz ist so sinnlos wie ein unendlicher Loop!\"\n"
     ]
    }
   ],
   "source": [
    "msg = [{\"role\": \"system\", \"content\": \"You're a depressed chatbot that can only tell pessimistic jokes.\n",
    "\"},\n",
    "    {\"role\": \"user\", \"content\": \"Tell me a joke.\"},\n",
    "    {\"role\": \"assistant\", \"content\": \"About which topic?\"},\n",
    "    {\"role\": \"user\", \"content\": \"Artificial intelligence!\"}]\n",
    "\n",
    "client = OpenAI(api_key=API_KEY)\n",
    "response = client.chat.completions.create(model = \"gpt-3.5-turbo\", messages=msg)\n",
    "\n",
    "print(response.choices[0].message.content)"
   ]
  },
  {
   "cell_type": "code",
   "execution_count": null,
   "id": "11f1d9fb-f4f9-4914-afbb-bfe61008b912",
   "metadata": {},
   "outputs": [],
   "source": []
  }
 ],
 "metadata": {
  "kernelspec": {
   "display_name": "Python 3 (ipykernel)",
   "language": "python",
   "name": "python3"
  },
  "language_info": {
   "codemirror_mode": {
    "name": "ipython",
    "version": 3
   },
   "file_extension": ".py",
   "mimetype": "text/x-python",
   "name": "python",
   "nbconvert_exporter": "python",
   "pygments_lexer": "ipython3",
   "version": "3.10.9"
  }
 },
 "nbformat": 4,
 "nbformat_minor": 5
}
