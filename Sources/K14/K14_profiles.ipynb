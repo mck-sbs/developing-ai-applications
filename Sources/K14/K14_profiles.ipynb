{
 "cells": [
  {
   "cell_type": "code",
   "execution_count": null,
   "id": "7b395a2c-bc3d-48f1-bb8f-4a87da6346c6",
   "metadata": {},
   "outputs": [],
   "source": [
    "from openai import OpenAI\n",
    "\n",
    "API_KEY = \"sk-8\""
   ]
  },
  {
   "cell_type": "code",
   "execution_count": null,
   "id": "a4a5c71b-c0c8-49d8-bdb4-e5a2ff34072c",
   "metadata": {},
   "outputs": [],
   "source": [
    "temp = 1\n",
    "maxt = 500\n",
    "n=1\n",
    "user = \"test-1\"\n",
    "modell = \"gpt-3.5-turbo\"\n",
    "\n",
    "user_profile = {\n",
    " \"user\" : user,\n",
    " \"city\": \"Harrisburg, Pennsylvania\",\n",
    " \"interests\" : [\"AI\", \"blues\", \"literature\", \"sport\"]}\n",
    "    \n",
    "system_content = \"The user lives in {}, the interests are {}. Each answer should have a reference to the place of residence or interests\".format(user_profile[\"city\"], user_profile[\"interests\"])\n",
    "\n",
    "msg = [{\"role\": \"system\", \"content\": system_content},\n",
    " {\"role\": \"user\", \"content\": \"Tell me a short joke.\"}]\n",
    "\n",
    "client = OpenAI(api_key=API_KEY)\n",
    "response = client.chat.completions.create(model = \"gpt-3.5-turbo\", messages=msg,\n",
    " temperature=temp, max_tokens=maxt, n=n, user=user)\n",
    "\n",
    "print(response.choices[0].message.content)\n"
   ]
  },
  {
   "cell_type": "code",
   "execution_count": null,
   "id": "a5c290b8-0c5e-4e16-b312-b4003cd62ac6",
   "metadata": {},
   "outputs": [],
   "source": [
    "print(type(user_profile))"
   ]
  },
  {
   "cell_type": "code",
   "execution_count": null,
   "id": "3e9fbaa4-1e31-4dc6-8b74-f46a13f27a73",
   "metadata": {},
   "outputs": [],
   "source": []
  }
 ],
 "metadata": {
  "kernelspec": {
   "display_name": "Python 3 (ipykernel)",
   "language": "python",
   "name": "python3"
  },
  "language_info": {
   "codemirror_mode": {
    "name": "ipython",
    "version": 3
   },
   "file_extension": ".py",
   "mimetype": "text/x-python",
   "name": "python",
   "nbconvert_exporter": "python",
   "pygments_lexer": "ipython3",
   "version": "3.11.5"
  }
 },
 "nbformat": 4,
 "nbformat_minor": 5
}
