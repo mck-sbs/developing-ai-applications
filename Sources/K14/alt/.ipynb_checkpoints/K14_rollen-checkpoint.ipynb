{
 "cells": [
  {
   "cell_type": "code",
   "execution_count": null,
   "id": "7b395a2c-bc3d-48f1-bb8f-4a87da6346c6",
   "metadata": {},
   "outputs": [],
   "source": [
    "import openai\n",
    "\n",
    "openai.api_key = \"API-Key\""
   ]
  },
  {
   "cell_type": "code",
   "execution_count": null,
   "id": "a4a5c71b-c0c8-49d8-bdb4-e5a2ff34072c",
   "metadata": {},
   "outputs": [],
   "source": [
    "msg = [{\"role\": \"system\", \"content\": \"Zu jedem Sternzeichen, zu dem du gefragt wirst, gibst du kurze, aber lustige Antworten. Wenn du nach ertwas anderem als zu Sternzeichen gefragt wirst, sage, dass dich das nicht interessiert. \"},\n",
    "    {\"role\": \"user\", \"content\": \"Wie sind Fische so?\"}]\n",
    "\n",
    "response = openai.ChatCompletion.create(model = \"gpt-3.5-turbo\", messages = msg)\n",
    "\n",
    "print(response.choices[0].message.content)"
   ]
  },
  {
   "cell_type": "code",
   "execution_count": null,
   "id": "877f16b9-33e2-4d5c-81de-c964b4677d86",
   "metadata": {},
   "outputs": [],
   "source": [
    "msg = [{\"role\": \"system\", \"content\": \"Zu jedem Sternzeichen, zu dem du gefragt wirst, gibst du kurze, aber lustige Antworten. Wenn du nach ertwas anderem als zu Sternzeichen gefragt wirst, sage, dass dich das nicht interessiert. \"},\n",
    "    {\"role\": \"user\", \"content\": \"Wer war B. B. King?\"}]\n",
    "\n",
    "response = openai.ChatCompletion.create(model = \"gpt-3.5-turbo\", messages = msg)\n",
    "\n",
    "print(response.choices[0].message.content)"
   ]
  },
  {
   "cell_type": "code",
   "execution_count": null,
   "id": "25b94052-550d-4ece-96a6-1304298c6477",
   "metadata": {},
   "outputs": [],
   "source": [
    "msg = [{\"role\": \"system\", \"content\": \"Du bist ein depressiver Chatbot, der nur pessimistische Witze erzählen kann\"},\n",
    "    {\"role\": \"user\", \"content\": \"Erzähle mir einen Witz?\"},\n",
    "    {\"role\": \"assistant\", \"content\": \"Über welches Thema?\"},\n",
    "    {\"role\": \"user\", \"content\": \"Künstliche Intelligenz!\"}]\n",
    "\n",
    "response = openai.ChatCompletion.create(model = \"gpt-3.5-turbo\", messages = msg)\n",
    "\n",
    "print(response.choices[0].message.content)"
   ]
  },
  {
   "cell_type": "code",
   "execution_count": null,
   "id": "11f1d9fb-f4f9-4914-afbb-bfe61008b912",
   "metadata": {},
   "outputs": [],
   "source": []
  }
 ],
 "metadata": {
  "kernelspec": {
   "display_name": "Python 3 (ipykernel)",
   "language": "python",
   "name": "python3"
  },
  "language_info": {
   "codemirror_mode": {
    "name": "ipython",
    "version": 3
   },
   "file_extension": ".py",
   "mimetype": "text/x-python",
   "name": "python",
   "nbconvert_exporter": "python",
   "pygments_lexer": "ipython3",
   "version": "3.11.0"
  }
 },
 "nbformat": 4,
 "nbformat_minor": 5
}
