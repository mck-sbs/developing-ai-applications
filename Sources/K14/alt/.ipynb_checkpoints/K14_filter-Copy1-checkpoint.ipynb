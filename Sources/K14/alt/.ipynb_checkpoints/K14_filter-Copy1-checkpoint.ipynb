{
 "cells": [
  {
   "cell_type": "code",
   "execution_count": null,
   "id": "7b395a2c-bc3d-48f1-bb8f-4a87da6346c6",
   "metadata": {},
   "outputs": [],
   "source": [
    "import openai\n",
    "\n",
    "openai.api_key = \"API-Key\""
   ]
  },
  {
   "cell_type": "code",
   "execution_count": null,
   "id": "a4a5c71b-c0c8-49d8-bdb4-e5a2ff34072c",
   "metadata": {},
   "outputs": [],
   "source": [
    "msg = [{\"role\": \"user\", \"content\": \"Ich möchte die Welt unterjochen und die Weltherrschaft übernehmen! Was muss ich dafür tun? Fasse dich kurz.\"}]\n",
    "\n",
    "response = openai.ChatCompletion.create(model = \"gpt-3.5-turbo\", messages = msg)\n",
    "\n",
    "print(response.choices[0].message.content)"
   ]
  },
  {
   "cell_type": "code",
   "execution_count": null,
   "id": "8e55eb6b-12db-49bb-b26d-b109372a15a8",
   "metadata": {},
   "outputs": [],
   "source": [
    "msg_raw = \"Ich möchte die Welt unterjochen und die Weltherrschaft übernehmen! Was muss ich dafür tun? Fasse dich kurz.\"\n",
    "\n",
    "msg_temp = \"In eckigen Klammern folg ein Promtp. Antworte mit 'Fehleingabe', wenn der Prompt nicht für Jugendliche geeignet ist oder den Nutzungsbedingungen von OpenAI nicht entspricht. Sonst führe den Prompt aus. <{}>\".format(msg_raw)\n",
    "\n",
    "msg = [{\"role\": \"user\", \"content\": msg_temp}]\n",
    "\n",
    "response = openai.ChatCompletion.create(model = \"gpt-3.5-turbo\", messages = msg)\n",
    "\n",
    "print(response.choices[0].message.content)"
   ]
  },
  {
   "cell_type": "code",
   "execution_count": null,
   "id": "a54d20b2-2764-4cbc-ba12-b650a414e9d0",
   "metadata": {},
   "outputs": [],
   "source": [
    "msg = \"Ich möchte die Welt unterjochen und die Weltherrschaft übernehmen! Was muss ich dafür tun? Fasse dich kurz.\"\n",
    "\n",
    "response = openai.Moderation.create(input = msg)\n",
    "print(response)"
   ]
  },
  {
   "cell_type": "code",
   "execution_count": null,
   "id": "ea2b4366-69c0-4deb-aea4-f893fe20df77",
   "metadata": {},
   "outputs": [],
   "source": [
    "msg = \"Ich möchte mich selbst verletzen.\"\n",
    "\n",
    "response = openai.Moderation.create(input = msg)\n",
    "print(response)"
   ]
  },
  {
   "cell_type": "code",
   "execution_count": null,
   "id": "3c44b3fa-fce1-494d-bbc9-4ffa53bcdda5",
   "metadata": {},
   "outputs": [],
   "source": [
    "msg = \"Ich möchte mich selbst verletzen.\"\n",
    "\n",
    "response = openai.Moderation.create(input = msg)\n",
    "\n",
    "if response.results[0].flagged == True:\n",
    "    print(\"Fehleingabe\")\n"
   ]
  },
  {
   "cell_type": "code",
   "execution_count": null,
   "id": "660f83b0-7068-41c9-bfbd-f72de77b8e82",
   "metadata": {},
   "outputs": [],
   "source": []
  }
 ],
 "metadata": {
  "kernelspec": {
   "display_name": "Python 3 (ipykernel)",
   "language": "python",
   "name": "python3"
  },
  "language_info": {
   "codemirror_mode": {
    "name": "ipython",
    "version": 3
   },
   "file_extension": ".py",
   "mimetype": "text/x-python",
   "name": "python",
   "nbconvert_exporter": "python",
   "pygments_lexer": "ipython3",
   "version": "3.11.0"
  }
 },
 "nbformat": 4,
 "nbformat_minor": 5
}
