{
 "cells": [
  {
   "cell_type": "code",
   "execution_count": null,
   "id": "7b395a2c-bc3d-48f1-bb8f-4a87da6346c6",
   "metadata": {},
   "outputs": [],
   "source": [
    "import openai\n",
    "\n",
    "openai.api_key = \"API-Key\""
   ]
  },
  {
   "cell_type": "code",
   "execution_count": null,
   "id": "a5c290b8-0c5e-4e16-b312-b4003cd62ac6",
   "metadata": {},
   "outputs": [],
   "source": [
    "audio_file= open(\"../Data/audio.mp3\", \"rb\")\n",
    "transcript = openai.Audio.transcribe(\"whisper-1\", audio_file)"
   ]
  },
  {
   "cell_type": "code",
   "execution_count": null,
   "id": "3580c178-1d9b-4201-8b67-4d30c3607602",
   "metadata": {},
   "outputs": [],
   "source": [
    "print(transcript)"
   ]
  },
  {
   "cell_type": "code",
   "execution_count": null,
   "id": "5a295d5c-8f7b-44ba-9fe7-d6be52813528",
   "metadata": {},
   "outputs": [],
   "source": [
    "print(transcript[\"text\"])"
   ]
  },
  {
   "cell_type": "code",
   "execution_count": null,
   "id": "25703717-a4ab-4bd0-a3ab-cbb205e98782",
   "metadata": {},
   "outputs": [],
   "source": [
    "temp = 1\n",
    "maxt = 1000\n",
    "n = 1\n",
    "user = \"test-1\"\n",
    "modell = \"gpt-3.5-turbo\"\n",
    "    \n",
    "role_content = \"Erzähle eine Kurzgeschichte mit über Sonne und Mond im ähnlichen Stil wie die folgende Geschichte: {}\".format(transcript[\"text\"])\n",
    "\n",
    "msg = [{\"role\": \"user\", \"content\": role_content}]\n",
    "\n",
    "response = openai.ChatCompletion.create(model = modell, messages=msg, temperature=temp, max_tokens=maxt, n=n, user=user)\n",
    "\n",
    "print(response.choices[0].message.content)"
   ]
  },
  {
   "cell_type": "code",
   "execution_count": null,
   "id": "ce2385ee-bc4c-4c84-97b8-7f87136a8102",
   "metadata": {},
   "outputs": [],
   "source": [
    "temp = 1\n",
    "maxt = 1000\n",
    "n = 1\n",
    "user = \"test-1\"\n",
    "modell = \"gpt-3.5-turbo\"\n",
    "    \n",
    "role_content = \"Übersetze ins Englische: {}\".format(transcript[\"text\"])\n",
    "\n",
    "msg = [{\"role\": \"user\", \"content\": role_content}]\n",
    "\n",
    "response = openai.ChatCompletion.create(model = modell, messages=msg, temperature=temp, max_tokens=maxt, n=n, user=user)\n",
    "\n",
    "print(response.choices[0].message.content)"
   ]
  },
  {
   "cell_type": "code",
   "execution_count": null,
   "id": "6f74edc5-5e12-4a65-8d5f-9d17f8714948",
   "metadata": {},
   "outputs": [],
   "source": [
    "file = \"../Data/audio.mp3\"\n",
    "modell = \"whisper-1\"\n",
    "temp = 0.8 # 0 bis 1\n",
    "prompt = \"Translate in Shakesparean style\"\n",
    "\n",
    "audio_file= open(file, \"rb\")\n",
    "transcript = openai.Audio.translate(model=modell, file=audio_file, temperature=temp, prompt=prompt)\n",
    "print(transcript[\"text\"])"
   ]
  },
  {
   "cell_type": "code",
   "execution_count": null,
   "id": "e83ea6cf-6c6f-496b-a949-8fcc9d609d2d",
   "metadata": {},
   "outputs": [],
   "source": []
  }
 ],
 "metadata": {
  "kernelspec": {
   "display_name": "Python 3 (ipykernel)",
   "language": "python",
   "name": "python3"
  },
  "language_info": {
   "codemirror_mode": {
    "name": "ipython",
    "version": 3
   },
   "file_extension": ".py",
   "mimetype": "text/x-python",
   "name": "python",
   "nbconvert_exporter": "python",
   "pygments_lexer": "ipython3",
   "version": "3.11.0"
  }
 },
 "nbformat": 4,
 "nbformat_minor": 5
}
