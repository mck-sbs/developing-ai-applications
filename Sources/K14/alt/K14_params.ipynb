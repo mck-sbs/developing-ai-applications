{
 "cells": [
  {
   "cell_type": "code",
   "execution_count": null,
   "id": "7b395a2c-bc3d-48f1-bb8f-4a87da6346c6",
   "metadata": {},
   "outputs": [],
   "source": [
    "import openai\n",
    "\n",
    "openai.api_key = \"API-Key\""
   ]
  },
  {
   "cell_type": "code",
   "execution_count": null,
   "id": "a478cba1-339a-4ef1-87e8-69915b22b197",
   "metadata": {},
   "outputs": [],
   "source": [
    "temperature"
   ]
  },
  {
   "cell_type": "code",
   "execution_count": null,
   "id": "00df4090-03b5-4d69-a00f-b93330b6cb2f",
   "metadata": {},
   "outputs": [],
   "source": [
    "msg = [{\"role\": \"user\", \"content\": \"Lebst du?\"}]\n",
    "tmp = 1.2\n",
    "\n",
    "for i in range(5):\n",
    "    response = openai.ChatCompletion.create(model = \"gpt-3.5-turbo\", messages=msg, temperature=tmp)\n",
    "    print(\"*\", response.choices[0].message.content)"
   ]
  },
  {
   "cell_type": "markdown",
   "id": "bc21442b-dd97-4489-9be7-4435a7d78c7d",
   "metadata": {},
   "source": [
    "top_k"
   ]
  },
  {
   "cell_type": "code",
   "execution_count": null,
   "id": "ab145ba6-8576-44b6-958c-3af2233a2d22",
   "metadata": {},
   "outputs": [],
   "source": [
    "msg = [{\"role\": \"user\", \"content\": \"Lebst du?\"}]\n",
    "top = 0.1\n",
    "\n",
    "for i in range(5):\n",
    "    response = openai.ChatCompletion.create(model = \"gpt-3.5-turbo\", messages=msg, top_p=top)\n",
    "    print(\"*\", response.choices[0].message.content)"
   ]
  },
  {
   "cell_type": "code",
   "execution_count": null,
   "id": "0312b5ce-f68f-4cca-ba93-23cb8cd0c39c",
   "metadata": {},
   "outputs": [],
   "source": [
    "max_tokens"
   ]
  },
  {
   "cell_type": "code",
   "execution_count": null,
   "id": "ab5ae5f0-62d9-4701-a95f-df7645187a2e",
   "metadata": {},
   "outputs": [],
   "source": [
    "msg = [{\"role\": \"user\", \"content\": \"Was ist ein pH-Wert? Erkläre ausführlich!\"}]\n",
    "maxt = 50\n",
    "\n",
    "response = openai.ChatCompletion.create(model = \"gpt-3.5-turbo\", messages=msg, max_tokens=maxt)\n",
    "print(response.choices[0].message.content)"
   ]
  },
  {
   "cell_type": "markdown",
   "id": "60b1f153-62a3-47a6-a7c2-a34b4265adae",
   "metadata": {},
   "source": [
    "n"
   ]
  },
  {
   "cell_type": "code",
   "execution_count": null,
   "id": "777d7cae-e042-4602-98a9-6fa2b084b924",
   "metadata": {},
   "outputs": [],
   "source": [
    "msg = [{\"role\": \"user\", \"content\": \"Generiere eine Python-Methode, um alle Primzahlen bis 1000 zu berechnen. Mache drei verschiedene Vorschläge\"}]\n",
    "n = 1\n",
    "\n",
    "response = openai.ChatCompletion.create(model = \"gpt-3.5-turbo\", messages=msg, n=n)\n",
    "\n",
    "for i in range(n):\n",
    "    print(\"*\", response.choices[i].message.content)"
   ]
  },
  {
   "cell_type": "code",
   "execution_count": null,
   "id": "20238e0c-5c02-4f95-9009-83885f875746",
   "metadata": {},
   "outputs": [],
   "source": [
    "msg = [{\"role\": \"user\", \"content\": \"Wie falte ich einen Papierflieger? Fasse sich kurz.\"}]\n",
    "temp = 0.3\n",
    "maxt = 500\n",
    "n = 1\n",
    "user = \"test-1\"\n",
    "modell = \"gpt-3.5-turbo\"\n",
    "\n",
    "response = openai.ChatCompletion.create(model = modell, messages=msg, temperature=temp,max_tokens=maxt, n=n, user=user)\n",
    "\n",
    "print(response.choices[0].message.content)"
   ]
  },
  {
   "cell_type": "code",
   "execution_count": null,
   "id": "b9aa27dc-f57d-4769-a91c-a6bd618dbf8f",
   "metadata": {},
   "outputs": [],
   "source": []
  }
 ],
 "metadata": {
  "kernelspec": {
   "display_name": "Python 3 (ipykernel)",
   "language": "python",
   "name": "python3"
  },
  "language_info": {
   "codemirror_mode": {
    "name": "ipython",
    "version": 3
   },
   "file_extension": ".py",
   "mimetype": "text/x-python",
   "name": "python",
   "nbconvert_exporter": "python",
   "pygments_lexer": "ipython3",
   "version": "3.11.0"
  }
 },
 "nbformat": 4,
 "nbformat_minor": 5
}
