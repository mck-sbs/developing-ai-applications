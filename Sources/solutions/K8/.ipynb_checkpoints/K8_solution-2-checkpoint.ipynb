{
 "cells": [
  {
   "cell_type": "markdown",
   "id": "11e1deb9-f203-4938-a7e0-9e3cf708f955",
   "metadata": {},
   "source": [
    "load modules and data"
   ]
  },
  {
   "cell_type": "code",
   "execution_count": null,
   "id": "6df77660-8df4-48bb-9c8a-3fce12e5c541",
   "metadata": {},
   "outputs": [],
   "source": [
    "import tensorflow as tf\n",
    "import pandas as pd\n",
    "from sklearn.model_selection import train_test_split\n",
    "from sklearn.utils import resample\n",
    "\n",
    "path = \"../../Data/spam.csv\"\n",
    "data = pd.read_csv(path, delimiter=',')\n",
    "\n",
    "MAX_FEATURES = 10000\n",
    "SEQUENCE_LENGTH = 100\n",
    "\n",
    "print(data.head())\n",
    "print(data.shape)\n",
    "\n",
    "# output of distribution\n",
    "print(data['Category'].value_counts())"
   ]
  },
  {
   "cell_type": "code",
   "execution_count": null,
   "id": "e34b0388-9259-415b-b088-4d88b4306bc7",
   "metadata": {},
   "outputs": [],
   "source": [
    "# transform string to numbers\n",
    "data['Category'] = data['Category'].astype('category')\n",
    "data['Category'] = data['Category'].cat.codes\n",
    "print(data.head())"
   ]
  },
  {
   "cell_type": "code",
   "execution_count": null,
   "id": "d5b2cb00-9d78-4e12-a33b-8d9adaa8d804",
   "metadata": {},
   "outputs": [],
   "source": [
    "data_anorm = data[data['Category']==1]\n",
    "data_norm = data[data['Category']==0]\n",
    "\n",
    "print(\"data_anorm before upsampling\", data_anorm.shape)\n",
    "print(\"datan_norm before upsampling\", data_norm.shape)\n",
    "\n",
    "data_anorm = resample(data_anorm, n_samples=data_norm.shape[0], random_state=42)\n",
    "\n",
    "print(\"data_anorm after upsampling\", data_anorm.shape)\n",
    "print(\"datan_norm after upsampling\", data_norm.shape)\n",
    "      \n",
    "data = pd.concat([data_anorm, data_norm])\n",
    "print(\"data after upsampling\", data.shape)"
   ]
  },
  {
   "cell_type": "code",
   "execution_count": null,
   "id": "62db8b53-e61a-438c-88e2-37cdc2be1caf",
   "metadata": {},
   "outputs": [],
   "source": [
    "col = data['Category']\n",
    "\n",
    "data.drop(['Category'], axis = 1, inplace=True)\n",
    "\n",
    "print(data)\n",
    "print(col)"
   ]
  },
  {
   "cell_type": "code",
   "execution_count": null,
   "id": "3371cff8-4ef9-4497-88bd-50f9538c6983",
   "metadata": {},
   "outputs": [],
   "source": [
    "# Aus den zwei Tabellen vier Tabellen erzeugen\n",
    "train_data, test_data, train_col, test_col = train_test_split(data,col, test_size=0.2)"
   ]
  },
  {
   "cell_type": "code",
   "execution_count": null,
   "id": "70ba495c-ae71-425e-8489-738482358b12",
   "metadata": {},
   "outputs": [],
   "source": [
    "transform = tf.keras.layers.TextVectorization(max_tokens=MAX_FEATURES,output_sequence_length=SEQUENCE_LENGTH)\n",
    "\n",
    "transform.adapt(train_data)\n",
    "\n",
    "tain_data_transformed = transform(train_data)\n",
    "test_data_transformed = transform(test_data)\n",
    "\n",
    "print(tain_data_transformed)\n",
    "#print(transform.get_vocabulary()[30])"
   ]
  },
  {
   "cell_type": "code",
   "execution_count": null,
   "id": "f59f7f64-b877-406b-9821-5b997360fcb6",
   "metadata": {},
   "outputs": [],
   "source": [
    "model = tf.keras.Sequential([\n",
    "  tf.keras.layers.Embedding(MAX_FEATURES, 16),\n",
    "  tf.keras.layers.GlobalAveragePooling1D(),\n",
    "  tf.keras.layers.Dropout(0.2),\n",
    "  tf.keras.layers.Dense(2, activation=tf.nn.softmax)\n",
    "])"
   ]
  },
  {
   "cell_type": "code",
   "execution_count": null,
   "id": "0d41bd87-3aa9-4c3b-a3da-dfd4d4a4e566",
   "metadata": {},
   "outputs": [],
   "source": [
    "model.compile(optimizer='adam', loss='sparse_categorical_crossentropy', metrics=['accuracy'])\n",
    "\n",
    "cb_early = tf.keras.callbacks.EarlyStopping(monitor='val_loss', patience=3)\n",
    "\n",
    "model.fit(tain_data_transformed, train_col, validation_data=(test_data_transformed, test_col), epochs=100, callbacks=[cb_early])"
   ]
  },
  {
   "cell_type": "code",
   "execution_count": null,
   "id": "2ff09f1f-1c55-4886-8644-6d97684d5007",
   "metadata": {},
   "outputs": [],
   "source": [
    "reviews = [\n",
    "    \"You have won\",\n",
    "    \"how are you\"\n",
    "]\n",
    "txt = transform(reviews)\n",
    "pred = model.predict([txt])\n",
    "print(pred)"
   ]
  },
  {
   "cell_type": "code",
   "execution_count": null,
   "id": "2eb10ce9-c84c-4bf1-a944-4510edb9a444",
   "metadata": {},
   "outputs": [],
   "source": []
  }
 ],
 "metadata": {
  "kernelspec": {
   "display_name": "Python 3 (ipykernel)",
   "language": "python",
   "name": "python3"
  },
  "language_info": {
   "codemirror_mode": {
    "name": "ipython",
    "version": 3
   },
   "file_extension": ".py",
   "mimetype": "text/x-python",
   "name": "python",
   "nbconvert_exporter": "python",
   "pygments_lexer": "ipython3",
   "version": "3.10.9"
  }
 },
 "nbformat": 4,
 "nbformat_minor": 5
}
