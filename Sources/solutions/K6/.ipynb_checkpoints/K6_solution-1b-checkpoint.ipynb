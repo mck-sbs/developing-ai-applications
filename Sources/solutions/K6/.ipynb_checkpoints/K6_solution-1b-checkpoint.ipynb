{
 "cells": [
  {
   "cell_type": "markdown",
   "id": "11e1deb9-f203-4938-a7e0-9e3cf708f955",
   "metadata": {
    "id": "11e1deb9-f203-4938-a7e0-9e3cf708f955"
   },
   "source": [
    "Loading Required Modules."
   ]
  },
  {
   "cell_type": "code",
   "execution_count": null,
   "id": "6df77660-8df4-48bb-9c8a-3fce12e5c541",
   "metadata": {
    "id": "6df77660-8df4-48bb-9c8a-3fce12e5c541"
   },
   "outputs": [],
   "source": [
    "import pandas as pd\n",
    "import tensorflow as tf\n",
    "from keras.models import Model\n",
    "import matplotlib.pyplot as plt\n",
    "import numpy as np"
   ]
  },
  {
   "cell_type": "markdown",
   "id": "ax9oyJVFygCG",
   "metadata": {
    "id": "ax9oyJVFygCG"
   },
   "source": [
    "load model"
   ]
  },
  {
   "cell_type": "code",
   "execution_count": null,
   "id": "0afbb916-3fdb-4cb5-b11a-159633fbf4e6",
   "metadata": {
    "colab": {
     "base_uri": "https://localhost:8080/"
    },
    "id": "0afbb916-3fdb-4cb5-b11a-159633fbf4e6",
    "outputId": "2f6fa6a3-5810-46ee-e1b2-5b884584119e"
   },
   "outputs": [],
   "source": [
    "model = tf.keras.models.load_model('K6-transfer.h5', compile=False)"
   ]
  },
  {
   "cell_type": "code",
   "execution_count": null,
   "id": "8ac0ebd0-3a9f-4c28-b9bb-8329685fd61f",
   "metadata": {},
   "outputs": [],
   "source": [
    "# attention, update path\n",
    "file = \"../../Data/horse.png\"\n",
    "\n",
    "img = tf.keras.utils.load_img(file,target_size=(300, 300,3))\n",
    "img = np.array(img)\n",
    "\n",
    "plt.figure()\n",
    "plt.imshow(img)\n",
    "plt.show()"
   ]
  },
  {
   "cell_type": "code",
   "execution_count": null,
   "id": "8da9d55f-5a92-4c7e-a16e-ffd49d710481",
   "metadata": {},
   "outputs": [],
   "source": [
    "class_names = ['horse', 'human']\n",
    "\n",
    "img = tf.keras.applications.vgg19.preprocess_input(img)\n",
    "\n",
    "pred = model.predict(img.reshape(1, 300, 300, 3))\n",
    "\n",
    "print(\"prediction softmax:\",pred)\n",
    "print(\"prediction max:\",pred.argmax())\n",
    "print(\"prediction string:\",class_names[pred.argmax()])"
   ]
  },
  {
   "cell_type": "code",
   "execution_count": null,
   "id": "b6ed6234-84fb-4c05-8001-f92f5894d258",
   "metadata": {},
   "outputs": [],
   "source": []
  }
 ],
 "metadata": {
  "accelerator": "GPU",
  "colab": {
   "gpuType": "T4",
   "provenance": []
  },
  "gpuClass": "standard",
  "kernelspec": {
   "display_name": "Python 3 (ipykernel)",
   "language": "python",
   "name": "python3"
  },
  "language_info": {
   "codemirror_mode": {
    "name": "ipython",
    "version": 3
   },
   "file_extension": ".py",
   "mimetype": "text/x-python",
   "name": "python",
   "nbconvert_exporter": "python",
   "pygments_lexer": "ipython3",
   "version": "3.10.9"
  }
 },
 "nbformat": 4,
 "nbformat_minor": 5
}
