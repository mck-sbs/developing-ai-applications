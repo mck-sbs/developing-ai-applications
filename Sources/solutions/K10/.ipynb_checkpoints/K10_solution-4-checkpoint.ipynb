{
 "cells": [
  {
   "cell_type": "code",
   "execution_count": null,
   "id": "9c34622a-e4d2-4213-a6fe-a7e86004b123",
   "metadata": {},
   "outputs": [],
   "source": [
    "text classification"
   ]
  },
  {
   "cell_type": "code",
   "execution_count": null,
   "id": "BtwPHFQ7dq5C",
   "metadata": {
    "id": "BtwPHFQ7dq5C"
   },
   "outputs": [],
   "source": [
    "# for the execution in google colab,\n",
    "# use the following line:\n",
    "!pip install autokeras"
   ]
  },
  {
   "cell_type": "markdown",
   "id": "11e1deb9-f203-4938-a7e0-9e3cf708f955",
   "metadata": {
    "id": "11e1deb9-f203-4938-a7e0-9e3cf708f955"
   },
   "source": [
    "load modules and data"
   ]
  },
  {
   "cell_type": "code",
   "execution_count": null,
   "id": "6df77660-8df4-48bb-9c8a-3fce12e5c541",
   "metadata": {
    "id": "6df77660-8df4-48bb-9c8a-3fce12e5c541"
   },
   "outputs": [],
   "source": [
    "import pandas as pd\n",
    "from sklearn.model_selection import train_test_split\n",
    "import autokeras as ak\n",
    "import numpy as np\n",
    "from sklearn.utils import resample\n",
    "\n",
    "path = \"/content/spam.csv\"\n",
    "data = pd.read_csv(path, delimiter=',')\n",
    "print(data.head())\n",
    "print(data.info())"
   ]
  },
  {
   "cell_type": "code",
   "execution_count": null,
   "id": "91e511f6-9419-44b8-b1ee-e4616c993416",
   "metadata": {
    "id": "91e511f6-9419-44b8-b1ee-e4616c993416"
   },
   "outputs": [],
   "source": [
    "data['Category'] = data['Category'].astype('category')\n",
    "data['Category'] = data['Category'].cat.codes\n",
    "\n",
    "data_anorm = data[data['Category']==1]\n",
    "data_norm = data[data['Category']==0]\n",
    "\n",
    "print(\"data_anorm before upsampling\", data_anorm.shape)\n",
    "print(\"datan_norm before upsampling\", data_norm.shape)\n",
    "\n",
    "data_anorm = resample(data_anorm, n_samples=data_norm.shape[0], random_state=42)\n",
    "\n",
    "print(\"data_anorm after Upsampling\", data_anorm.shape)\n",
    "print(\"datan_norm after Upsampling\", data_norm.shape)\n",
    "\n",
    "data = pd.concat([data_anorm, data_norm])\n",
    "print(\"data after upsampling\", data.shape)\n",
    "\n",
    "\n",
    "col = data['Category']\n",
    "data.drop(['Category'], axis = 1, inplace=True)\n",
    "\n",
    "# cretae four tables from the two tables\n",
    "train_data, test_data, train_col, test_col = train_test_split(data,col, test_size=0.2, random_state=42)"
   ]
  },
  {
   "cell_type": "code",
   "execution_count": null,
   "id": "4d1d0045-1879-4c53-b457-8a4b4e435cba",
   "metadata": {
    "id": "4d1d0045-1879-4c53-b457-8a4b4e435cba"
   },
   "outputs": [],
   "source": [
    "# transform data into arrays\n",
    "train_data = np.array(train_data)\n",
    "train_col = np.array(train_col)\n",
    "test_data = np.array(test_data)\n",
    "test_col = np.array(test_col)"
   ]
  },
  {
   "cell_type": "code",
   "execution_count": null,
   "id": "0332a25f-82df-4dc0-be8e-c74f37cc90c7",
   "metadata": {
    "id": "0332a25f-82df-4dc0-be8e-c74f37cc90c7"
   },
   "outputs": [],
   "source": [
    "# build and train the model\n",
    "model = ak.TextClassifier(max_trials=3, overwrite=True)\n",
    "model.fit(train_data, train_col, validation_data=(test_data, test_col), epochs=2)"
   ]
  },
  {
   "cell_type": "markdown",
   "id": "d224bc75-6906-4849-bd17-45893e5a289a",
   "metadata": {
    "id": "d224bc75-6906-4849-bd17-45893e5a289a"
   },
   "source": [
    "store model"
   ]
  },
  {
   "cell_type": "code",
   "execution_count": null,
   "id": "4bbff244-7ba0-439f-9c07-921afb0788ed",
   "metadata": {
    "id": "4bbff244-7ba0-439f-9c07-921afb0788ed"
   },
   "outputs": [],
   "source": [
    "#best_model = model.export_model()\n",
    "#best_model.save('model.h5')"
   ]
  }
 ],
 "metadata": {
  "accelerator": "GPU",
  "colab": {
   "gpuType": "A100",
   "provenance": []
  },
  "kernelspec": {
   "display_name": "Python 3 (ipykernel)",
   "language": "python",
   "name": "python3"
  },
  "language_info": {
   "codemirror_mode": {
    "name": "ipython",
    "version": 3
   },
   "file_extension": ".py",
   "mimetype": "text/x-python",
   "name": "python",
   "nbconvert_exporter": "python",
   "pygments_lexer": "ipython3",
   "version": "3.10.9"
  }
 },
 "nbformat": 4,
 "nbformat_minor": 5
}
