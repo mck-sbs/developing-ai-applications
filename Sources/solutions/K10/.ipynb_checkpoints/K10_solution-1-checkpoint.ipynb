{
 "cells": [
  {
   "cell_type": "markdown",
   "id": "da512021-6ec2-4619-998a-54cf12348e69",
   "metadata": {},
   "source": [
    "Classification"
   ]
  },
  {
   "cell_type": "markdown",
   "id": "11e1deb9-f203-4938-a7e0-9e3cf708f955",
   "metadata": {},
   "source": [
    "load modules and data"
   ]
  },
  {
   "cell_type": "code",
   "execution_count": null,
   "id": "6df77660-8df4-48bb-9c8a-3fce12e5c541",
   "metadata": {},
   "outputs": [],
   "source": [
    "import pandas as pd\n",
    "from sklearn.model_selection import train_test_split\n",
    "import autokeras as ak\n",
    "\n",
    "path = \"../../Data/mushrooms.csv\"\n",
    "data = pd.read_csv(path, delimiter=',')\n",
    "print(data.head())\n",
    "print(data.info())"
   ]
  },
  {
   "cell_type": "code",
   "execution_count": null,
   "id": "87b1e505-b8f9-4c5c-8987-4482665323f4",
   "metadata": {},
   "outputs": [],
   "source": [
    "# WWhat schould be predicted? Store column in varuable.\n",
    "col_name = 'class'\n",
    "\n",
    "# division into two tables (Input=data und Output=col). \n",
    "col = data[col_name]\n",
    "data = data.drop([col_name], axis = 1)\n",
    "\n",
    "# create four tables from the two tables\n",
    "train_data, test_data, train_col, test_col = train_test_split(data,col, test_size=0.2, random_state=42)"
   ]
  },
  {
   "cell_type": "code",
   "execution_count": null,
   "id": "0332a25f-82df-4dc0-be8e-c74f37cc90c7",
   "metadata": {},
   "outputs": [],
   "source": [
    "# build and train the model \n",
    "model = ak.StructuredDataClassifier(max_trials=3, overwrite=True)\n",
    "model.fit(train_data, train_col, validation_data=(test_data, test_col))"
   ]
  },
  {
   "cell_type": "markdown",
   "id": "d224bc75-6906-4849-bd17-45893e5a289a",
   "metadata": {},
   "source": [
    "store best model"
   ]
  },
  {
   "cell_type": "code",
   "execution_count": null,
   "id": "4bbff244-7ba0-439f-9c07-921afb0788ed",
   "metadata": {},
   "outputs": [],
   "source": [
    "#best_model = model.export_model()\n",
    "#best_model.save('model.h5')"
   ]
  },
  {
   "cell_type": "code",
   "execution_count": null,
   "id": "c9d303bd-0d5e-4272-ab4a-d2415f8ce465",
   "metadata": {},
   "outputs": [],
   "source": []
  }
 ],
 "metadata": {
  "kernelspec": {
   "display_name": "Python 3 (ipykernel)",
   "language": "python",
   "name": "python3"
  },
  "language_info": {
   "codemirror_mode": {
    "name": "ipython",
    "version": 3
   },
   "file_extension": ".py",
   "mimetype": "text/x-python",
   "name": "python",
   "nbconvert_exporter": "python",
   "pygments_lexer": "ipython3",
   "version": "3.10.9"
  }
 },
 "nbformat": 4,
 "nbformat_minor": 5
}
