{
 "cells": [
  {
   "cell_type": "markdown",
   "id": "bec9b6da-10ba-474d-b18f-8eba3a5cbb68",
   "metadata": {},
   "source": [
    "image classification"
   ]
  },
  {
   "cell_type": "markdown",
   "id": "11e1deb9-f203-4938-a7e0-9e3cf708f955",
   "metadata": {},
   "source": [
    "load modules and data"
   ]
  },
  {
   "cell_type": "code",
   "execution_count": null,
   "id": "6df77660-8df4-48bb-9c8a-3fce12e5c541",
   "metadata": {
    "tags": []
   },
   "outputs": [],
   "source": [
    "import autokeras as ak\n",
    "import tensorflow as tf\n",
    "\n",
    "IMG_HEIGHT = 180\n",
    "IMG_WIDTH = 180\n",
    "\n",
    "data_dir_train = \"../../Data/horse-or-human/train\"\n",
    "data_dir_test = \"../../Data/horse-or-human/test\"\n",
    "\n",
    "train_data = ak.image_dataset_from_directory(\n",
    "    data_dir_train,\n",
    "    image_size=(IMG_HEIGHT, IMG_WIDTH),\n",
    ")\n",
    "\n",
    "test_data = ak.image_dataset_from_directory(\n",
    "    data_dir_test,\n",
    "    image_size=(IMG_HEIGHT, IMG_WIDTH),\n",
    ")"
   ]
  },
  {
   "cell_type": "code",
   "execution_count": null,
   "id": "822213de-ec19-411a-ad8e-56ab06c5e3f8",
   "metadata": {},
   "outputs": [],
   "source": [
    "# the number of trials and epochs can be increased here\n",
    "model = ak.ImageClassifier(overwrite=True, max_trials=2)\n",
    "model.fit(train_data, validation_data=test_data, epochs=2)"
   ]
  }
 ],
 "metadata": {
  "kernelspec": {
   "display_name": "Python 3 (ipykernel)",
   "language": "python",
   "name": "python3"
  },
  "language_info": {
   "codemirror_mode": {
    "name": "ipython",
    "version": 3
   },
   "file_extension": ".py",
   "mimetype": "text/x-python",
   "name": "python",
   "nbconvert_exporter": "python",
   "pygments_lexer": "ipython3",
   "version": "3.10.9"
  }
 },
 "nbformat": 4,
 "nbformat_minor": 5
}
