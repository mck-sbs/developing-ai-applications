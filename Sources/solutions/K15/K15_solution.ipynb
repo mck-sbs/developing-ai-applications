{
 "cells": [
  {
   "cell_type": "markdown",
   "id": "3e6eb13c-0072-40fb-b8d1-9dc52ae00d58",
   "metadata": {},
   "source": [
    "DALL-E-API mit Moderation"
   ]
  },
  {
   "cell_type": "code",
   "execution_count": null,
   "id": "7b395a2c-bc3d-48f1-bb8f-4a87da6346c6",
   "metadata": {},
   "outputs": [],
   "source": [
    "from openai import OpenAI\n",
    "import matplotlib.pyplot as plt\n",
    "import imageio.v3 as iio\n",
    "\n",
    "API_KEY = \"sk-8...\""
   ]
  },
  {
   "cell_type": "code",
   "execution_count": null,
   "id": "8e55eb6b-12db-49bb-b26d-b109372a15a8",
   "metadata": {},
   "outputs": [],
   "source": [
    "msg = input(\"Which image should be generated:\")\n",
    "\n",
    "n = 1\n",
    "user = \"test-1\"\n",
    "size = \"256x256\"\n",
    "model = \"dall-e-2\"\n",
    "\n",
    "client = OpenAI(api_key=API_KEY)\n",
    "response = client.moderations.create(input=msg)\n",
    "\n",
    "if response.results[0].flagged:\n",
    "    print(\"Your input does not comply with the guidelines.\")\n",
    "else:\n",
    "    response = client.images.generate(model=model , prompt=msg, user=user, size=size)\n",
    "    img = iio.imread(response.data[0].url)\n",
    "    plt.imshow(img)"
   ]
  },
  {
   "cell_type": "code",
   "execution_count": null,
   "id": "b4bf908b-824e-4ee0-b91b-4f7b295ed749",
   "metadata": {},
   "outputs": [],
   "source": []
  }
 ],
 "metadata": {
  "kernelspec": {
   "display_name": "Python 3 (ipykernel)",
   "language": "python",
   "name": "python3"
  },
  "language_info": {
   "codemirror_mode": {
    "name": "ipython",
    "version": 3
   },
   "file_extension": ".py",
   "mimetype": "text/x-python",
   "name": "python",
   "nbconvert_exporter": "python",
   "pygments_lexer": "ipython3",
   "version": "3.11.5"
  }
 },
 "nbformat": 4,
 "nbformat_minor": 5
}
