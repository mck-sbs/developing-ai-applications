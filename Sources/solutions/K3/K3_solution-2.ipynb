{
 "cells": [
  {
   "cell_type": "markdown",
   "id": "11e1deb9-f203-4938-a7e0-9e3cf708f955",
   "metadata": {},
   "source": [
    "Import required modules and load the file. The first lines are displayed."
   ]
  },
  {
   "cell_type": "code",
   "execution_count": null,
   "id": "6df77660-8df4-48bb-9c8a-3fce12e5c541",
   "metadata": {},
   "outputs": [],
   "source": [
    "import tensorflow as tf\n",
    "import pandas as pd\n",
    "from sklearn.model_selection import train_test_split\n",
    "from sklearn.preprocessing import StandardScaler\n",
    "\n",
    "path = \"../../Data/iris.csv\"\n",
    "data = pd.read_csv(path, delimiter=',')\n",
    "print(data.head())\n",
    "print(\"Empty columns: \", data.columns[data.isnull().any()])"
   ]
  },
  {
   "cell_type": "code",
   "execution_count": null,
   "id": "db2cf306-95aa-4396-8b57-db3f69aa73ac",
   "metadata": {},
   "outputs": [],
   "source": [
    "# Output of colrrelations\n",
    "correlations = data[data.columns].corr(numeric_only=True)\n",
    "print('All correlations')\n",
    "print('-' * 30)\n",
    "correlations_abs_sum = correlations[correlations.columns].abs().sum()\n",
    "print(correlations_abs_sum)\n",
    "print('Weakest correlations')\n",
    "print('-' * 30)\n",
    "print(correlations_abs_sum.nsmallest(5))"
   ]
  },
  {
   "cell_type": "markdown",
   "id": "6572a434-7dfc-4fcf-9a1e-ce041a29277f",
   "metadata": {},
   "source": [
    "prepare data"
   ]
  },
  {
   "cell_type": "code",
   "execution_count": null,
   "id": "f59f7f64-b877-406b-9821-5b997360fcb6",
   "metadata": {},
   "outputs": [],
   "source": [
    "# possibly drop data['sepal.width'], has low correlation -> test\n",
    "data = data.drop(['sepal.width'], axis = 1)\n",
    "\n",
    "# this column is to be predictetd \n",
    "col = data['sepal.length']\n",
    "data = data.drop(['sepal.length'], axis = 1)\n",
    "\n",
    "# perform OHE\n",
    "conv_ohe = ['species']\n",
    "data = pd.get_dummies(data, columns = conv_ohe, dtype=float)\n",
    "\n",
    "# create object\n",
    "s_scaler = StandardScaler()\n",
    "# columns for StandardScaler\n",
    "cols_to_s_scale = ['petal.length', 'petal.width']\n",
    "data[cols_to_s_scale] = s_scaler.fit_transform(data[cols_to_s_scale])"
   ]
  },
  {
   "cell_type": "code",
   "execution_count": null,
   "id": "cd64232b-e9f6-4d5c-943a-f6ca94b4df12",
   "metadata": {
    "tags": []
   },
   "outputs": [],
   "source": [
    "print(data)"
   ]
  },
  {
   "cell_type": "markdown",
   "id": "d224bc75-6906-4849-bd17-45893e5a289a",
   "metadata": {},
   "source": [
    "build ANN"
   ]
  },
  {
   "cell_type": "code",
   "execution_count": null,
   "id": "4bbff244-7ba0-439f-9c07-921afb0788ed",
   "metadata": {},
   "outputs": [],
   "source": [
    "# create four tables from the two tables\n",
    "train_data, test_data, train_col, test_col = train_test_split(data,col, test_size=0.2, random_state=42)\n",
    "\n",
    "# build ANN\n",
    "model = tf.keras.Sequential([\n",
    "    tf.keras.layers.Dense(32, activation=tf.nn.relu, input_dim=data.shape[1]),\n",
    "    tf.keras.layers.Dense(16, activation=tf.nn.relu),\n",
    "    tf.keras.layers.Dense(1)\n",
    "])\n",
    "# confihure ANN\n",
    "model.compile(optimizer='adam', loss='mae', metrics=['mae'])"
   ]
  },
  {
   "cell_type": "markdown",
   "id": "beda700c-73d4-4506-8225-1ab33cc6c448",
   "metadata": {},
   "source": [
    "train"
   ]
  },
  {
   "cell_type": "code",
   "execution_count": null,
   "id": "4a50fdb9-255c-4438-819e-a8c8d0614aa2",
   "metadata": {},
   "outputs": [],
   "source": [
    "# 70 runs\n",
    "model.fit(train_data, train_col, epochs=70)"
   ]
  },
  {
   "cell_type": "markdown",
   "id": "ea0a81e9-2436-43a7-ab5d-8f1c5dd92677",
   "metadata": {},
   "source": [
    "test"
   ]
  },
  {
   "cell_type": "code",
   "execution_count": null,
   "id": "8688ed41-9918-4357-b390-f7fb248d7de4",
   "metadata": {},
   "outputs": [],
   "source": [
    "test_loss, test_mae = model.evaluate(test_data, test_col)\n",
    "print('Test mae:', test_mae)"
   ]
  }
 ],
 "metadata": {
  "kernelspec": {
   "display_name": "Python 3 (ipykernel)",
   "language": "python",
   "name": "python3"
  },
  "language_info": {
   "codemirror_mode": {
    "name": "ipython",
    "version": 3
   },
   "file_extension": ".py",
   "mimetype": "text/x-python",
   "name": "python",
   "nbconvert_exporter": "python",
   "pygments_lexer": "ipython3",
   "version": "3.10.9"
  }
 },
 "nbformat": 4,
 "nbformat_minor": 5
}
