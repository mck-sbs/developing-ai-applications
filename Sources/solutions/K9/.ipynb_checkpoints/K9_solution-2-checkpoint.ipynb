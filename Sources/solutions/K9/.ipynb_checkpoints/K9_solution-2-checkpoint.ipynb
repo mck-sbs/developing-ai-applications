{
 "cells": [
  {
   "cell_type": "markdown",
   "id": "4be5b24a-4b34-4228-92b8-7fc9a0e3b8fa",
   "metadata": {},
   "source": [
    "Clustering"
   ]
  },
  {
   "cell_type": "markdown",
   "id": "11e1deb9-f203-4938-a7e0-9e3cf708f955",
   "metadata": {},
   "source": [
    "load modules and data"
   ]
  },
  {
   "cell_type": "code",
   "execution_count": null,
   "id": "6df77660-8df4-48bb-9c8a-3fce12e5c541",
   "metadata": {},
   "outputs": [],
   "source": [
    "import pandas as pd\n",
    "from sklearn.cluster import KMeans\n",
    "from yellowbrick.cluster import KElbowVisualizer\n",
    "from sklearn.preprocessing import StandardScaler\n",
    "\n",
    "path = \"../../Data/mushrooms.csv\"\n",
    "\n",
    "data_unknown = pd.read_csv(path, delimiter=',')\n",
    "\n",
    "print(data_unknown.head())"
   ]
  },
  {
   "cell_type": "code",
   "execution_count": null,
   "id": "a79a5291-fd0a-4eff-88a3-63b4fc35be5c",
   "metadata": {},
   "outputs": [],
   "source": [
    "data_unknown = data_unknown.astype('category')\n",
    "data_unknown = data_unknown.apply(lambda x: x.cat.codes)\n",
    "print(data_unknown)"
   ]
  },
  {
   "cell_type": "code",
   "execution_count": null,
   "id": "7da0236c-0d03-4856-93d5-0f082e9d5c59",
   "metadata": {},
   "outputs": [],
   "source": [
    "model = KMeans()\n",
    "\n",
    "visualizer = KElbowVisualizer(model, k=(1,9), timings=False)\n",
    "visualizer.fit(data_unknown)\n",
    "visualizer.show()"
   ]
  },
  {
   "cell_type": "code",
   "execution_count": null,
   "id": "9d3e9b7b-0d3d-4dfd-a6aa-c05f349a3763",
   "metadata": {},
   "outputs": [],
   "source": [
    "kmeans = KMeans(n_clusters=3)\n",
    "\n",
    "pred = kmeans.fit_predict(data_unknown)\n",
    "\n",
    "print(pred)"
   ]
  },
  {
   "cell_type": "code",
   "execution_count": null,
   "id": "9a6661ef-6be3-4c5d-be90-a131013599ff",
   "metadata": {},
   "outputs": [],
   "source": [
    "data_new = pd.concat([data, pd.DataFrame(pred, columns=['label'])], axis=1)\n",
    "print(data_new)"
   ]
  },
  {
   "cell_type": "code",
   "execution_count": null,
   "id": "ef0f79f5-decd-4926-9fda-fea10a79c841",
   "metadata": {},
   "outputs": [],
   "source": [
    "# overview of the generated group and assiciated data\n",
    "print(data_new['label'].value_counts())"
   ]
  },
  {
   "cell_type": "code",
   "execution_count": null,
   "id": "2f838f4c-07fc-420f-8b45-c6432698e1e9",
   "metadata": {},
   "outputs": [],
   "source": [
    "data_new.to_csv(\"./data_new-2.csv\")"
   ]
  }
 ],
 "metadata": {
  "kernelspec": {
   "display_name": "Python 3 (ipykernel)",
   "language": "python",
   "name": "python3"
  },
  "language_info": {
   "codemirror_mode": {
    "name": "ipython",
    "version": 3
   },
   "file_extension": ".py",
   "mimetype": "text/x-python",
   "name": "python",
   "nbconvert_exporter": "python",
   "pygments_lexer": "ipython3",
   "version": "3.10.9"
  }
 },
 "nbformat": 4,
 "nbformat_minor": 5
}
