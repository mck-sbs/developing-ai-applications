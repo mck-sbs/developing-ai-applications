{
 "cells": [
  {
   "cell_type": "markdown",
   "id": "12489ccd-b733-45c8-8dc4-db52a96f9802",
   "metadata": {},
   "source": [
    "Clustering"
   ]
  },
  {
   "cell_type": "markdown",
   "id": "11e1deb9-f203-4938-a7e0-9e3cf708f955",
   "metadata": {},
   "source": [
    "load modules and data"
   ]
  },
  {
   "cell_type": "code",
   "execution_count": null,
   "id": "6df77660-8df4-48bb-9c8a-3fce12e5c541",
   "metadata": {},
   "outputs": [],
   "source": [
    "import pandas as pd\n",
    "from sklearn.cluster import KMeans\n",
    "from yellowbrick.cluster import KElbowVisualizer\n",
    "from sklearn.preprocessing import StandardScaler\n",
    "\n",
    "path = \"../../Data/diamonds.csv\"\n",
    "\n",
    "data = pd.read_csv(path, delimiter=',')\n",
    "\n",
    "# create data without target column\n",
    "data_unknown = data.drop(['cut', 'Unnamed: 0'], axis = 1)\n",
    "\n",
    "print(data_unknown.head())"
   ]
  },
  {
   "cell_type": "code",
   "execution_count": null,
   "id": "278129e1-72d4-44c2-b574-ff1b4db7a775",
   "metadata": {},
   "outputs": [],
   "source": [
    "conv_num = ['clarity', 'color']\n",
    "data_unknown[conv_num] = data_unknown[conv_num].astype('category')\n",
    "data_unknown[conv_num] = data_unknown[conv_num].apply(lambda x: x.cat.codes)\n",
    "\n",
    "s_scaler = StandardScaler()\n",
    "\n",
    "data_unknown = pd.DataFrame(s_scaler.fit_transform(data_unknown), columns = data_unknown.columns)\n",
    "\n",
    "print(data_unknown)"
   ]
  },
  {
   "cell_type": "code",
   "execution_count": null,
   "id": "7da0236c-0d03-4856-93d5-0f082e9d5c59",
   "metadata": {},
   "outputs": [],
   "source": [
    "model = KMeans()\n",
    "\n",
    "visualizer = KElbowVisualizer(model, k=(2,9), timings=False)\n",
    "visualizer.fit(data_unknown)\n",
    "visualizer.show()"
   ]
  },
  {
   "cell_type": "code",
   "execution_count": null,
   "id": "9d3e9b7b-0d3d-4dfd-a6aa-c05f349a3763",
   "metadata": {},
   "outputs": [],
   "source": [
    "kmeans = KMeans(n_clusters=4)\n",
    "\n",
    "pred = kmeans.fit_predict(data_unknown)\n",
    "\n",
    "print(pred)"
   ]
  },
  {
   "cell_type": "code",
   "execution_count": null,
   "id": "9a6661ef-6be3-4c5d-be90-a131013599ff",
   "metadata": {},
   "outputs": [],
   "source": [
    "data_new = pd.concat([data, pd.DataFrame(pred, columns=['label'])], axis=1)\n",
    "print(data_new)"
   ]
  },
  {
   "cell_type": "code",
   "execution_count": null,
   "id": "ef0f79f5-decd-4926-9fda-fea10a79c841",
   "metadata": {},
   "outputs": [],
   "source": [
    "# here you can see that the expectet number of groups was not recognised\n",
    "print(data_new['cut'].value_counts())\n",
    "print(data_new['label'].value_counts())"
   ]
  },
  {
   "cell_type": "code",
   "execution_count": null,
   "id": "2f838f4c-07fc-420f-8b45-c6432698e1e9",
   "metadata": {},
   "outputs": [],
   "source": [
    "data_new.to_csv(\"./data_new.csv\")"
   ]
  },
  {
   "cell_type": "markdown",
   "id": "9645616b-a60a-4b87-978d-edd6a0e280dc",
   "metadata": {},
   "source": [
    "compare \"cut\" with \"label\""
   ]
  }
 ],
 "metadata": {
  "kernelspec": {
   "display_name": "Python 3 (ipykernel)",
   "language": "python",
   "name": "python3"
  },
  "language_info": {
   "codemirror_mode": {
    "name": "ipython",
    "version": 3
   },
   "file_extension": ".py",
   "mimetype": "text/x-python",
   "name": "python",
   "nbconvert_exporter": "python",
   "pygments_lexer": "ipython3",
   "version": "3.10.9"
  }
 },
 "nbformat": 4,
 "nbformat_minor": 5
}
