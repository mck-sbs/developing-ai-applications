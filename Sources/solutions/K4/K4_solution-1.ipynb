{
 "cells": [
  {
   "cell_type": "markdown",
   "id": "11e1deb9-f203-4938-a7e0-9e3cf708f955",
   "metadata": {},
   "source": [
    "Loading Required Modules and the CSV File."
   ]
  },
  {
   "cell_type": "code",
   "execution_count": null,
   "id": "6df77660-8df4-48bb-9c8a-3fce12e5c541",
   "metadata": {},
   "outputs": [],
   "source": [
    "from xgboost import XGBClassifier\n",
    "import pandas as pd\n",
    "from sklearn.model_selection import train_test_split\n",
    "from sklearn.preprocessing import OneHotEncoder\n",
    "from sklearn import metrics\n",
    "\n",
    "path = \"../../Data/mushrooms.csv\"\n",
    "data = pd.read_csv(path, delimiter=',')\n",
    "\n",
    "print(data.head())\n",
    "print(\"Empty columns: \", data.columns[data.isnull().any()])"
   ]
  },
  {
   "cell_type": "code",
   "execution_count": null,
   "id": "efc93dd0-ca55-4854-8401-72779c72de1e",
   "metadata": {},
   "outputs": [],
   "source": [
    "# class sis to be classified\n",
    "oe = OneHotEncoder()\n",
    "col = oe.fit_transform(data[['class']])\n",
    "col = col.toarray()\n",
    "\n",
    "data = data.drop(['class'], axis = 1)\n",
    "\n",
    "data = data.astype('category')\n",
    "data = data.apply(lambda x: x.cat.codes)\n",
    "\n",
    "print(data.info())"
   ]
  },
  {
   "cell_type": "code",
   "execution_count": null,
   "id": "4bbff244-7ba0-439f-9c07-921afb0788ed",
   "metadata": {},
   "outputs": [],
   "source": [
    "# create four tables from the two tables\n",
    "train_data, test_data, train_col, test_col = train_test_split(data,col, test_size=0.2, random_state=42)\n",
    "\n",
    "xgb = XGBClassifier()\n",
    "\n",
    "xgb.fit(train_data, train_col)\n",
    "predicted_col = xgb.predict(test_data)\n",
    "\n",
    "score = metrics.accuracy_score(test_col, predicted_col)\n",
    "print(score)"
   ]
  },
  {
   "cell_type": "code",
   "execution_count": null,
   "id": "7082e71a-05f9-4f79-b3f2-ca6ab6d7d0f2",
   "metadata": {},
   "outputs": [],
   "source": []
  }
 ],
 "metadata": {
  "kernelspec": {
   "display_name": "Python 3 (ipykernel)",
   "language": "python",
   "name": "python3"
  },
  "language_info": {
   "codemirror_mode": {
    "name": "ipython",
    "version": 3
   },
   "file_extension": ".py",
   "mimetype": "text/x-python",
   "name": "python",
   "nbconvert_exporter": "python",
   "pygments_lexer": "ipython3",
   "version": "3.10.9"
  }
 },
 "nbformat": 4,
 "nbformat_minor": 5
}
