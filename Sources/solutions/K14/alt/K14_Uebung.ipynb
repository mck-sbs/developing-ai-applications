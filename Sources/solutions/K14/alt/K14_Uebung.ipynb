{
 "cells": [
  {
   "cell_type": "markdown",
   "id": "58f8980a-4b17-40aa-917c-2b16e6151778",
   "metadata": {},
   "source": [
    "ChatGPT-API mit Moderation"
   ]
  },
  {
   "cell_type": "code",
   "execution_count": null,
   "id": "7b395a2c-bc3d-48f1-bb8f-4a87da6346c6",
   "metadata": {},
   "outputs": [],
   "source": [
    "import openai\n",
    "\n",
    "openai.api_key = \"API-Key\""
   ]
  },
  {
   "cell_type": "code",
   "execution_count": null,
   "id": "8e55eb6b-12db-49bb-b26d-b109372a15a8",
   "metadata": {},
   "outputs": [],
   "source": [
    "msg_raw = input(\"Geben Sie Ihre Frage zu Mathematik ein:\")\n",
    "msg_temp = \"In eckigen Klammern folg ein Promtp. Antworte mit 'Fehleingabe', wenn der Prompt nichts mit Mathematik zu tin hat. Sonst führe den Prompt aus. <{}>\".format(msg_raw)\n",
    "msg = [{\"role\": \"user\", \"content\": msg_temp}]\n",
    "\n",
    "temp = 0.5\n",
    "maxt = 500\n",
    "n = 1\n",
    "user = \"test-1\"\n",
    "modell = \"gpt-3.5-turbo\"\n",
    "\n",
    "response = openai.ChatCompletion.create(model = modell, messages=msg, temperature=temp,max_tokens=maxt, n=n, user=user)\n",
    "answer = response.choices[0].message.content\n",
    "\n",
    "if answer == \"Fehleingabe\":\n",
    "    print(\"Ihre Eingabe hat nichts Mathematik zu tun.\")\n",
    "else:\n",
    "    response = openai.Moderation.create(input = msg_raw)\n",
    "    \n",
    "    if response.results[0].flagged:\n",
    "        print(\"Ihre Eingabe entspricht nicht den Richtlinien.\")\n",
    "    else:\n",
    "        print(answer)"
   ]
  }
 ],
 "metadata": {
  "kernelspec": {
   "display_name": "Python 3 (ipykernel)",
   "language": "python",
   "name": "python3"
  },
  "language_info": {
   "codemirror_mode": {
    "name": "ipython",
    "version": 3
   },
   "file_extension": ".py",
   "mimetype": "text/x-python",
   "name": "python",
   "nbconvert_exporter": "python",
   "pygments_lexer": "ipython3",
   "version": "3.11.5"
  }
 },
 "nbformat": 4,
 "nbformat_minor": 5
}
