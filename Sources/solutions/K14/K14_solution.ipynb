{
 "cells": [
  {
   "cell_type": "markdown",
   "id": "58f8980a-4b17-40aa-917c-2b16e6151778",
   "metadata": {},
   "source": [
    "ChatGPT-API mit Moderation"
   ]
  },
  {
   "cell_type": "code",
   "execution_count": null,
   "id": "7b395a2c-bc3d-48f1-bb8f-4a87da6346c6",
   "metadata": {},
   "outputs": [],
   "source": [
    "from openai import OpenAI\n",
    "\n",
    "API_KEY = \"sk-8..\""
   ]
  },
  {
   "cell_type": "code",
   "execution_count": null,
   "id": "8e55eb6b-12db-49bb-b26d-b109372a15a8",
   "metadata": {},
   "outputs": [],
   "source": [
    "msg_raw = input(\"Enter your question about math::\")\n",
    "msg_temp = \"In square brackets follows a prompt. Reply with 'Incorrect input' if the prompt has nothing to do with math. Otherwise execute the prompt. <{}>\".format(msg_raw)\n",
    "\n",
    "msg = [{\"role\": \"user\", \"content\": msg_temp}]\n",
    "\n",
    "temp = 0.5\n",
    "maxt = 500\n",
    "n = 1\n",
    "user = \"test-1\"\n",
    "modell = \"gpt-3.5-turbo\"\n",
    "\n",
    "client = OpenAI(api_key=API_KEY)\n",
    "response = client.chat.completions.create(model = modell, messages=msg, temperature=temp, max_tokens=maxt, n=n, user=user)\n",
    "answer = response.choices[0].message.content\n",
    "\n",
    "if answer == \"Incorrect input\":\n",
    "    print(\"Your input has nothing to do with math.\")\n",
    "else:\n",
    "    response = client.moderations.create(input=msg_raw)\n",
    "    \n",
    "    if response.results[0].flagged:\n",
    "        print(\"Your input does not comply with the guidelines.\")\n",
    "    else:\n",
    "        print(answer)"
   ]
  },
  {
   "cell_type": "code",
   "execution_count": null,
   "id": "c5b2fc87-2e82-4a0a-a3a0-6bdf9e1be64e",
   "metadata": {},
   "outputs": [],
   "source": []
  }
 ],
 "metadata": {
  "kernelspec": {
   "display_name": "Python 3 (ipykernel)",
   "language": "python",
   "name": "python3"
  },
  "language_info": {
   "codemirror_mode": {
    "name": "ipython",
    "version": 3
   },
   "file_extension": ".py",
   "mimetype": "text/x-python",
   "name": "python",
   "nbconvert_exporter": "python",
   "pygments_lexer": "ipython3",
   "version": "3.11.5"
  }
 },
 "nbformat": 4,
 "nbformat_minor": 5
}
