{
 "cells": [
  {
   "cell_type": "code",
   "execution_count": null,
   "id": "a25a4f7a-f292-40a1-8664-9db9951dec25",
   "metadata": {},
   "outputs": [],
   "source": [
    "import pygad"
   ]
  },
  {
   "cell_type": "code",
   "execution_count": null,
   "id": "1c251abe-5430-4313-b6ac-f996d9b803d7",
   "metadata": {},
   "outputs": [],
   "source": [
    "# Hyperparameters\n",
    "\n",
    "# number of genes\n",
    "num_genes = 3\n",
    "# number of generations\n",
    "num_generations = 500\n",
    "# number of chromosomes\n",
    "sol_per_pop = 100\n",
    "# number of parents\n",
    "num_parents_mating = 10\n",
    "# probability of mutation\n",
    "mutation_percent_genes = 34\n",
    "\n",
    "# lower limit of the random number\n",
    "init_range_low = -10\n",
    "# upper limit of the random number\n",
    "init_range_high = 10\n",
    "# data type\n",
    "gene_type = float"
   ]
  },
  {
   "cell_type": "code",
   "execution_count": null,
   "id": "e0fcc32a-a5bc-44f9-a3f0-80e9c2bc9167",
   "metadata": {},
   "outputs": [],
   "source": [
    "# Fitness function\n",
    "\n",
    "# the equation is: -3x -4y +3z = -5\n",
    "\n",
    "# the parameters are \"predefined\"\n",
    "# solution is particularly important, contains the list\n",
    "\n",
    "def fitness_func(ga_instance, solution, solution_idx):\n",
    "    x = solution[0]\n",
    "    y = solution[1]\n",
    "    z = solution[2]\n",
    "    result = -3*x - 4*y + 3*z\n",
    "    fitness = abs(-5-result) * (-1)\n",
    "    \n",
    "    return fitness"
   ]
  },
  {
   "cell_type": "code",
   "execution_count": null,
   "id": "98b0d9bf-1940-43d1-aa2c-1c75753f8551",
   "metadata": {},
   "outputs": [],
   "source": [
    "# create an instance\n",
    "ga_instance = pygad.GA(num_generations=num_generations,\n",
    "                       num_parents_mating=num_parents_mating,\n",
    "                       fitness_func=fitness_func,\n",
    "                       sol_per_pop=sol_per_pop,\n",
    "                       init_range_low=init_range_low,\n",
    "                       init_range_high=init_range_high,\n",
    "                       num_genes=num_genes,\n",
    "                       mutation_percent_genes=mutation_percent_genes,\n",
    "                       gene_type=gene_type)\n",
    "\n",
    "# start evolution cycle\n",
    "ga_instance.run()"
   ]
  },
  {
   "cell_type": "code",
   "execution_count": null,
   "id": "55b55e82-f584-4bac-aab8-b85a484aa4e9",
   "metadata": {},
   "outputs": [],
   "source": [
    "# determine results list, fitness value and index of the results list (not required here)\n",
    "solution, solution_fitness, solution_idx = ga_instance.best_solution()\n",
    "\n",
    "print(\"best parameters:\", solution)\n",
    "print(\"highest fitness value:\", solution_fitness)"
   ]
  },
  {
   "cell_type": "code",
   "execution_count": null,
   "id": "8384df47-2ad1-4bbb-8f30-f683059f2d1d",
   "metadata": {},
   "outputs": [],
   "source": [
    "# calculation with the best result\n",
    "x = solution[0]\n",
    "y = solution[1]\n",
    "z = solution[2]\n",
    "result = -3*x - 4*y + 3*z\n",
    "\n",
    "print(result)"
   ]
  },
  {
   "cell_type": "code",
   "execution_count": null,
   "id": "1a41f429-34d5-4fb6-8f8f-b104676ef553",
   "metadata": {},
   "outputs": [],
   "source": [
    "# plot the result\n",
    "ga_instance.plot_fitness()"
   ]
  },
  {
   "cell_type": "code",
   "execution_count": null,
   "id": "3ce0aa1a-e9b3-44a3-b5d8-6e03b1cf5cb0",
   "metadata": {},
   "outputs": [],
   "source": []
  }
 ],
 "metadata": {
  "kernelspec": {
   "display_name": "Python 3 (ipykernel)",
   "language": "python",
   "name": "python3"
  },
  "language_info": {
   "codemirror_mode": {
    "name": "ipython",
    "version": 3
   },
   "file_extension": ".py",
   "mimetype": "text/x-python",
   "name": "python",
   "nbconvert_exporter": "python",
   "pygments_lexer": "ipython3",
   "version": "3.10.9"
  }
 },
 "nbformat": 4,
 "nbformat_minor": 5
}
