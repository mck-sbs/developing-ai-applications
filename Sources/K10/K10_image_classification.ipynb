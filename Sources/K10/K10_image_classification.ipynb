{
 "cells": [
  {
   "cell_type": "markdown",
   "id": "11e1deb9-f203-4938-a7e0-9e3cf708f955",
   "metadata": {},
   "source": [
    "load modules and data"
   ]
  },
  {
   "cell_type": "code",
   "execution_count": null,
   "id": "6df77660-8df4-48bb-9c8a-3fce12e5c541",
   "metadata": {
    "tags": []
   },
   "outputs": [],
   "source": [
    "import autokeras as ak\n",
    "import tensorflow as tf\n",
    "import numpy as np\n",
    "import matplotlib.pyplot as plt\n",
    "\n",
    "IMG_HEIGHT = 180\n",
    "IMG_WIDTH = 180\n",
    "\n",
    "data_dir_train = \"../Data/Rock-Paper-Scissor/train\"\n",
    "data_dir_test = \"../Data/Rock-Paper-Scissor/train\"\n",
    "\n",
    "train_data = ak.image_dataset_from_directory(\n",
    "    data_dir_train,\n",
    "    image_size=(IMG_HEIGHT, IMG_WIDTH),\n",
    ")\n",
    "\n",
    "test_data = ak.image_dataset_from_directory(\n",
    "    data_dir_test,\n",
    "    image_size=(IMG_HEIGHT, IMG_WIDTH),\n",
    ")"
   ]
  },
  {
   "cell_type": "code",
   "execution_count": null,
   "id": "822213de-ec19-411a-ad8e-56ab06c5e3f8",
   "metadata": {},
   "outputs": [],
   "source": [
    "model = ak.ImageClassifier(overwrite=True, max_trials=2)\n",
    "model.fit(train_data, validation_data=test_data, epochs=2)"
   ]
  },
  {
   "cell_type": "code",
   "execution_count": null,
   "id": "7299092d-d1a0-49c2-9a67-4af2eeefff4b",
   "metadata": {},
   "outputs": [],
   "source": [
    "file = \"../Data/gesture.png\"\n",
    "\n",
    "img = tf.keras.utils.load_img(file,target_size=(IMG_HEIGHT, IMG_WIDTH,3))\n",
    "img = np.array(img)\n",
    "\n",
    "plt.figure()\n",
    "plt.imshow(img)\n",
    "plt.show()"
   ]
  },
  {
   "cell_type": "code",
   "execution_count": null,
   "id": "67482233-830d-4e85-9bd0-70039a1ec80f",
   "metadata": {},
   "outputs": [],
   "source": [
    "pred = model.predict(img.reshape(1, IMG_HEIGHT, IMG_WIDTH, 3))\n",
    "print(pred)"
   ]
  },
  {
   "cell_type": "code",
   "execution_count": null,
   "id": "85881a0e-9653-4ef3-a64d-0f173e7593c6",
   "metadata": {},
   "outputs": [],
   "source": []
  }
 ],
 "metadata": {
  "kernelspec": {
   "display_name": "Python 3 (ipykernel)",
   "language": "python",
   "name": "python3"
  },
  "language_info": {
   "codemirror_mode": {
    "name": "ipython",
    "version": 3
   },
   "file_extension": ".py",
   "mimetype": "text/x-python",
   "name": "python",
   "nbconvert_exporter": "python",
   "pygments_lexer": "ipython3",
   "version": "3.10.9"
  }
 },
 "nbformat": 4,
 "nbformat_minor": 5
}
