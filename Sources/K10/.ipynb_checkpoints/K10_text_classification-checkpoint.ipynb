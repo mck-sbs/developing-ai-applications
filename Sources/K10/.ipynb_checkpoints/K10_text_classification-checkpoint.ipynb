{
 "cells": [
  {
   "cell_type": "code",
   "execution_count": null,
   "id": "BtwPHFQ7dq5C",
   "metadata": {
    "colab": {
     "base_uri": "https://localhost:8080/"
    },
    "id": "BtwPHFQ7dq5C",
    "outputId": "ef697c0d-8203-4491-fccd-b51db3f67f61"
   },
   "outputs": [],
   "source": [
    "# for the execution in google colab,\n",
    "# use the following line:\n",
    "\n",
    "!pip install autokeras"
   ]
  },
  {
   "cell_type": "markdown",
   "id": "11e1deb9-f203-4938-a7e0-9e3cf708f955",
   "metadata": {
    "id": "11e1deb9-f203-4938-a7e0-9e3cf708f955"
   },
   "source": [
    "load modules and data"
   ]
  },
  {
   "cell_type": "code",
   "execution_count": null,
   "id": "6df77660-8df4-48bb-9c8a-3fce12e5c541",
   "metadata": {
    "colab": {
     "base_uri": "https://localhost:8080/"
    },
    "id": "6df77660-8df4-48bb-9c8a-3fce12e5c541",
    "outputId": "f633752c-b789-465a-93e1-56e412018b54"
   },
   "outputs": [],
   "source": [
    "import pandas as pd\n",
    "from sklearn.model_selection import train_test_split\n",
    "import autokeras as ak\n",
    "import numpy as np\n",
    "\n",
    "# to ensure that the file is imported correctly in Colab, \n",
    "# we have to specify the character encoding and pandas using \n",
    "# the Python engine\n",
    "path = \"/content/IMDB-Dataset.csv\"\n",
    "data = pd.read_csv(path, delimiter=',', error_bad_lines=False, encoding='utf-8', engine=\"python\")\n",
    "print(data.head())\n",
    "print(data.info())"
   ]
  },
  {
   "cell_type": "code",
   "execution_count": null,
   "id": "91e511f6-9419-44b8-b1ee-e4616c993416",
   "metadata": {
    "colab": {
     "base_uri": "https://localhost:8080/"
    },
    "id": "91e511f6-9419-44b8-b1ee-e4616c993416",
    "outputId": "bbf0ede5-47f1-41da-9b61-bed1813e6e33"
   },
   "outputs": [],
   "source": [
    "data['review'] = data['review'].str.replace(\"<br />\",\" \")\n",
    "\n",
    "# Transform string to integer\n",
    "# new column, set all values to 0\n",
    "\n",
    "data['rating'] = 0\n",
    "\n",
    "# if the content of the 'sentiment' column is equal to 'positive', set\n",
    "# the entry in the 'rate' column to 1\n",
    "\n",
    "data.loc[data['sentiment'] == 'positive', 'rating'] = 1\n",
    "\n",
    "col = data['rating']\n",
    "\n",
    "# remove the 'sentiment' and 'rate' columns\n",
    "data.drop(['sentiment', 'rating'], axis = 1, inplace=True)\n",
    "\n",
    "print(data)\n",
    "print(col)\n",
    "\n",
    "# create four tables from the two tables\n",
    "train_data, test_data, train_col, test_col = train_test_split(data,col, test_size=0.2, random_state=42)"
   ]
  },
  {
   "cell_type": "code",
   "execution_count": null,
   "id": "4d1d0045-1879-4c53-b457-8a4b4e435cba",
   "metadata": {
    "id": "4d1d0045-1879-4c53-b457-8a4b4e435cba"
   },
   "outputs": [],
   "source": [
    "# transform data into arrays\n",
    "train_data = np.array(train_data)\n",
    "train_col = np.array(train_col)\n",
    "test_data = np.array(test_data)\n",
    "test_col = np.array(test_col)"
   ]
  },
  {
   "cell_type": "code",
   "execution_count": null,
   "id": "0332a25f-82df-4dc0-be8e-c74f37cc90c7",
   "metadata": {
    "colab": {
     "base_uri": "https://localhost:8080/"
    },
    "id": "0332a25f-82df-4dc0-be8e-c74f37cc90c7",
    "outputId": "31b850de-afcb-4fda-e448-78d0a2d4f487"
   },
   "outputs": [],
   "source": [
    "# build and train model\n",
    "model = ak.TextClassifier(max_trials=3, overwrite=True)\n",
    "model.fit(train_data, train_col, validation_data=(test_data, test_col), epochs=2)"
   ]
  },
  {
   "cell_type": "markdown",
   "id": "d224bc75-6906-4849-bd17-45893e5a289a",
   "metadata": {
    "id": "d224bc75-6906-4849-bd17-45893e5a289a"
   },
   "source": [
    "store best model"
   ]
  },
  {
   "cell_type": "code",
   "execution_count": null,
   "id": "4bbff244-7ba0-439f-9c07-921afb0788ed",
   "metadata": {
    "id": "4bbff244-7ba0-439f-9c07-921afb0788ed"
   },
   "outputs": [],
   "source": [
    "#best_model = model.export_model()\n",
    "#best_model.save('model.h5')"
   ]
  }
 ],
 "metadata": {
  "accelerator": "GPU",
  "colab": {
   "gpuType": "A100",
   "provenance": []
  },
  "kernelspec": {
   "display_name": "Python 3 (ipykernel)",
   "language": "python",
   "name": "python3"
  },
  "language_info": {
   "codemirror_mode": {
    "name": "ipython",
    "version": 3
   },
   "file_extension": ".py",
   "mimetype": "text/x-python",
   "name": "python",
   "nbconvert_exporter": "python",
   "pygments_lexer": "ipython3",
   "version": "3.10.9"
  }
 },
 "nbformat": 4,
 "nbformat_minor": 5
}
