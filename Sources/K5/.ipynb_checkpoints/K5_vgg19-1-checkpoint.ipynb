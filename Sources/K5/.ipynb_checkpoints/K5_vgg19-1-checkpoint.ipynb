{
 "cells": [
  {
   "cell_type": "markdown",
   "id": "11e1deb9-f203-4938-a7e0-9e3cf708f955",
   "metadata": {},
   "source": [
    "Loading Required Modules and data."
   ]
  },
  {
   "cell_type": "code",
   "execution_count": null,
   "id": "6df77660-8df4-48bb-9c8a-3fce12e5c541",
   "metadata": {},
   "outputs": [],
   "source": [
    "import pandas as pd\n",
    "import tensorflow as tf\n",
    "import matplotlib.pyplot as plt\n",
    "import numpy as np\n",
    "from tensorflow.keras.applications import vgg19"
   ]
  },
  {
   "cell_type": "markdown",
   "id": "6572a434-7dfc-4fcf-9a1e-ce041a29277f",
   "metadata": {},
   "source": [
    "load VGG19"
   ]
  },
  {
   "cell_type": "code",
   "execution_count": null,
   "id": "0096578f-5799-4873-aacc-cbf137ca4293",
   "metadata": {},
   "outputs": [],
   "source": [
    "model = vgg19.VGG19()\n",
    "\n",
    "model.summary()"
   ]
  },
  {
   "cell_type": "markdown",
   "id": "8f18abf7-5877-4691-9911-b679e66e83b5",
   "metadata": {},
   "source": [
    "load pic for classification"
   ]
  },
  {
   "cell_type": "code",
   "execution_count": null,
   "id": "07d2a7d6-c93e-41b5-ae9b-1ed0529e98db",
   "metadata": {},
   "outputs": [],
   "source": [
    "file = \"../Data/teddy.png\"\n",
    "\n",
    "img = tf.keras.utils.load_img(file,target_size=(224, 224,3))\n",
    "img = np.array(img)\n",
    "\n",
    "plt.figure()\n",
    "plt.imshow(img)\n",
    "plt.show()"
   ]
  },
  {
   "cell_type": "code",
   "execution_count": null,
   "id": "b80e7dad-86a0-43d9-be7d-ddd3017b20c1",
   "metadata": {},
   "outputs": [],
   "source": [
    "img = tf.keras.applications.vgg19.preprocess_input(img)\n",
    "\n",
    "pred = model.predict(img.reshape(1, 224, 224, 3))\n",
    "# print top five 5 predictions\n",
    "top_five_predict = vgg19.decode_predictions(pred, top=5)\n",
    "print(top_five_predict)"
   ]
  },
  {
   "cell_type": "code",
   "execution_count": null,
   "id": "3f47b4bd-ca36-4107-9389-504185ffe858",
   "metadata": {},
   "outputs": [],
   "source": []
  }
 ],
 "metadata": {
  "kernelspec": {
   "display_name": "Python 3 (ipykernel)",
   "language": "python",
   "name": "python3"
  },
  "language_info": {
   "codemirror_mode": {
    "name": "ipython",
    "version": 3
   },
   "file_extension": ".py",
   "mimetype": "text/x-python",
   "name": "python",
   "nbconvert_exporter": "python",
   "pygments_lexer": "ipython3",
   "version": "3.10.9"
  }
 },
 "nbformat": 4,
 "nbformat_minor": 5
}
