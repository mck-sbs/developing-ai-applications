{
 "cells": [
  {
   "cell_type": "markdown",
   "id": "11e1deb9-f203-4938-a7e0-9e3cf708f955",
   "metadata": {},
   "source": [
    "Loading Required Modules and data."
   ]
  },
  {
   "cell_type": "code",
   "execution_count": null,
   "id": "6df77660-8df4-48bb-9c8a-3fce12e5c541",
   "metadata": {},
   "outputs": [],
   "source": [
    "import pandas as pd\n",
    "import tensorflow as tf\n",
    "from sklearn.model_selection import train_test_split\n",
    "import matplotlib.pyplot as plt\n",
    "import keras_tuner\n",
    "\n",
    "(train_data, train_col), (test_data, test_col) = tf.keras.datasets.fashion_mnist.load_data()"
   ]
  },
  {
   "cell_type": "markdown",
   "id": "6572a434-7dfc-4fcf-9a1e-ce041a29277f",
   "metadata": {},
   "source": [
    "plot item"
   ]
  },
  {
   "cell_type": "code",
   "execution_count": null,
   "id": "0096578f-5799-4873-aacc-cbf137ca4293",
   "metadata": {},
   "outputs": [],
   "source": [
    "class_names = ['T-shirt/top', 'Trouser', 'Pullover', 'Dress', 'Coat', 'Sandal', 'Shirt', 'Sneaker', 'Bag', 'Ankle boot']\n",
    "\n",
    "index = 111\n",
    "\n",
    "plt.imshow(train_data[index], cmap='binary')\n",
    "plt.xlabel(class_names[train_col[index]])\n",
    "plt.show()"
   ]
  },
  {
   "cell_type": "markdown",
   "id": "d224bc75-6906-4849-bd17-45893e5a289a",
   "metadata": {},
   "source": [
    "define tuner parameters"
   ]
  },
  {
   "cell_type": "code",
   "execution_count": null,
   "id": "4bbff244-7ba0-439f-9c07-921afb0788ed",
   "metadata": {},
   "outputs": [],
   "source": [
    "def build_model(hp):\n",
    "    model = tf.keras.Sequential()\n",
    "    model.add(tf.keras.layers.Flatten(input_shape=(28, 28)))\n",
    "    model.add(tf.keras.layers.Dense(\n",
    "      hp.Choice('units', values=[100, 300, 500]),\n",
    "      activation='relu'))\n",
    "    model.add(tf.keras.layers.Dense(10, activation='softmax'))\n",
    "    learning_rate = hp.Choice('learning_rate', values=[0.01, 0.001, 0.0001])\n",
    "    model.compile(optimizer=tf.keras.optimizers.Adam(learning_rate=learning_rate), loss='sparse_categorical_crossentropy', metrics=['accuracy'])\n",
    "    return model\n",
    "\n",
    "tuner = keras_tuner.GridSearch(\n",
    "    build_model,\n",
    "    objective='val_accuracy',\n",
    "    project_name='mnistFashion',\n",
    "    overwrite=True)"
   ]
  },
  {
   "cell_type": "markdown",
   "id": "a96b956d-d1da-4db1-a0d1-035555b02082",
   "metadata": {},
   "source": [
    "start procedure"
   ]
  },
  {
   "cell_type": "code",
   "execution_count": null,
   "id": "fc5b518f-55da-4405-8d3a-25ef48781d2d",
   "metadata": {},
   "outputs": [],
   "source": [
    "cb_early = tf.keras.callbacks.EarlyStopping(monitor='val_loss', patience=3)\n",
    "\n",
    "tuner.search(train_data, train_col, epochs=100, validation_data=(test_data, test_col), callbacks=[cb_early])"
   ]
  },
  {
   "cell_type": "markdown",
   "id": "9c53030c-072a-4421-9045-2a67e48be580",
   "metadata": {},
   "source": [
    "get best hyperparameters"
   ]
  },
  {
   "cell_type": "code",
   "execution_count": null,
   "id": "606bd76b-36d0-4ca0-9e4d-c211b45e9758",
   "metadata": {},
   "outputs": [],
   "source": [
    "best_params_list = tuner.get_best_hyperparameters()\n",
    "best_params = best_params_list[0]\n",
    "print(best_params.get('units'))\n",
    "print(best_params.get('learning_rate'))"
   ]
  },
  {
   "cell_type": "markdown",
   "id": "4bf27c87-a340-41f8-acf8-4794c151bd2c",
   "metadata": {},
   "source": [
    "build ANN with best hyperparameters"
   ]
  },
  {
   "cell_type": "code",
   "execution_count": null,
   "id": "88fa1ddc-29e7-4842-a31e-25d3633b0b0f",
   "metadata": {},
   "outputs": [],
   "source": [
    "model = tuner.hypermodel.build(best_params)\n",
    "model.fit(train_data, train_col, epochs=100, validation_data=(test_data, test_col),callbacks=[cb_early])"
   ]
  },
  {
   "cell_type": "code",
   "execution_count": null,
   "id": "2a14199f-d67b-48cb-9c72-53b2262a0e41",
   "metadata": {},
   "outputs": [],
   "source": []
  }
 ],
 "metadata": {
  "kernelspec": {
   "display_name": "Python 3 (ipykernel)",
   "language": "python",
   "name": "python3"
  },
  "language_info": {
   "codemirror_mode": {
    "name": "ipython",
    "version": 3
   },
   "file_extension": ".py",
   "mimetype": "text/x-python",
   "name": "python",
   "nbconvert_exporter": "python",
   "pygments_lexer": "ipython3",
   "version": "3.10.9"
  }
 },
 "nbformat": 4,
 "nbformat_minor": 5
}
